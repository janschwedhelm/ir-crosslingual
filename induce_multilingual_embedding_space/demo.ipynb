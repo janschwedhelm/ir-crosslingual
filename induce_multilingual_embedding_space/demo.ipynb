{
 "cells": [
  {
   "cell_type": "code",
   "execution_count": 1,
   "metadata": {},
   "outputs": [],
   "source": [
    "import io\n",
    "import os\n",
    "import numpy as np\n",
    "from numpy.linalg import svd\n",
    "from sklearn.metrics.pairwise import cosine_similarity\n",
    "from mono_embedding_loading import load_monolingual_embedding\n",
    "from subspace_creation import create_translation_dictionary, extract_seed_dictionary, align_monolingual_subspaces\n",
    "from multi_embedding_learning import learn_projection_matrix, LEARNING_METHODS\n",
    "from multi_embedding_evaluation import evaluate_multilingual_embedding\n",
    "from googletrans import Translator"
   ]
  },
  {
   "cell_type": "markdown",
   "metadata": {},
   "source": [
    "# Inducing multilingual word embedding - DEMO"
   ]
  },
  {
   "cell_type": "markdown",
   "metadata": {},
   "source": [
    "### Load fastText monolingual embeddings"
   ]
  },
  {
   "cell_type": "code",
   "execution_count": 6,
   "metadata": {},
   "outputs": [],
   "source": [
    "emb_en, id2word_en, word2id_en = load_monolingual_embedding(path = 'fastText_mon_emb/wiki.en.vec', n_max=50000)\n",
    "emb_fr, id2word_fr, word2id_fr = load_monolingual_embedding(path = 'fastText_mon_emb/wiki.fr.vec', n_max=50000)"
   ]
  },
  {
   "cell_type": "code",
   "execution_count": 4,
   "metadata": {},
   "outputs": [
    {
     "name": "stdout",
     "output_type": "stream",
     "text": [
      "2.97 s ± 304 ms per loop (mean ± std. dev. of 7 runs, 1 loop each)\n"
     ]
    }
   ],
   "source": [
    "%timeit load_monolingual_embedding(path = 'fastText_mon_emb/wiki.en.vec', n_max=50000)"
   ]
  },
  {
   "cell_type": "code",
   "execution_count": 7,
   "metadata": {},
   "outputs": [
    {
     "name": "stdout",
     "output_type": "stream",
     "text": [
      "(50000, 300)\n",
      "{0: ',', 1: '.', 2: 'the', 3: '</s>', 4: 'of', 5: '-', 6: 'in', 7: 'and', 8: \"'\", 9: ')', 10: '(', 11: 'to', 12: 'a', 13: 'is', 14: 'was', 15: 'on', 16: 's', 17: 'for', 18: 'as', 19: 'by', 20: 'that', 21: 'it', 22: 'with', 23: 'from', 24: 'at', 25: 'he', 26: 'this', 27: 'be', 28: 'i', 29: 'an', 30: 'utc', 31: 'his', 32: 'not', 33: '–', 34: 'are', 35: 'or', 36: 'talk', 37: 'which', 38: 'also', 39: 'has', 40: 'were', 41: 'but', 42: 'have', 43: '#', 44: 'one', 45: 'rd', 46: 'new', 47: 'first', 48: 'page', 49: 'no', 50: 'you', 51: 'they', 52: 'had', 53: 'article', 54: 't', 55: 'who', 56: '?', 57: 'all', 58: 'their', 59: 'there', 60: 'been', 61: 'made', 62: 'its', 63: 'people', 64: 'may', 65: 'after', 66: '%', 67: 'other', 68: 'should', 69: 'two', 70: 'score', 71: 'her', 72: 'can', 73: 'would', 74: 'more', 75: 'if', 76: 'she', 77: 'about', 78: 'when', 79: 'time', 80: 'team', 81: 'american', 82: 'such', 83: 'th', 84: 'do', 85: 'discussion', 86: 'links', 87: 'only', 88: 'some', 89: 'up', 90: 'see', 91: 'united', 92: 'years', 93: 'into', 94: '/', 95: 'school', 96: 'so', 97: 'world', 98: 'university', 99: 'during'}\n"
     ]
    }
   ],
   "source": [
    "print(emb_en.shape)\n",
    "print({k: id2word_en[k] for k in list(id2word_en)[:100]})"
   ]
  },
  {
   "cell_type": "markdown",
   "metadata": {},
   "source": [
    "### Optional: Create expert dictionary using Google Translate API"
   ]
  },
  {
   "cell_type": "code",
   "execution_count": null,
   "metadata": {},
   "outputs": [],
   "source": [
    "# does not work since Google API's request limit is exceeded -> use MUSE expert dictionary\n",
    "google_dict = create_translation_dictionary(id2word_en.values(), 'en', 'fr', 20000, write_to_path='expert_dictionaries/GOOGLE_en-fr.0-20000.txt')"
   ]
  },
  {
   "cell_type": "code",
   "execution_count": null,
   "metadata": {},
   "outputs": [],
   "source": [
    "print({k: google_dict[k] for k in list(google_dict)[:10]})"
   ]
  },
  {
   "cell_type": "markdown",
   "metadata": {},
   "source": [
    "### Extract seed dictionary from expert dictionary using the vocabularies from monolingual word embeddings"
   ]
  },
  {
   "cell_type": "code",
   "execution_count": 8,
   "metadata": {
    "scrolled": true
   },
   "outputs": [
    {
     "name": "stdout",
     "output_type": "stream",
     "text": [
      "Found 10369 valid translation pairs.\n",
      "503 other pairs contained at least one unknown word (0 in source language, 503 in target language).\n",
      "\n",
      " [('the', 'le'), ('the', 'les'), ('the', 'la'), ('and', 'et'), ('was', 'fut'), ('was', 'etait'), ('was', 'était'), ('for', 'pour'), ('that', 'que'), ('that', 'cela'), ('with', 'avec'), ('from', 'du'), ('from', 'de'), ('from', 'depuis'), ('this', 'ceci'), ('this', 'cet'), ('this', 'cette'), ('this', 'cela'), ('this', 'ce'), ('utc', 'utc'), ('his', 'sa'), ('his', 'his'), ('his', 'ses'), ('his', 'son'), ('not', 'not'), ('not', 'non'), ('not', 'pas'), ('are', 'sont'), ('talk', 'parler'), ('talk', 'parle'), ('talk', 'talk'), ('talk', 'parlez'), ('which', 'lesquels'), ('which', 'laquelle'), ('which', 'lequel'), ('also', 'également'), ('also', 'aussi'), ('were', 'étaient'), ('but', 'mais'), ('have', 'avoir'), ('have', 'ont'), ('one', 'un'), ('one', 'une'), ('one', 'one'), ('new', 'nouveau'), ('new', 'nouvelle'), ('new', 'nouvelles'), ('new', 'nouveaux'), ('new', 'nouveautés'), ('first', 'première'), ('first', 'premières'), ('first', 'premier'), ('first', 'premiers'), ('page', 'pages'), ('page', 'page'), ('you', 'vous'), ('you', 'tu'), ('you', 'toi'), ('you', 'you'), ('they', 'elles'), ('they', 'ils'), ('they', 'eux'), ('had', 'avait'), ('had', 'avaient'), ('had', 'avais'), ('article', 'article'), ('who', 'qui'), ('who', 'oms'), ('who', 'who'), ('all', 'toute'), ('all', 'toutes'), ('all', 'tous'), ('all', 'tout'), ('all', 'all'), ('their', 'leur'), ('their', 'leurs'), ('there', 'là'), ('made', 'fait'), ('made', 'fabriqués'), ('made', 'faite'), ('made', 'fabriqué'), ('its', 'sa'), ('its', 'ses'), ('its', 'son'), ('people', 'gens'), ('people', 'personnes'), ('may', 'mai'), ('may', 'may'), ('may', 'peut'), ('after', 'apres'), ('after', 'after'), ('after', 'après'), ('other', 'autre'), ('other', 'autres'), ('should', 'devrait'), ('should', 'devraient'), ('should', 'devrais'), ('two', 'two'), ('two', 'deux'), ('score', 'marquer')]\n"
     ]
    }
   ],
   "source": [
    "seed_dict_indices_train, seed_dict_words_train = extract_seed_dictionary('expert_dictionaries/MUSE_en-fr.0-5000.txt', s_word2id=word2id_en, t_word2id=word2id_fr)\n",
    "print('\\n', seed_dict_words_train[:100])"
   ]
  },
  {
   "cell_type": "code",
   "execution_count": 3,
   "metadata": {},
   "outputs": [
    {
     "name": "stdout",
     "output_type": "stream",
     "text": [
      "12.8 ms ± 288 µs per loop (mean ± std. dev. of 7 runs, 100 loops each)\n"
     ]
    }
   ],
   "source": [
    "%timeit extract_seed_dictionary('expert_dictionaries/MUSE_en-fr.0-5000.txt', s_word2id=word2id_en, t_word2id=word2id_fr)"
   ]
  },
  {
   "cell_type": "markdown",
   "metadata": {},
   "source": [
    "### Create aligned monolingual subspaces from seed dictionary"
   ]
  },
  {
   "cell_type": "code",
   "execution_count": 9,
   "metadata": {},
   "outputs": [
    {
     "name": "stdout",
     "output_type": "stream",
     "text": [
      "Resulting subspace dimension: (10369, 300)\n"
     ]
    }
   ],
   "source": [
    "X_s_train, X_t_train = align_monolingual_subspaces(emb_en, emb_fr, seed_dict_indices_train)"
   ]
  },
  {
   "cell_type": "markdown",
   "metadata": {},
   "source": [
    "### Put it all together: Learn projection matrix W from training dictionary"
   ]
  },
  {
   "cell_type": "code",
   "execution_count": 2,
   "metadata": {},
   "outputs": [
    {
     "name": "stdout",
     "output_type": "stream",
     "text": [
      "Found 10369 valid translation pairs.\n",
      "503 other pairs contained at least one unknown word (0 in source language, 503 in target language).\n",
      "Resulting subspace dimension: (10369, 300)\n"
     ]
    }
   ],
   "source": [
    "W = learn_projection_matrix('fastText_mon_emb/wiki.en.vec', 'fastText_mon_emb/wiki.fr.vec', 'expert_dictionaries/MUSE_en-fr.0-5000.txt')"
   ]
  },
  {
   "cell_type": "markdown",
   "metadata": {},
   "source": [
    "### Apply learned projection matrix W to test dictionary using evaluation measure precision@k, k = 1, 5, 10"
   ]
  },
  {
   "cell_type": "code",
   "execution_count": 3,
   "metadata": {},
   "outputs": [
    {
     "name": "stdout",
     "output_type": "stream",
     "text": [
      "Found 2943 valid translation pairs.\n",
      "0 other pairs contained at least one unknown word (0 in source language, 0 in target language).\n"
     ]
    }
   ],
   "source": [
    "accuracy_1, translations_1 = evaluate_multilingual_embedding('fastText_mon_emb/wiki.en.vec', 'fastText_mon_emb/wiki.fr.vec', W, 'expert_dictionaries/MUSE_en-fr.5000-6500.txt', k=1)"
   ]
  },
  {
   "cell_type": "code",
   "execution_count": 19,
   "metadata": {},
   "outputs": [
    {
     "name": "stdout",
     "output_type": "stream",
     "text": [
      "Accuracy with k=1: 0.752\n",
      "------------------------------------------------------------\n",
      "Examples of Top 1 translations:\n",
      "recommend -> ['recommander']\n",
      "geographical -> ['géographiques']\n",
      "developer -> ['développeur']\n"
     ]
    }
   ],
   "source": [
    "print('Accuracy with k=1: {}'.format(accuracy_1))\n",
    "print('-' * 60)\n",
    "print('Examples of Top 1 translations:')\n",
    "for word in ['recommend', 'geographical', 'developer']:\n",
    "    print('{} -> {}'.format(word, translations_1[word]))"
   ]
  },
  {
   "cell_type": "code",
   "execution_count": 17,
   "metadata": {},
   "outputs": [
    {
     "name": "stdout",
     "output_type": "stream",
     "text": [
      "Found 2943 valid translation pairs.\n",
      "0 other pairs contained at least one unknown word (0 in source language, 0 in target language).\n"
     ]
    }
   ],
   "source": [
    "accuracy_5, translations_5 = evaluate_multilingual_embedding('fastText_mon_emb/wiki.en.vec', 'fastText_mon_emb/wiki.fr.vec', W, 'expert_dictionaries/MUSE_en-fr.5000-6500.txt', k=5)"
   ]
  },
  {
   "cell_type": "code",
   "execution_count": 21,
   "metadata": {},
   "outputs": [
    {
     "name": "stdout",
     "output_type": "stream",
     "text": [
      "Accuracy with k=5: 0.8773333333333333\n",
      "------------------------------------------------------------\n",
      "Examples of Top 5 translations:\n",
      "recommend -> ['recommander', 'recommande', 'proposerais', 'demanderais', 'souhaitable']\n",
      "geographical -> ['géographiques', 'geographique', 'biogéographique', 'géographies', 'géographique']\n",
      "developer -> ['développeur', 'développeurs', 'softworks', 'programmeur', 'solidworks']\n"
     ]
    }
   ],
   "source": [
    "print('Accuracy with k=5: {}'.format(accuracy_5))\n",
    "print('-' * 60)\n",
    "print('Examples of Top 5 translations:')\n",
    "for word in ['recommend', 'geographical', 'developer']:\n",
    "    print('{} -> {}'.format(word, translations_5[word]))"
   ]
  },
  {
   "cell_type": "code",
   "execution_count": 20,
   "metadata": {},
   "outputs": [
    {
     "name": "stdout",
     "output_type": "stream",
     "text": [
      "Found 2943 valid translation pairs.\n",
      "0 other pairs contained at least one unknown word (0 in source language, 0 in target language).\n"
     ]
    }
   ],
   "source": [
    "accuracy_10, translations_10 = evaluate_multilingual_embedding('fastText_mon_emb/wiki.en.vec', 'fastText_mon_emb/wiki.fr.vec', W, 'expert_dictionaries/MUSE_en-fr.5000-6500.txt', k=10)"
   ]
  },
  {
   "cell_type": "code",
   "execution_count": 22,
   "metadata": {},
   "outputs": [
    {
     "name": "stdout",
     "output_type": "stream",
     "text": [
      "Accuracy with k=10: 0.9006666666666666\n",
      "------------------------------------------------------------\n",
      "Examples of Top 5 translations:\n",
      "recommend -> ['recommander', 'recommande', 'proposerais', 'demanderais', 'souhaitable', 'apprécierais', 'conseillerais', 'proposerai', 'envisagez', 'déconseiller']\n",
      "geographical -> ['géographiques', 'geographique', 'biogéographique', 'géographies', 'géographique', 'biogéographiques', 'géographiquement', 'géomorphologique', 'phytogéographie', 'géomorphologiques']\n",
      "developer -> ['développeur', 'développeurs', 'softworks', 'programmeur', 'solidworks', 'activision', 'software', 'microïds', 'entrepreneur', 'concepteur']\n"
     ]
    }
   ],
   "source": [
    "print('Accuracy with k=10: {}'.format(accuracy_10))\n",
    "print('-' * 60)\n",
    "print('Examples of Top 5 translations:')\n",
    "for word in ['recommend', 'geographical', 'developer']:\n",
    "    print('{} -> {}'.format(word, translations_10[word]))"
   ]
  },
  {
   "cell_type": "code",
   "execution_count": null,
   "metadata": {},
   "outputs": [],
   "source": []
  }
 ],
 "metadata": {
  "kernelspec": {
   "display_name": "Python 3",
   "language": "python",
   "name": "python3"
  },
  "language_info": {
   "codemirror_mode": {
    "name": "ipython",
    "version": 3
   },
   "file_extension": ".py",
   "mimetype": "text/x-python",
   "name": "python",
   "nbconvert_exporter": "python",
   "pygments_lexer": "ipython3",
   "version": "3.7.2"
  }
 },
 "nbformat": 4,
 "nbformat_minor": 2
}
