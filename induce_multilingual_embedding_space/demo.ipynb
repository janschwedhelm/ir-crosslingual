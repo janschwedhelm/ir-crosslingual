{
 "cells": [
  {
   "cell_type": "code",
   "execution_count": 2,
   "metadata": {},
   "outputs": [],
   "source": [
    "import io\n",
    "import os\n",
    "import numpy as np\n",
    "from numpy.linalg import svd\n",
    "from sklearn.metrics.pairwise import cosine_similarity\n",
    "from mono_embedding_loading import load_monolingual_embedding\n",
    "from subspace_creation import create_translation_dictionary, extract_seed_dictionary, align_monolingual_subspaces\n",
    "from multi_embedding_learning import projection_learning, LEARNING_METHODS\n",
    "from googletrans import Translator"
   ]
  },
  {
   "cell_type": "markdown",
   "metadata": {},
   "source": [
    "# Inducing multilingual word embedding - DEMO"
   ]
  },
  {
   "cell_type": "markdown",
   "metadata": {},
   "source": [
    "### Load fastText monolingual embeddings"
   ]
  },
  {
   "cell_type": "code",
   "execution_count": 3,
   "metadata": {},
   "outputs": [],
   "source": [
    "emb_en, id2word_en, word2id_en = load_monolingual_embedding(path = 'fastText_mon_emb/wiki.en.vec', n_max=50000)\n",
    "emb_fr, id2word_fr, word2id_fr = load_monolingual_embedding(path = 'fastText_mon_emb/wiki.fr.vec', n_max=50000)"
   ]
  },
  {
   "cell_type": "code",
   "execution_count": 4,
   "metadata": {},
   "outputs": [
    {
     "name": "stdout",
     "output_type": "stream",
     "text": [
      "(50000, 300)\n",
      "{0: ',', 1: '.', 2: 'the', 3: '</s>', 4: 'of', 5: '-', 6: 'in', 7: 'and', 8: \"'\", 9: ')', 10: '(', 11: 'to', 12: 'a', 13: 'is', 14: 'was', 15: 'on', 16: 's', 17: 'for', 18: 'as', 19: 'by', 20: 'that', 21: 'it', 22: 'with', 23: 'from', 24: 'at', 25: 'he', 26: 'this', 27: 'be', 28: 'i', 29: 'an'}\n"
     ]
    }
   ],
   "source": [
    "print(emb_en.shape)\n",
    "print({k: id2word_en[k] for k in list(id2word_en)[:30]})"
   ]
  },
  {
   "cell_type": "markdown",
   "metadata": {},
   "source": [
    "### Optional: Create expert dictionary using Google Translate API"
   ]
  },
  {
   "cell_type": "code",
   "execution_count": null,
   "metadata": {},
   "outputs": [],
   "source": [
    "# does not work since Google API's request limit is exceeded -> use MUSE expert dictionary\n",
    "google_dict = create_translation_dictionary(id2word_en.values(), 'en', 'fr', 20000, write_to_path='expert_dictionaries/GOOGLE_en-fr.0-20000.txt')"
   ]
  },
  {
   "cell_type": "code",
   "execution_count": null,
   "metadata": {},
   "outputs": [],
   "source": [
    "print({k: google_dict[k] for k in list(google_dict)[:10]})"
   ]
  },
  {
   "cell_type": "markdown",
   "metadata": {},
   "source": [
    "### Extract seed dictionary from expert dictionary using the vocabularies from monolingual word embeddings"
   ]
  },
  {
   "cell_type": "code",
   "execution_count": 4,
   "metadata": {},
   "outputs": [
    {
     "name": "stdout",
     "output_type": "stream",
     "text": [
      "Found 10369 valid translation pairs.\n",
      "503 other pairs contained at least one unknown word (0 in source language, 503 in target language).\n",
      "\n",
      " [('the', 'le'), ('the', 'les'), ('the', 'la'), ('and', 'et'), ('was', 'fut'), ('was', 'etait'), ('was', 'était'), ('for', 'pour'), ('that', 'que'), ('that', 'cela'), ('with', 'avec'), ('from', 'du'), ('from', 'de'), ('from', 'depuis'), ('this', 'ceci'), ('this', 'cet'), ('this', 'cette'), ('this', 'cela'), ('this', 'ce'), ('utc', 'utc'), ('his', 'sa'), ('his', 'his'), ('his', 'ses'), ('his', 'son'), ('not', 'not'), ('not', 'non'), ('not', 'pas'), ('are', 'sont'), ('talk', 'parler'), ('talk', 'parle'), ('talk', 'talk'), ('talk', 'parlez'), ('which', 'lesquels'), ('which', 'laquelle'), ('which', 'lequel'), ('also', 'également'), ('also', 'aussi'), ('were', 'étaient'), ('but', 'mais'), ('have', 'avoir'), ('have', 'ont'), ('one', 'un'), ('one', 'une'), ('one', 'one'), ('new', 'nouveau'), ('new', 'nouvelle'), ('new', 'nouvelles'), ('new', 'nouveaux'), ('new', 'nouveautés'), ('first', 'première'), ('first', 'premières'), ('first', 'premier'), ('first', 'premiers'), ('page', 'pages'), ('page', 'page'), ('you', 'vous'), ('you', 'tu'), ('you', 'toi'), ('you', 'you'), ('they', 'elles'), ('they', 'ils'), ('they', 'eux'), ('had', 'avait'), ('had', 'avaient'), ('had', 'avais'), ('article', 'article'), ('who', 'qui'), ('who', 'oms'), ('who', 'who'), ('all', 'toute'), ('all', 'toutes'), ('all', 'tous'), ('all', 'tout'), ('all', 'all'), ('their', 'leur'), ('their', 'leurs'), ('there', 'là'), ('made', 'fait'), ('made', 'fabriqués'), ('made', 'faite'), ('made', 'fabriqué'), ('its', 'sa'), ('its', 'ses'), ('its', 'son'), ('people', 'gens'), ('people', 'personnes'), ('may', 'mai'), ('may', 'may'), ('may', 'peut'), ('after', 'apres'), ('after', 'after'), ('after', 'après'), ('other', 'autre'), ('other', 'autres'), ('should', 'devrait'), ('should', 'devraient'), ('should', 'devrais'), ('two', 'two'), ('two', 'deux'), ('score', 'marquer')]\n"
     ]
    }
   ],
   "source": [
    "seed_dict_indices_train, seed_dict_words_train = extract_seed_dictionary('expert_dictionaries/MUSE_en-fr.0-5000.txt', s_word2id=word2id_en, t_word2id=word2id_fr)\n",
    "print('\\n', seed_dict_words_train[:100])"
   ]
  },
  {
   "cell_type": "markdown",
   "metadata": {},
   "source": [
    "### Create aligned monolingual subspaces from seed dictionary"
   ]
  },
  {
   "cell_type": "code",
   "execution_count": 5,
   "metadata": {},
   "outputs": [
    {
     "name": "stdout",
     "output_type": "stream",
     "text": [
      "Resulting subspace dimension: (10369, 300)\n"
     ]
    }
   ],
   "source": [
    "X_s_train, X_t_train = align_monolingual_subspaces(emb_en, emb_fr, seed_dict_indices_train)"
   ]
  },
  {
   "cell_type": "markdown",
   "metadata": {},
   "source": [
    "### Put it all together: Learn projection matrix W from training dictionary"
   ]
  },
  {
   "cell_type": "code",
   "execution_count": 6,
   "metadata": {},
   "outputs": [
    {
     "name": "stdout",
     "output_type": "stream",
     "text": [
      "Found 10369 valid translation pairs.\n",
      "503 other pairs contained at least one unknown word (0 in source language, 503 in target language).\n",
      "Resulting subspace dimension: (10369, 300)\n"
     ]
    }
   ],
   "source": [
    "W = projection_learning('fastText_mon_emb/wiki.en.vec', 'fastText_mon_emb/wiki.fr.vec', 'expert_dictionaries/MUSE_en-fr.0-5000.txt')"
   ]
  },
  {
   "cell_type": "markdown",
   "metadata": {},
   "source": [
    "### Apply learned projection matrix W to test dictionary"
   ]
  },
  {
   "cell_type": "code",
   "execution_count": 7,
   "metadata": {},
   "outputs": [
    {
     "name": "stdout",
     "output_type": "stream",
     "text": [
      "Found 2729 valid translation pairs.\n",
      "214 other pairs contained at least one unknown word (0 in source language, 214 in target language).\n"
     ]
    }
   ],
   "source": [
    "seed_dict_indices_test, seed_dict_words_test = extract_seed_dictionary('expert_dictionaries/MUSE_en-fr.5000-6500.txt', s_word2id=word2id_en, t_word2id=word2id_fr)"
   ]
  },
  {
   "cell_type": "code",
   "execution_count": 8,
   "metadata": {},
   "outputs": [
    {
     "name": "stdout",
     "output_type": "stream",
     "text": [
      "Resulting subspace dimension: (2729, 300)\n"
     ]
    }
   ],
   "source": [
    "X_s_test, X_t_test = align_monolingual_subspaces(emb_en, emb_fr, seed_dict_indices_test)"
   ]
  },
  {
   "cell_type": "code",
   "execution_count": 9,
   "metadata": {},
   "outputs": [
    {
     "data": {
      "text/plain": [
       "0.4789300109930377"
      ]
     },
     "execution_count": 9,
     "metadata": {},
     "output_type": "execute_result"
    }
   ],
   "source": [
    "accuracy = 0\n",
    "for i in range(len(X_s_test)):\n",
    "    accuracy += int(cosine_similarity((X_s_test[i] @ W).reshape(1,-1), X_t_test).argmax() == i)\n",
    "accuracy = accuracy/len(X_s_test)\n",
    "accuracy"
   ]
  },
  {
   "cell_type": "code",
   "execution_count": 10,
   "metadata": {},
   "outputs": [],
   "source": [
    "seed_dict_indices_unique = []\n",
    "for tup in seed_dict_indices_test:\n",
    "    if tup[0] not in [t[0] for t in seed_dict_indices_unique]:\n",
    "        seed_dict_indices_unique.append(tup)\n",
    "\n",
    "seed_dict_words_unique = []\n",
    "for tup in seed_dict_words_test:\n",
    "    if tup[0] not in [t[0] for t in seed_dict_words_unique]:\n",
    "        seed_dict_words_unique.append(tup)       "
   ]
  },
  {
   "cell_type": "code",
   "execution_count": 11,
   "metadata": {},
   "outputs": [
    {
     "name": "stdout",
     "output_type": "stream",
     "text": [
      "Resulting subspace dimension: (1488, 300)\n"
     ]
    }
   ],
   "source": [
    "X_s_test2, X_t_test2 = align_monolingual_subspaces(emb_en, emb_fr, seed_dict_indices_unique)"
   ]
  },
  {
   "cell_type": "code",
   "execution_count": 12,
   "metadata": {},
   "outputs": [
    {
     "data": {
      "text/plain": [
       "0.8145161290322581"
      ]
     },
     "execution_count": 12,
     "metadata": {},
     "output_type": "execute_result"
    }
   ],
   "source": [
    "accuracy = 0\n",
    "for i in range(len(X_s_test2)):\n",
    "    accuracy += int(cosine_similarity((X_s_test2[i] @ W).reshape(1,-1), X_t_test2).argmax() == i)\n",
    "accuracy = accuracy/len(X_s_test2)\n",
    "accuracy"
   ]
  }
 ],
 "metadata": {
  "kernelspec": {
   "display_name": "Python 3",
   "language": "python",
   "name": "python3"
  },
  "language_info": {
   "codemirror_mode": {
    "name": "ipython",
    "version": 3
   },
   "file_extension": ".py",
   "mimetype": "text/x-python",
   "name": "python",
   "nbconvert_exporter": "python",
   "pygments_lexer": "ipython3",
   "version": "3.7.2"
  }
 },
 "nbformat": 4,
 "nbformat_minor": 2
}
