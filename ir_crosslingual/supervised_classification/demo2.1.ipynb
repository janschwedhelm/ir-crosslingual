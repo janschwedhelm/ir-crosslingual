{
 "cells": [
  {
   "cell_type": "code",
   "execution_count": 255,
   "metadata": {},
   "outputs": [],
   "source": [
    "import pandas as pd\n",
    "import numpy as np\n",
    "import importlib, os, math\n",
    "\n",
    "import warnings\n",
    "warnings.filterwarnings('ignore')\n",
    "\n",
    "from sklearn.linear_model import LogisticRegression\n",
    "\n",
    "from ir_crosslingual.induce_multilingual_embedding_space import mono_embedding_loading as mono\n",
    "from ir_crosslingual.induce_multilingual_embedding_space import multi_embedding_learning as multi\n",
    "from ir_crosslingual.induce_multilingual_embedding_space import subspace_creation as sub"
   ]
  },
  {
   "cell_type": "code",
   "execution_count": 256,
   "metadata": {},
   "outputs": [
    {
     "data": {
      "text/plain": [
       "<module 'ir_crosslingual.features.text_based' from '/Users/i500969/Desktop/Admin/Uni-Mannheim/02_Courses/2020_FSS/Information-Retrieval/03_Project/03_Implementation/04_Feature-Extraction/ir-crosslingual/ir_crosslingual/features/text_based.py'>"
      ]
     },
     "execution_count": 256,
     "metadata": {},
     "output_type": "execute_result"
    }
   ],
   "source": [
    "from ir_crosslingual.features import text_based\n",
    "importlib.reload(text_based)"
   ]
  },
  {
   "cell_type": "code",
   "execution_count": 257,
   "metadata": {},
   "outputs": [
    {
     "data": {
      "text/plain": [
       "<module 'ir_crosslingual.features.vector_based' from '/Users/i500969/Desktop/Admin/Uni-Mannheim/02_Courses/2020_FSS/Information-Retrieval/03_Project/03_Implementation/04_Feature-Extraction/ir-crosslingual/ir_crosslingual/features/vector_based.py'>"
      ]
     },
     "execution_count": 257,
     "metadata": {},
     "output_type": "execute_result"
    }
   ],
   "source": [
    "from ir_crosslingual.features import vector_based\n",
    "importlib.reload(vector_based)"
   ]
  },
  {
   "cell_type": "code",
   "execution_count": 258,
   "metadata": {},
   "outputs": [
    {
     "data": {
      "text/plain": [
       "<module 'ir_crosslingual.supervised_classification.sentence_vector_creation' from '/Users/i500969/Desktop/Admin/Uni-Mannheim/02_Courses/2020_FSS/Information-Retrieval/03_Project/03_Implementation/04_Feature-Extraction/ir-crosslingual/ir_crosslingual/supervised_classification/sentence_vector_creation.py'>"
      ]
     },
     "execution_count": 258,
     "metadata": {},
     "output_type": "execute_result"
    }
   ],
   "source": [
    "from ir_crosslingual.supervised_classification import sentence_vector_creation as sentence\n",
    "importlib.reload(sentence)"
   ]
  },
  {
   "cell_type": "markdown",
   "metadata": {},
   "source": [
    "# Global variables and functions"
   ]
  },
  {
   "cell_type": "code",
   "execution_count": 259,
   "metadata": {},
   "outputs": [],
   "source": [
    "data_path = '../../../../../04_Data/'"
   ]
  },
  {
   "cell_type": "code",
   "execution_count": 260,
   "metadata": {},
   "outputs": [],
   "source": [
    "# TODO/IDEA: Include \":\" as special punctuation to look for in equal_occurrence_punctuation\n",
    "tb_features = {'difference_count_words': [text_based.difference_count_tokens, 'preprocessed', False],\n",
    "            'difference_count_punctuation': [text_based.difference_count_tokens, 'preprocessed', True],\n",
    "            'equal_occ_question': [text_based.equal_occurrence_punctuation, 'preprocessed', '?'],\n",
    "            'equal_occ_exclamation': [text_based.equal_occurrence_punctuation, 'preprocessed', '!']\n",
    "           }\n",
    "for word_group in 'noun verb adverb adjective wh pronoun'.split():\n",
    "    tb_features['difference_count_{}'.format(word_group)] = [text_based.difference_count_nltk_tags, 'preprocessed', word_group]"
   ]
  },
  {
   "cell_type": "code",
   "execution_count": 261,
   "metadata": {},
   "outputs": [],
   "source": [
    "vb_features = {'cosine_similarity': [vector_based.cosine_sim, 'vec']\n",
    "            # 'euclidean_distance': [vector_based.euclidean_dist, 'vec'],\n",
    "            # 'jenson_shannon_distance': [vector_based.jenson_shannon_dist, 'vec'],\n",
    "            # 'wasserstein_distance': [vector_based.wasserstein_dist, 'vec'],\n",
    "            # 'greedy_association_similarity': [vector_based.gas, 'word_embeddings']\n",
    "           }"
   ]
  },
  {
   "cell_type": "code",
   "execution_count": 262,
   "metadata": {},
   "outputs": [],
   "source": [
    "# Copied from dataset_creation.py as I haven't merged it into this branch yet\n",
    "def create_datasets(europarl_dataset: str, n_train: int, frac_pos: float, n_test: int):\n",
    "    if isinstance(europarl_dataset, str) and os.path.isfile(europarl_dataset):\n",
    "        _, df = tmx_dataframe(europarl_dataset)\n",
    "    else:\n",
    "        df = europarl_dataset\n",
    "    n_train_pos = math.ceil(n_train*frac_pos)\n",
    "    df_train_pos = df[:n_train_pos]\n",
    "    df_train_pos.loc[:, 'translation'] = 1\n",
    "    multiple = math.ceil(n_train/n_train_pos)\n",
    "    df_train_neg = pd.concat([df_train_pos[['source_sentence']]] * multiple, ignore_index=True)[:n_train-n_train_pos]\n",
    "    df_train_neg['target_sentence'] = np.random.choice(df[n_train_pos:-n_test]['target_sentence'],\n",
    "                                                       n_train-n_train_pos)\n",
    "    df_train_neg.loc[:, 'translation'] = 0\n",
    "    df_train = df_train_pos.append(df_train_neg, ignore_index=True)\n",
    "    df_test = df[-n_test:].reset_index(drop=True)\n",
    "    return df_train, df_test"
   ]
  },
  {
   "cell_type": "code",
   "execution_count": 263,
   "metadata": {},
   "outputs": [],
   "source": [
    "# TODO: Parameterize by source and target language\n",
    "def get_sen_embedding(sentence, language):\n",
    "    if language == 'english':\n",
    "        return sen_emb_en[sen_en.index(sentence)]\n",
    "    elif language == 'german':\n",
    "        return sen_emb_de[sen_de.index(sentence)]"
   ]
  },
  {
   "cell_type": "code",
   "execution_count": 264,
   "metadata": {},
   "outputs": [],
   "source": [
    "def get_list_of_word_embeddings(idx, word_embeddings, words_found):\n",
    "    embeddings = list()\n",
    "    for word in words_found[idx]:\n",
    "        embeddings.append(word_embeddings[word])\n",
    "    return embeddings"
   ]
  },
  {
   "cell_type": "code",
   "execution_count": 287,
   "metadata": {},
   "outputs": [],
   "source": [
    "# TODO: Improve code by removing multiple for loops\n",
    "# TODO: Parameterize by source and target language\n",
    "def load_data():\n",
    "    data = pd.DataFrame({'source_sentence': sen_en, 'target_sentence': sen_de})\n",
    "    # Extract train and test data\n",
    "    train_data, test_data = create_datasets(data, n_train=4800, frac_pos=0.7, n_test=200)\n",
    "    data_sets = [train_data, test_data]\n",
    "    origins = {'source': 'english', 'target': 'german'}\n",
    "    for data in data_sets:\n",
    "        for origin, language in origins.items():\n",
    "            data['{}_preprocessed'.format(origin)] = data.apply(lambda row: sentence.preprocess_sentences(sentences=[row['{}_sentence'.format(origin)]], language=language)[0], axis=1)\n",
    "            data['{}_vec'.format(origin)] = data.apply(lambda row: get_sen_embedding(row['{}_sentence'.format(origin)], language), axis=1)\n",
    "    for data in data_sets:\n",
    "        data['source_word_embeddings'] = data.apply(lambda row: get_list_of_word_embeddings(row.name, emb_en, words_found_en), axis=1)\n",
    "        data['target_word_embeddings'] = data.apply(lambda row: get_list_of_word_embeddings(row.name, emb_de, words_found_de), axis=1)\n",
    "    \n",
    "    \n",
    "    # Extract text-based features\n",
    "    for data in [train_data, test_data]:\n",
    "        for name, function in tb_features.items():\n",
    "            print('Start extraction feature {}'.format(name))\n",
    "            data[name] = data.apply(lambda row: function[0](row['source_{}'.format(function[1])], row['target_{}'.format(function[1])], function[2]), axis=1)\n",
    "    \n",
    "    # Extract vector-based features\n",
    "    for data in [train_data, test_data]:\n",
    "        for name, function in vb_features.items():\n",
    "            print('Start extraction feature {}'.format(name))\n",
    "            data[name] = data.apply(lambda row: function[0](row['source_{}'.format(function[1])] @ W, row['target_{}'.format(function[1])]), axis=1)\n",
    "            \n",
    "    return train_data, test_data"
   ]
  },
  {
   "cell_type": "code",
   "execution_count": 266,
   "metadata": {},
   "outputs": [],
   "source": [
    "def predict_most_similar_sentence(idx, sentence, test_data, regressor):\n",
    "    tmp = pd.DataFrame({'source_sentence': sentence,\n",
    "                       'target_sentence': test_data['target_sentence'], 'target_preprocessed': test_data['target_preprocessed'], 'target_vec': test_data['target_vec'], 'target_word_embeddings': test_data['target_word_embeddings']})\n",
    "    tmp['source_preprocessed'] = tmp.apply(lambda row: test_data['source_preprocessed'].iloc[idx], axis=1)\n",
    "    tmp['source_vec'] = tmp.apply(lambda row: test_data['source_vec'].iloc[idx], axis=1)\n",
    "    tmp['source_word_embeddings'] = tmp.apply(lambda row: test_data['source_word_embeddings'].iloc[idx], axis=1)\n",
    "    for name, function in tb_features.items():\n",
    "        tmp[name] = tmp.apply(lambda row: function[0](row['source_{}'.format(function[1])], row['target_{}'.format(function[1])], function[2]), axis=1)\n",
    "    for name, function in vb_features.items():\n",
    "        tmp[name] = tmp.apply(lambda row: function[0](row['source_{}'.format(function[1])] @ W, row['target_{}'.format(function[1])]), axis=1)\n",
    "    tmp['prediction_probability'] = tmp.apply(lambda row: regressor.predict_proba(np.asarray(row[features]).reshape(1, -1))[0][1], axis=1)\n",
    "    tmp.sort_values('prediction_probability', ascending=False, inplace=True)\n",
    "    prob = tmp['prediction_probability'].iloc[0]\n",
    "    sen = tmp['target_sentence'].iloc[0]\n",
    "    print('Done with sentence id {}, probability of {}'.format(idx, prob))\n",
    "    return [sen, prob]"
   ]
  },
  {
   "cell_type": "markdown",
   "metadata": {},
   "source": [
    "# Load raw data\n",
    "TODO: Parameterize by source and target language"
   ]
  },
  {
   "cell_type": "markdown",
   "metadata": {},
   "source": [
    "### Load word embeddings and projection matrix"
   ]
  },
  {
   "cell_type": "code",
   "execution_count": 267,
   "metadata": {},
   "outputs": [],
   "source": [
    "emb_en, id2word_en, word2id_en = mono.load_monolingual_embedding('{}fastText_mon_emb/wiki.en.vec'.format(data_path), 50000)\n",
    "emb_de, id2word_de, word2id_de = mono.load_monolingual_embedding('{}fastText_mon_emb/wiki.de.vec'.format(data_path), 50000)"
   ]
  },
  {
   "cell_type": "code",
   "execution_count": 268,
   "metadata": {},
   "outputs": [
    {
     "name": "stdout",
     "output_type": "stream",
     "text": [
      "Found 13700 valid translation pairs in expert dictionary.\n",
      "977 other pairs contained at least one unknown word (0 in source language, 977 in target language).\n",
      "Resulting subspace dimension: (13700, 300)\n"
     ]
    }
   ],
   "source": [
    "W = multi.learn_projection_matrix(emb_en, emb_de, '{}expert_dictionaries/en-de/MUSE_en-de.0-5000.txt'.format(data_path), word2id_en, word2id_de)\n"
   ]
  },
  {
   "cell_type": "markdown",
   "metadata": {},
   "source": [
    "### Load Europarl sentences and transform to sentence vector embeddings"
   ]
  },
  {
   "cell_type": "code",
   "execution_count": 269,
   "metadata": {},
   "outputs": [],
   "source": [
    "sen_en = sentence.load_sentences('{}corpus/de-en/Europarl.de-en.en'.format(data_path), 5000)\n",
    "sen_de = sentence.load_sentences('{}corpus/de-en/Europarl.de-en.de'.format(data_path), 5000)"
   ]
  },
  {
   "cell_type": "code",
   "execution_count": 270,
   "metadata": {},
   "outputs": [],
   "source": [
    "sen_en_preprocessed = sentence.preprocess_sentences(sentences=sen_en, language='english')\n",
    "sen_de_preprocessed = sentence.preprocess_sentences(sentences=sen_de, language='german')"
   ]
  },
  {
   "cell_type": "code",
   "execution_count": 271,
   "metadata": {},
   "outputs": [
    {
     "name": "stdout",
     "output_type": "stream",
     "text": [
      "Could not find a term of the sentence '['sicherheitsberater', 'gefahrguttransport']' in word embedding vocabulary and thus, could not calculate the respective embedding vector.\n",
      "Could not find a term of the sentence '['lebensmittelsicherheit']' in word embedding vocabulary and thus, could not calculate the respective embedding vector.\n",
      "Could not find a term of the sentence '['arbeitsplan']' in word embedding vocabulary and thus, could not calculate the respective embedding vector.\n",
      "Could not find a term of the sentence '['kapitalsteuer']' in word embedding vocabulary and thus, could not calculate the respective embedding vector.\n",
      "Could not find a term of the sentence '['safety', 'advisers', 'transport', 'dangerous', 'goods']' in word embedding vocabulary and thus, could not calculate the respective embedding vector.\n",
      "Could not find a term of the sentence '['food', 'safety']' in word embedding vocabulary and thus, could not calculate the respective embedding vector.\n",
      "Could not find a term of the sentence '['agenda']' in word embedding vocabulary and thus, could not calculate the respective embedding vector.\n",
      "Could not find a term of the sentence '['capital', 'tax']' in word embedding vocabulary and thus, could not calculate the respective embedding vector.\n"
     ]
    }
   ],
   "source": [
    "sen_emb_de, id2sentence_de, words_found_de, invalid_sentences_de = sentence.transform_into_sentence_vectors(sen_de_preprocessed, 'german', emb_de, word2id_de, preprocessed=True)\n",
    "sen_emb_en, id2sentence_en, words_found_en, invalid_sentences_en = sentence.transform_into_sentence_vectors(sen_en_preprocessed, 'english', emb_en, word2id_en, preprocessed=True, prev_invalid_sentences=invalid_sentences_de)\n"
   ]
  },
  {
   "cell_type": "code",
   "execution_count": 272,
   "metadata": {},
   "outputs": [],
   "source": [
    "# Delete invalid sentences from list of raw sentences\n",
    "for idx in list(invalid_sentences_de):\n",
    "    del sen_en[idx]\n",
    "    del sen_de[idx]\n",
    "    del sen_en_preprocessed[idx]\n",
    "    del sen_de_preprocessed[idx]"
   ]
  },
  {
   "cell_type": "markdown",
   "metadata": {},
   "source": [
    "# Supervised classifier for cross-lingual retrieval (L2R) - DEMO"
   ]
  },
  {
   "cell_type": "markdown",
   "metadata": {},
   "source": [
    "### Data preparation and feature extraction"
   ]
  },
  {
   "cell_type": "code",
   "execution_count": 273,
   "metadata": {
    "scrolled": true
   },
   "outputs": [
    {
     "name": "stdout",
     "output_type": "stream",
     "text": [
      "Start extraction feature difference_count_words\n",
      "Start extraction feature difference_count_punctuation\n",
      "Start extraction feature equal_occ_question\n",
      "Start extraction feature equal_occ_exclamation\n",
      "Start extraction feature difference_count_noun\n",
      "Start extraction feature difference_count_verb\n",
      "Start extraction feature difference_count_adverb\n",
      "Start extraction feature difference_count_adjective\n",
      "Start extraction feature difference_count_wh\n",
      "Start extraction feature difference_count_pronoun\n",
      "Start extraction feature difference_count_words\n",
      "Start extraction feature difference_count_punctuation\n",
      "Start extraction feature equal_occ_question\n",
      "Start extraction feature equal_occ_exclamation\n",
      "Start extraction feature difference_count_noun\n",
      "Start extraction feature difference_count_verb\n",
      "Start extraction feature difference_count_adverb\n",
      "Start extraction feature difference_count_adjective\n",
      "Start extraction feature difference_count_wh\n",
      "Start extraction feature difference_count_pronoun\n",
      "Start extraction feature cosine_similarity\n",
      "Start extraction feature cosine_similarity\n"
     ]
    }
   ],
   "source": [
    "# Load data\n",
    "train_data, test_data = load_data()"
   ]
  },
  {
   "cell_type": "markdown",
   "metadata": {},
   "source": [
    "### Fit a logistic regression model on training data"
   ]
  },
  {
   "cell_type": "code",
   "execution_count": 274,
   "metadata": {},
   "outputs": [],
   "source": [
    "features = list(tb_features.keys()) + list(vb_features.keys())\n",
    "label = 'translation'"
   ]
  },
  {
   "cell_type": "code",
   "execution_count": 275,
   "metadata": {},
   "outputs": [],
   "source": [
    "logisticRegr = LogisticRegression()"
   ]
  },
  {
   "cell_type": "code",
   "execution_count": 276,
   "metadata": {},
   "outputs": [],
   "source": [
    "X_train = train_data[features]\n",
    "y_train = train_data[[label]]"
   ]
  },
  {
   "cell_type": "code",
   "execution_count": 277,
   "metadata": {},
   "outputs": [
    {
     "data": {
      "text/plain": [
       "LogisticRegression(C=1.0, class_weight=None, dual=False, fit_intercept=True,\n",
       "                   intercept_scaling=1, l1_ratio=None, max_iter=100,\n",
       "                   multi_class='auto', n_jobs=None, penalty='l2',\n",
       "                   random_state=None, solver='lbfgs', tol=0.0001, verbose=0,\n",
       "                   warm_start=False)"
      ]
     },
     "execution_count": 277,
     "metadata": {},
     "output_type": "execute_result"
    }
   ],
   "source": [
    "logisticRegr.fit(X_train, y_train)"
   ]
  },
  {
   "cell_type": "code",
   "execution_count": 278,
   "metadata": {},
   "outputs": [],
   "source": [
    "predictions = test_data.copy().drop(columns=features, axis=1)"
   ]
  },
  {
   "cell_type": "markdown",
   "metadata": {},
   "source": [
    "### Predict on positive test samples only to get an idea of the confidence values"
   ]
  },
  {
   "cell_type": "code",
   "execution_count": 279,
   "metadata": {},
   "outputs": [],
   "source": [
    "test_data['predictions_proba'] = test_data.apply(lambda row: logisticRegr.predict_proba(np.asarray(row[features]).reshape(1,-1))[0][1],axis=1)"
   ]
  },
  {
   "cell_type": "code",
   "execution_count": 280,
   "metadata": {},
   "outputs": [],
   "source": [
    "test_data['predictions'] = test_data.apply(lambda row: logisticRegr.predict(np.asarray(row[features]).reshape(1,-1))[0], axis=1)"
   ]
  },
  {
   "cell_type": "code",
   "execution_count": 281,
   "metadata": {},
   "outputs": [
    {
     "data": {
      "text/plain": [
       "0.96"
      ]
     },
     "execution_count": 281,
     "metadata": {},
     "output_type": "execute_result"
    }
   ],
   "source": [
    "test_data['predictions'].sum() / len(test_data)"
   ]
  },
  {
   "cell_type": "code",
   "execution_count": 313,
   "metadata": {},
   "outputs": [
    {
     "data": {
      "text/plain": [
       "68"
      ]
     },
     "execution_count": 313,
     "metadata": {},
     "output_type": "execute_result"
    }
   ],
   "source": [
    "len(test_data.loc[test_data['predictions_proba'] < 0.9])"
   ]
  },
  {
   "cell_type": "code",
   "execution_count": 318,
   "metadata": {},
   "outputs": [
    {
     "data": {
      "text/plain": [
       "60"
      ]
     },
     "execution_count": 318,
     "metadata": {},
     "output_type": "execute_result"
    }
   ],
   "source": [
    "len(test_data.loc[(test_data['predictions'] == 1) & (test_data['predictions_proba'] < 0.9)])"
   ]
  },
  {
   "cell_type": "markdown",
   "metadata": {},
   "source": [
    "### Predict most similar test target sentence for each test source sentence"
   ]
  },
  {
   "cell_type": "code",
   "execution_count": 283,
   "metadata": {
    "scrolled": true
   },
   "outputs": [
    {
     "name": "stdout",
     "output_type": "stream",
     "text": [
      "Done with sentence id 0, probability of 0.9813236115218967\n",
      "Done with sentence id 1, probability of 0.888794582153693\n",
      "Done with sentence id 2, probability of 0.9869983793041734\n",
      "Done with sentence id 3, probability of 0.9737796548725615\n",
      "Done with sentence id 4, probability of 0.9332835186627954\n",
      "Done with sentence id 5, probability of 0.976765865661742\n",
      "Done with sentence id 6, probability of 0.9782118116558263\n",
      "Done with sentence id 7, probability of 0.9586714875428086\n",
      "Done with sentence id 8, probability of 0.9598901888083166\n",
      "Done with sentence id 9, probability of 0.9800617449106159\n",
      "Done with sentence id 10, probability of 0.9165729093004251\n",
      "Done with sentence id 11, probability of 0.9868509888364159\n",
      "Done with sentence id 12, probability of 0.9715304358137095\n",
      "Done with sentence id 13, probability of 0.9763108973630142\n",
      "Done with sentence id 14, probability of 0.9813425467328555\n",
      "Done with sentence id 15, probability of 0.9893995157226325\n",
      "Done with sentence id 16, probability of 0.9763905388739801\n",
      "Done with sentence id 17, probability of 0.9371580233668028\n",
      "Done with sentence id 18, probability of 0.9372921869397602\n",
      "Done with sentence id 19, probability of 0.9791760336140833\n",
      "Done with sentence id 20, probability of 0.9743842108839974\n",
      "Done with sentence id 21, probability of 0.9793057215246568\n",
      "Done with sentence id 22, probability of 0.9076454182606423\n",
      "Done with sentence id 23, probability of 0.9065815269606556\n",
      "Done with sentence id 24, probability of 0.9533697800905208\n",
      "Done with sentence id 25, probability of 0.9626726564146041\n",
      "Done with sentence id 26, probability of 0.960722183115816\n",
      "Done with sentence id 27, probability of 0.9538916168659493\n",
      "Done with sentence id 28, probability of 0.9327173204136567\n",
      "Done with sentence id 29, probability of 0.9721245654699766\n",
      "Done with sentence id 30, probability of 0.9660544771635063\n",
      "Done with sentence id 31, probability of 0.9481411230137147\n",
      "Done with sentence id 32, probability of 0.9809246515807117\n",
      "Done with sentence id 33, probability of 0.972477110039802\n",
      "Done with sentence id 34, probability of 0.9636979502615893\n",
      "Done with sentence id 35, probability of 0.9813163553708644\n",
      "Done with sentence id 36, probability of 0.967402979084226\n",
      "Done with sentence id 37, probability of 0.9090317430742042\n",
      "Done with sentence id 38, probability of 0.9834644787320134\n",
      "Done with sentence id 39, probability of 0.9670698563805603\n",
      "Done with sentence id 40, probability of 0.9345900187312822\n",
      "Done with sentence id 41, probability of 0.9486351413591547\n",
      "Done with sentence id 42, probability of 0.9457846303548508\n",
      "Done with sentence id 43, probability of 0.9975960045758542\n",
      "Done with sentence id 44, probability of 0.9274762295223672\n",
      "Done with sentence id 45, probability of 0.9511477631892642\n",
      "Done with sentence id 46, probability of 0.9744199028100402\n",
      "Done with sentence id 47, probability of 0.9675998183708547\n",
      "Done with sentence id 48, probability of 0.9603115091752644\n",
      "Done with sentence id 49, probability of 0.9771706499789168\n",
      "Done with sentence id 50, probability of 0.9870074562512774\n",
      "Done with sentence id 51, probability of 0.9827723508717054\n",
      "Done with sentence id 52, probability of 0.9446531213191722\n",
      "Done with sentence id 53, probability of 0.9469113654565792\n",
      "Done with sentence id 54, probability of 0.9165729093004251\n",
      "Done with sentence id 55, probability of 0.9823363596970266\n",
      "Done with sentence id 56, probability of 0.9871742140888543\n",
      "Done with sentence id 57, probability of 0.8950104105951925\n",
      "Done with sentence id 58, probability of 0.9032817481215442\n",
      "Done with sentence id 59, probability of 0.9757969576165544\n",
      "Done with sentence id 60, probability of 0.9591964762497294\n",
      "Done with sentence id 61, probability of 0.8894644631408699\n",
      "Done with sentence id 62, probability of 0.9701084380137033\n",
      "Done with sentence id 63, probability of 0.9801269507331208\n",
      "Done with sentence id 64, probability of 0.9603458724999137\n",
      "Done with sentence id 65, probability of 0.9354326419426765\n",
      "Done with sentence id 66, probability of 0.9281638805913975\n",
      "Done with sentence id 67, probability of 0.9617305360021098\n",
      "Done with sentence id 68, probability of 0.9545574177165336\n",
      "Done with sentence id 69, probability of 0.9761274043463843\n",
      "Done with sentence id 70, probability of 0.9525554005890031\n",
      "Done with sentence id 71, probability of 0.9661181607788555\n",
      "Done with sentence id 72, probability of 0.9781483630309031\n",
      "Done with sentence id 73, probability of 0.9678709439383741\n",
      "Done with sentence id 74, probability of 0.9889209007900718\n",
      "Done with sentence id 75, probability of 0.9259328609270743\n",
      "Done with sentence id 76, probability of 0.9386365971411462\n",
      "Done with sentence id 77, probability of 0.9375517308965909\n",
      "Done with sentence id 78, probability of 0.9117615739817243\n",
      "Done with sentence id 79, probability of 0.9464202577807785\n",
      "Done with sentence id 80, probability of 0.9768600761875703\n",
      "Done with sentence id 81, probability of 0.9672179127068219\n",
      "Done with sentence id 82, probability of 0.960871552868634\n",
      "Done with sentence id 83, probability of 0.9765092471978153\n",
      "Done with sentence id 84, probability of 0.9670289228222533\n",
      "Done with sentence id 85, probability of 0.9783879225356876\n",
      "Done with sentence id 86, probability of 0.988232469465583\n",
      "Done with sentence id 87, probability of 0.9550007312939272\n",
      "Done with sentence id 88, probability of 0.9815104262590535\n",
      "Done with sentence id 89, probability of 0.9353251576754665\n",
      "Done with sentence id 90, probability of 0.9648149386814746\n",
      "Done with sentence id 91, probability of 0.878183834486874\n",
      "Done with sentence id 92, probability of 0.9822242828877966\n",
      "Done with sentence id 93, probability of 0.9767757817024679\n",
      "Done with sentence id 94, probability of 0.9672205221406655\n",
      "Done with sentence id 95, probability of 0.9802955805146262\n",
      "Done with sentence id 96, probability of 0.9467981391764398\n",
      "Done with sentence id 97, probability of 0.9076213137453454\n",
      "Done with sentence id 98, probability of 0.9610071570068801\n",
      "Done with sentence id 99, probability of 0.9657899361019598\n",
      "Done with sentence id 100, probability of 0.9473055217065834\n",
      "Done with sentence id 101, probability of 0.9245755934575391\n",
      "Done with sentence id 102, probability of 0.9307545849690133\n",
      "Done with sentence id 103, probability of 0.9562085333942889\n",
      "Done with sentence id 104, probability of 0.9259179350625611\n",
      "Done with sentence id 105, probability of 0.952380093459837\n",
      "Done with sentence id 106, probability of 0.2991712255552934\n",
      "Done with sentence id 107, probability of 0.9299876773604417\n",
      "Done with sentence id 108, probability of 0.9552637835998499\n",
      "Done with sentence id 109, probability of 0.8984426996370576\n",
      "Done with sentence id 110, probability of 0.9665005048883366\n",
      "Done with sentence id 111, probability of 0.9402258088264126\n",
      "Done with sentence id 112, probability of 0.6761818815314131\n",
      "Done with sentence id 113, probability of 0.8819919659601397\n",
      "Done with sentence id 114, probability of 0.9468867459048533\n",
      "Done with sentence id 115, probability of 0.9084303122244232\n",
      "Done with sentence id 116, probability of 0.9751462286579103\n",
      "Done with sentence id 117, probability of 0.9433737523062883\n",
      "Done with sentence id 118, probability of 0.9778068806560178\n",
      "Done with sentence id 119, probability of 0.8920986826225284\n",
      "Done with sentence id 120, probability of 0.9744394517981\n",
      "Done with sentence id 121, probability of 0.9287666331948674\n",
      "Done with sentence id 122, probability of 0.9479337694128085\n",
      "Done with sentence id 123, probability of 0.9750479838619271\n",
      "Done with sentence id 124, probability of 0.9480270327721867\n",
      "Done with sentence id 125, probability of 0.9375374430710732\n",
      "Done with sentence id 126, probability of 0.514842070081317\n",
      "Done with sentence id 127, probability of 0.9804318342677342\n",
      "Done with sentence id 128, probability of 0.9670143423662766\n",
      "Done with sentence id 129, probability of 0.9799576164485239\n",
      "Done with sentence id 130, probability of 0.9033324116080464\n",
      "Done with sentence id 131, probability of 0.8458765053409173\n",
      "Done with sentence id 132, probability of 0.9758381758982966\n",
      "Done with sentence id 133, probability of 0.9553380951849961\n",
      "Done with sentence id 134, probability of 0.9762768908985543\n",
      "Done with sentence id 135, probability of 0.9786485154047657\n",
      "Done with sentence id 136, probability of 0.9450399683540254\n"
     ]
    },
    {
     "name": "stdout",
     "output_type": "stream",
     "text": [
      "Done with sentence id 137, probability of 0.9915917621656068\n",
      "Done with sentence id 138, probability of 0.8564769330023544\n",
      "Done with sentence id 139, probability of 0.9660776926020023\n",
      "Done with sentence id 140, probability of 0.9763469681314573\n",
      "Done with sentence id 141, probability of 0.9609096053396675\n",
      "Done with sentence id 142, probability of 0.9546252550491855\n",
      "Done with sentence id 143, probability of 0.9823835122006856\n",
      "Done with sentence id 144, probability of 0.9734117823654234\n",
      "Done with sentence id 145, probability of 0.9634904885632632\n",
      "Done with sentence id 146, probability of 0.9426951965688531\n",
      "Done with sentence id 147, probability of 0.9737625608248124\n",
      "Done with sentence id 148, probability of 0.9863187463361657\n",
      "Done with sentence id 149, probability of 0.9126341374271237\n",
      "Done with sentence id 150, probability of 0.9647664251775642\n",
      "Done with sentence id 151, probability of 0.7284354320650875\n",
      "Done with sentence id 152, probability of 0.9570922021595129\n",
      "Done with sentence id 153, probability of 0.9072574522260811\n",
      "Done with sentence id 154, probability of 0.962776325394314\n",
      "Done with sentence id 155, probability of 0.9620675903537264\n",
      "Done with sentence id 156, probability of 0.9433561945929373\n",
      "Done with sentence id 157, probability of 0.9578264491308094\n",
      "Done with sentence id 158, probability of 0.9390391029742189\n",
      "Done with sentence id 159, probability of 0.9371868668580873\n",
      "Done with sentence id 160, probability of 0.9223537535259603\n",
      "Done with sentence id 161, probability of 0.9612524801144934\n",
      "Done with sentence id 162, probability of 0.951152981671857\n",
      "Done with sentence id 163, probability of 0.9643711193451012\n",
      "Done with sentence id 164, probability of 0.9662042016846222\n",
      "Done with sentence id 165, probability of 0.9875674809225076\n",
      "Done with sentence id 166, probability of 0.9307840036344038\n",
      "Done with sentence id 167, probability of 0.9723306608389656\n",
      "Done with sentence id 168, probability of 0.9923201919141159\n",
      "Done with sentence id 169, probability of 0.9699146452802441\n",
      "Done with sentence id 170, probability of 0.9666599501137885\n",
      "Done with sentence id 171, probability of 0.9772800382547581\n",
      "Done with sentence id 172, probability of 0.9532701622294659\n",
      "Done with sentence id 173, probability of 0.9120347865755432\n",
      "Done with sentence id 174, probability of 0.9497285094963671\n",
      "Done with sentence id 175, probability of 0.8980576056910854\n",
      "Done with sentence id 176, probability of 0.9744351525670198\n",
      "Done with sentence id 177, probability of 0.9762257580434907\n",
      "Done with sentence id 178, probability of 0.9226441084858946\n",
      "Done with sentence id 179, probability of 0.9624382311403132\n",
      "Done with sentence id 180, probability of 0.9490223010703115\n",
      "Done with sentence id 181, probability of 0.854136474415841\n",
      "Done with sentence id 182, probability of 0.881253436273965\n",
      "Done with sentence id 183, probability of 0.9773079289828384\n",
      "Done with sentence id 184, probability of 0.8103756918711207\n",
      "Done with sentence id 185, probability of 0.9695259221910252\n",
      "Done with sentence id 186, probability of 0.9613966744738834\n",
      "Done with sentence id 187, probability of 0.9574776607828553\n",
      "Done with sentence id 188, probability of 0.979983232323318\n",
      "Done with sentence id 189, probability of 0.9695168720247834\n",
      "Done with sentence id 190, probability of 0.9552943682730789\n",
      "Done with sentence id 191, probability of 0.9236352257267532\n",
      "Done with sentence id 192, probability of 0.9755601275403782\n",
      "Done with sentence id 193, probability of 0.9733115338409632\n",
      "Done with sentence id 194, probability of 0.9503100582877225\n",
      "Done with sentence id 195, probability of 0.9337927287460688\n",
      "Done with sentence id 196, probability of 0.9531171066028477\n",
      "Done with sentence id 197, probability of 0.9379540295882195\n",
      "Done with sentence id 198, probability of 0.7671143927110179\n",
      "Done with sentence id 199, probability of 0.9535172987437925\n"
     ]
    }
   ],
   "source": [
    "predictions['prediction'] = predictions.apply(lambda row: predict_most_similar_sentence(row.name, row['source_sentence'], test_data, logisticRegr), axis=1)"
   ]
  },
  {
   "cell_type": "code",
   "execution_count": 284,
   "metadata": {},
   "outputs": [],
   "source": [
    "predictions['prediction_sentence'] = predictions.apply(lambda row: row['prediction'][0], axis=1)\n",
    "predictions['prediction_probability'] = predictions.apply(lambda row: row['prediction'][1], axis=1)"
   ]
  },
  {
   "cell_type": "code",
   "execution_count": 285,
   "metadata": {},
   "outputs": [],
   "source": [
    "predictions['true_prediction'] = predictions.apply(lambda row: 1 if row['target_sentence'] == row['prediction_sentence'] else 0, axis=1)"
   ]
  },
  {
   "cell_type": "code",
   "execution_count": 286,
   "metadata": {},
   "outputs": [
    {
     "data": {
      "text/plain": [
       "0.375"
      ]
     },
     "execution_count": 286,
     "metadata": {},
     "output_type": "execute_result"
    }
   ],
   "source": [
    "# Fourth run: Without greedy association similarity and with count of pos tags\n",
    "# Training size: 4800 instances\n",
    "sum(predictions['true_prediction']) / len(predictions)"
   ]
  },
  {
   "cell_type": "code",
   "execution_count": 310,
   "metadata": {},
   "outputs": [
    {
     "data": {
      "text/plain": [
       "18"
      ]
     },
     "execution_count": 310,
     "metadata": {},
     "output_type": "execute_result"
    }
   ],
   "source": [
    "len(predictions.loc[predictions['prediction_probability'] < 0.9])"
   ]
  },
  {
   "cell_type": "code",
   "execution_count": 319,
   "metadata": {},
   "outputs": [
    {
     "data": {
      "text/plain": [
       "8"
      ]
     },
     "execution_count": 319,
     "metadata": {},
     "output_type": "execute_result"
    }
   ],
   "source": [
    "len(predictions.loc[(predictions['true_prediction'] == 1) & (predictions['prediction_probability'] < 0.9)])"
   ]
  },
  {
   "cell_type": "code",
   "execution_count": 240,
   "metadata": {},
   "outputs": [
    {
     "data": {
      "text/plain": [
       "0.25"
      ]
     },
     "execution_count": 240,
     "metadata": {},
     "output_type": "execute_result"
    }
   ],
   "source": [
    "# Third run: Without greedy association similarity and with count of pos tags\n",
    "# Training size: 800 instances\n",
    "# sum(predictions['true_prediction']) / len(predictions)"
   ]
  },
  {
   "cell_type": "code",
   "execution_count": 154,
   "metadata": {},
   "outputs": [
    {
     "data": {
      "text/plain": [
       "0.23"
      ]
     },
     "execution_count": 154,
     "metadata": {},
     "output_type": "execute_result"
    }
   ],
   "source": [
    "# Second run: With greedy association similarity but without count of pos tags \n",
    "# However, computation of the greedy association similarity was wrong in this run\n",
    "# Extraction of the greedy association similarity feature very time consuming\n",
    "# Training size: 800 instances\n",
    "# sum(predictions['true_prediction']) / len(predictions)"
   ]
  },
  {
   "cell_type": "code",
   "execution_count": 41,
   "metadata": {},
   "outputs": [
    {
     "data": {
      "text/plain": [
       "0.305"
      ]
     },
     "execution_count": 41,
     "metadata": {},
     "output_type": "execute_result"
    }
   ],
   "source": [
    "# First run: Without greedy association similarity and without count of pos tags\n",
    "# Training size: 800 instances\n",
    "# sum(predictions['true_prediction']) / len(predictions)"
   ]
  }
 ],
 "metadata": {
  "kernelspec": {
   "display_name": "Python 3",
   "language": "python",
   "name": "python3"
  },
  "language_info": {
   "codemirror_mode": {
    "name": "ipython",
    "version": 3
   },
   "file_extension": ".py",
   "mimetype": "text/x-python",
   "name": "python",
   "nbconvert_exporter": "python",
   "pygments_lexer": "ipython3",
   "version": "3.7.7"
  }
 },
 "nbformat": 4,
 "nbformat_minor": 2
}
