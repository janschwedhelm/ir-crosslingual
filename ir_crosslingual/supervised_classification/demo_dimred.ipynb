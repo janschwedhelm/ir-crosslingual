{
 "cells": [
  {
   "cell_type": "code",
   "execution_count": 95,
   "metadata": {},
   "outputs": [],
   "source": [
    "import pandas as pd\n",
    "import numpy as np\n",
    "import importlib, os, math\n",
    "\n",
    "from sklearn.metrics.pairwise import cosine_similarity\n",
    "from sklearn.metrics import precision_score, accuracy_score, recall_score, f1_score\n",
    "from sklearn.linear_model import LogisticRegression\n",
    "from sklearn.ensemble import RandomForestClassifier\n",
    "from sklearn.decomposition import PCA\n",
    "\n",
    "import warnings\n",
    "warnings.filterwarnings('ignore')\n",
    "\n",
    "pd.set_option('display.max_columns', None)\n",
    "pd.set_option('display.max_rows', None)"
   ]
  },
  {
   "cell_type": "code",
   "execution_count": 65,
   "metadata": {},
   "outputs": [
    {
     "data": {
      "text/plain": [
       "<module 'ir_crosslingual.sentences.sentences' from '/Users/jani/PycharmProjects/ir-crosslingual/ir_crosslingual/sentences/sentences.py'>"
      ]
     },
     "execution_count": 65,
     "metadata": {},
     "output_type": "execute_result"
    }
   ],
   "source": [
    "from ir_crosslingual.embeddings import embeddings\n",
    "importlib.reload(embeddings)\n",
    "\n",
    "from ir_crosslingual.features import text_based\n",
    "importlib.reload(text_based)\n",
    "\n",
    "from ir_crosslingual.features import vector_based\n",
    "importlib.reload(vector_based)\n",
    "\n",
    "from ir_crosslingual.supervised_classification import sup_model\n",
    "importlib.reload(sup_model)\n",
    "\n",
    "from ir_crosslingual.utils import paths\n",
    "importlib.reload(paths)\n",
    "\n",
    "from ir_crosslingual.sentences import sentences\n",
    "importlib.reload(sentences)"
   ]
  },
  {
   "cell_type": "markdown",
   "metadata": {},
   "source": [
    "# Load data"
   ]
  },
  {
   "cell_type": "markdown",
   "metadata": {},
   "source": [
    "## Word embeddings"
   ]
  },
  {
   "cell_type": "code",
   "execution_count": 66,
   "metadata": {},
   "outputs": [],
   "source": [
    "german = embeddings.WordEmbeddings('de')\n",
    "german.load_embeddings()\n",
    "\n",
    "english = embeddings.WordEmbeddings('en')\n",
    "english.load_embeddings()"
   ]
  },
  {
   "cell_type": "code",
   "execution_count": 67,
   "metadata": {},
   "outputs": [
    {
     "name": "stdout",
     "output_type": "stream",
     "text": [
      "Learn projection matrix for en-de\n",
      "Found 13700 valid translation pairs in expert dictionary.\n",
      "977 other pairs contained at least one unknown word (0 in source language, 977 in target language).\n",
      "Resulting subspace dimension: (13700, 300)\n",
      "Resulting subspace dimension: (13700, 300)\n",
      "Learn projection matrix for de-en\n",
      "Found 10604 valid translation pairs in expert dictionary.\n",
      "262 other pairs contained at least one unknown word (0 in source language, 262 in target language).\n",
      "Resulting subspace dimension: (10604, 300)\n",
      "Resulting subspace dimension: (10604, 300)\n"
     ]
    }
   ],
   "source": [
    "W_ende, W_deen = embeddings.WordEmbeddings.learn_projection_matrix(src_lang='en', trg_lang='de')"
   ]
  },
  {
   "cell_type": "markdown",
   "metadata": {},
   "source": [
    "## Sentence embeddings and feature engineering preparation"
   ]
  },
  {
   "cell_type": "code",
   "execution_count": 68,
   "metadata": {},
   "outputs": [],
   "source": [
    "prepared_features = ['num_words', 'num_punctuation', 'occ_question_mark', 'occ_exclamation_mark']"
   ]
  },
  {
   "cell_type": "code",
   "execution_count": 69,
   "metadata": {},
   "outputs": [],
   "source": [
    "sens = sentences.Sentences(src_words=english, trg_words=german)"
   ]
  },
  {
   "cell_type": "code",
   "execution_count": 70,
   "metadata": {
    "scrolled": true
   },
   "outputs": [
    {
     "name": "stdout",
     "output_type": "stream",
     "text": [
      "Target sentences loaded\n",
      "Source sentences loaded\n",
      "Sentences preprocessed\n",
      "Could not find a term of the sentence 'Additionality' in word embedding vocabulary and thus, could not calculate the respective embedding vector.\n",
      "Could not find a term of the sentence 'IGC' in word embedding vocabulary and thus, could not calculate the respective embedding vector.\n",
      "Could not find a term of the sentence 'Scrapie' in word embedding vocabulary and thus, could not calculate the respective embedding vector.\n",
      "Could not find a term of the sentence 'Comitology:' in word embedding vocabulary and thus, could not calculate the respective embedding vector.\n",
      "Could not find a term of the sentence 'Transmissible spongiform encephalopathies' in word embedding vocabulary and thus, could not calculate the respective embedding vector.\n",
      "Could not find a term of the sentence 'UCITS' in word embedding vocabulary and thus, could not calculate the respective embedding vector.\n",
      "Could not find a term of the sentence 'Eurodac' in word embedding vocabulary and thus, could not calculate the respective embedding vector.\n",
      "Could not find a term of the sentence 'ALTENER' in word embedding vocabulary and thus, could not calculate the respective embedding vector.\n",
      "Sentences embeddings extracted in en\n",
      "Could not find a term of the sentence 'Entschließungsantrag zur Mittelmeerpolitik' in word embedding vocabulary and thus, could not calculate the respective embedding vector.\n",
      "Could not find a term of the sentence 'Arbeitszeitgestaltung' in word embedding vocabulary and thus, could not calculate the respective embedding vector.\n",
      "Could not find a term of the sentence 'zu den Änderungsanträgen 4 und 5:' in word embedding vocabulary and thus, could not calculate the respective embedding vector.\n",
      "Could not find a term of the sentence 'OGAW' in word embedding vocabulary and thus, could not calculate the respective embedding vector.\n",
      "Could not find a term of the sentence 'Änderungsantrag 6' in word embedding vocabulary and thus, could not calculate the respective embedding vector.\n",
      "Could not find a term of the sentence 'CITES' in word embedding vocabulary and thus, could not calculate the respective embedding vector.\n",
      "Could not find a term of the sentence 'Eurodac' in word embedding vocabulary and thus, could not calculate the respective embedding vector.\n",
      "Could not find a term of the sentence 'Lebensmittelsicherheit' in word embedding vocabulary and thus, could not calculate the respective embedding vector.\n",
      "Could not find a term of the sentence 'Umweltaspekte im Entwicklungsprozeß' in word embedding vocabulary and thus, could not calculate the respective embedding vector.\n",
      "Could not find a term of the sentence 'Arbeitsplan' in word embedding vocabulary and thus, could not calculate the respective embedding vector.\n",
      "Could not find a term of the sentence 'Dringlichkeitsdebatte' in word embedding vocabulary and thus, could not calculate the respective embedding vector.\n",
      "Could not find a term of the sentence 'Zum Änderungsantrag 4:' in word embedding vocabulary and thus, could not calculate the respective embedding vector.\n",
      "Could not find a term of the sentence 'Zum Kompromißänderungsantrag 227' in word embedding vocabulary and thus, could not calculate the respective embedding vector.\n",
      "Could not find a term of the sentence 'Zusätzlichkeit' in word embedding vocabulary and thus, could not calculate the respective embedding vector.\n",
      "Could not find a term of the sentence 'Regierungskonferenz' in word embedding vocabulary and thus, could not calculate the respective embedding vector.\n",
      "Could not find a term of the sentence 'Sicherheitsberater für den Gefahrguttransport' in word embedding vocabulary and thus, could not calculate the respective embedding vector.\n",
      "Could not find a term of the sentence 'Altfahrzeuge' in word embedding vocabulary and thus, could not calculate the respective embedding vector.\n",
      "Could not find a term of the sentence 'Regierungskonferenz' in word embedding vocabulary and thus, could not calculate the respective embedding vector.\n",
      "Could not find a term of the sentence 'Änderungsantrag 6:' in word embedding vocabulary and thus, could not calculate the respective embedding vector.\n",
      "Could not find a term of the sentence 'Arbeitsplan' in word embedding vocabulary and thus, could not calculate the respective embedding vector.\n",
      "Could not find a term of the sentence 'Dringlichkeitsdebatte' in word embedding vocabulary and thus, could not calculate the respective embedding vector.\n",
      "Could not find a term of the sentence 'Mittelmeerpolitik' in word embedding vocabulary and thus, could not calculate the respective embedding vector.\n",
      "Could not find a term of the sentence 'Haushaltsleitlinien 2001' in word embedding vocabulary and thus, could not calculate the respective embedding vector.\n",
      "Could not find a term of the sentence 'Kapitalsteuer' in word embedding vocabulary and thus, could not calculate the respective embedding vector.\n",
      "Could not find a term of the sentence 'Agrarpreise' in word embedding vocabulary and thus, could not calculate the respective embedding vector.\n",
      "Could not find a term of the sentence 'Arbeitsplan' in word embedding vocabulary and thus, could not calculate the respective embedding vector.\n",
      "Could not find a term of the sentence 'Körnerleguminosen' in word embedding vocabulary and thus, could not calculate the respective embedding vector.\n",
      "Could not find a term of the sentence 'Außenbeziehungen' in word embedding vocabulary and thus, could not calculate the respective embedding vector.\n",
      "Could not find a term of the sentence 'Akin Birdal' in word embedding vocabulary and thus, could not calculate the respective embedding vector.\n",
      "Could not find a term of the sentence 'Dringlichkeitsdebatte' in word embedding vocabulary and thus, could not calculate the respective embedding vector.\n",
      "Could not find a term of the sentence 'Scrapie' in word embedding vocabulary and thus, could not calculate the respective embedding vector.\n",
      "Could not find a term of the sentence 'Zum Änderungsantrag 5' in word embedding vocabulary and thus, could not calculate the respective embedding vector.\n",
      "Could not find a term of the sentence 'Tschetschenien' in word embedding vocabulary and thus, could not calculate the respective embedding vector.\n",
      "Could not find a term of the sentence 'Verhütung und Bekämpfung bestimmter transmissibler spongiformer Enzephalopathien' in word embedding vocabulary and thus, could not calculate the respective embedding vector.\n",
      "Could not find a term of the sentence 'Akin Birdal' in word embedding vocabulary and thus, could not calculate the respective embedding vector.\n",
      "Could not find a term of the sentence 'Altener' in word embedding vocabulary and thus, could not calculate the respective embedding vector.\n",
      "Could not find a term of the sentence 'Westsahara' in word embedding vocabulary and thus, could not calculate the respective embedding vector.\n",
      "Could not find a term of the sentence 'Zusatzstoffe in der Tierernährung' in word embedding vocabulary and thus, could not calculate the respective embedding vector.\n",
      "Could not find a term of the sentence 'Beschluß über die Dringlichkeit' in word embedding vocabulary and thus, could not calculate the respective embedding vector.\n",
      "Could not find a term of the sentence 'Änderungsanträge 22 und 24' in word embedding vocabulary and thus, could not calculate the respective embedding vector.\n",
      "Could not find a term of the sentence 'Zum Änderungsantrag 4' in word embedding vocabulary and thus, could not calculate the respective embedding vector.\n",
      "Could not find a term of the sentence 'Jahreswirtschaftsbericht 1999' in word embedding vocabulary and thus, could not calculate the respective embedding vector.\n",
      "Could not find a term of the sentence 'Schiffsabfälle und Ladungsrückstände' in word embedding vocabulary and thus, could not calculate the respective embedding vector.\n",
      "Could not find a term of the sentence 'Vor der Schlußabstimmung:' in word embedding vocabulary and thus, could not calculate the respective embedding vector.\n",
      "Could not find a term of the sentence 'Nachtflüge und Lärmbelästigung' in word embedding vocabulary and thus, could not calculate the respective embedding vector.\n",
      "Could not find a term of the sentence 'Arbeitsplan' in word embedding vocabulary and thus, could not calculate the respective embedding vector.\n",
      "Could not find a term of the sentence 'Dringlichkeitsdebatte' in word embedding vocabulary and thus, could not calculate the respective embedding vector.\n",
      "Could not find a term of the sentence 'Änderungsantrag 31' in word embedding vocabulary and thus, could not calculate the respective embedding vector.\n",
      "Could not find a term of the sentence 'Komitologie:' in word embedding vocabulary and thus, could not calculate the respective embedding vector.\n",
      "Could not find a term of the sentence 'Informationsgesellschaft' in word embedding vocabulary and thus, could not calculate the respective embedding vector.\n",
      "Could not find a term of the sentence 'Zum Kompromißänderungsantrag 224' in word embedding vocabulary and thus, could not calculate the respective embedding vector.\n"
     ]
    },
    {
     "name": "stdout",
     "output_type": "stream",
     "text": [
      "Sentences embeddings extracted in de\n",
      "Sentences transformed\n",
      "Embedding space of source language transformed according to projection matrix\n",
      "Start preparation of feature num_words\n",
      "Start preparation of feature num_punctuation\n",
      "Start preparation of feature occ_question_mark\n",
      "Start preparation of feature occ_exclamation_mark\n"
     ]
    }
   ],
   "source": [
    "data = sens.load_data(single_source=False, n_max=50000, features=prepared_features)"
   ]
  },
  {
   "cell_type": "markdown",
   "metadata": {},
   "source": [
    "# Create training dataset and do feature engineering"
   ]
  },
  {
   "cell_type": "code",
   "execution_count": 71,
   "metadata": {},
   "outputs": [
    {
     "data": {
      "text/plain": [
       "49949"
      ]
     },
     "execution_count": 71,
     "metadata": {},
     "output_type": "execute_result"
    }
   ],
   "source": [
    "len(sens.data)"
   ]
  },
  {
   "cell_type": "code",
   "execution_count": 72,
   "metadata": {},
   "outputs": [],
   "source": [
    "train_data = sens.create_train_set(n_train=40000, frac_pos=0.5)"
   ]
  },
  {
   "cell_type": "code",
   "execution_count": 73,
   "metadata": {
    "scrolled": true
   },
   "outputs": [
    {
     "data": {
      "text/html": [
       "<div>\n",
       "<style scoped>\n",
       "    .dataframe tbody tr th:only-of-type {\n",
       "        vertical-align: middle;\n",
       "    }\n",
       "\n",
       "    .dataframe tbody tr th {\n",
       "        vertical-align: top;\n",
       "    }\n",
       "\n",
       "    .dataframe thead th {\n",
       "        text-align: right;\n",
       "    }\n",
       "</style>\n",
       "<table border=\"1\" class=\"dataframe\">\n",
       "  <thead>\n",
       "    <tr style=\"text-align: right;\">\n",
       "      <th></th>\n",
       "      <th>src_embedding</th>\n",
       "      <th>src_embedding_aligned</th>\n",
       "      <th>trg_embedding</th>\n",
       "      <th>src_sentence</th>\n",
       "      <th>trg_sentence</th>\n",
       "      <th>src_preprocessed</th>\n",
       "      <th>trg_preprocessed</th>\n",
       "      <th>src_num_words</th>\n",
       "      <th>trg_num_words</th>\n",
       "      <th>src_num_punctuation</th>\n",
       "      <th>trg_num_punctuation</th>\n",
       "      <th>src_occ_question_mark</th>\n",
       "      <th>trg_occ_question_mark</th>\n",
       "      <th>src_occ_exclamation_mark</th>\n",
       "      <th>trg_occ_exclamation_mark</th>\n",
       "      <th>translation</th>\n",
       "    </tr>\n",
       "  </thead>\n",
       "  <tbody>\n",
       "    <tr>\n",
       "      <th>0</th>\n",
       "      <td>[-0.07040999999999999, 0.094428, 0.1178755, -0...</td>\n",
       "      <td>[-0.3088614732459478, 0.3472727241705731, -0.2...</td>\n",
       "      <td>[-0.22081, 0.49136, -0.09375700000000001, -0.6...</td>\n",
       "      <td>Resumption of the session</td>\n",
       "      <td>Wiederaufnahme der Sitzungsperiode</td>\n",
       "      <td>[resumption, session]</td>\n",
       "      <td>[wiederaufnahme, sitzungsperiode]</td>\n",
       "      <td>2</td>\n",
       "      <td>2</td>\n",
       "      <td>0</td>\n",
       "      <td>0</td>\n",
       "      <td>False</td>\n",
       "      <td>False</td>\n",
       "      <td>False</td>\n",
       "      <td>False</td>\n",
       "      <td>1</td>\n",
       "    </tr>\n",
       "    <tr>\n",
       "      <th>1</th>\n",
       "      <td>[-0.05200671428571431, 0.016875466666666665, -...</td>\n",
       "      <td>[-0.19811859957522993, 0.2886577921005622, -0....</td>\n",
       "      <td>[-0.1368885, 0.29018044444444446, -0.152462499...</td>\n",
       "      <td>I declare resumed the session of the European ...</td>\n",
       "      <td>Ich erkläre die am Freitag, dem 17. Dezember u...</td>\n",
       "      <td>[declare, resumed, session, european, parliame...</td>\n",
       "      <td>[erkläre, freitag, ,, 17, ., dezember, unterbr...</td>\n",
       "      <td>21</td>\n",
       "      <td>16</td>\n",
       "      <td>2</td>\n",
       "      <td>5</td>\n",
       "      <td>False</td>\n",
       "      <td>False</td>\n",
       "      <td>False</td>\n",
       "      <td>False</td>\n",
       "      <td>1</td>\n",
       "    </tr>\n",
       "    <tr>\n",
       "      <th>2</th>\n",
       "      <td>[-0.08509222727272729, -0.03279808636363638, -...</td>\n",
       "      <td>[-0.19086391830712227, 0.07257094264933953, -0...</td>\n",
       "      <td>[-0.1190726470588235, 0.13479876470588237, -0....</td>\n",
       "      <td>Although, as you will have seen, the dreaded '...</td>\n",
       "      <td>Wie Sie feststellen konnten, ist der gefürchte...</td>\n",
       "      <td>[although, ,, seen, ,, dreaded, ', millennium,...</td>\n",
       "      <td>[feststellen, konnten, ,, gefürchtete, \", mill...</td>\n",
       "      <td>17</td>\n",
       "      <td>13</td>\n",
       "      <td>6</td>\n",
       "      <td>6</td>\n",
       "      <td>False</td>\n",
       "      <td>False</td>\n",
       "      <td>False</td>\n",
       "      <td>False</td>\n",
       "      <td>1</td>\n",
       "    </tr>\n",
       "    <tr>\n",
       "      <th>3</th>\n",
       "      <td>[-0.064901, -0.08438565454545456, -0.008655272...</td>\n",
       "      <td>[-0.1613263801336713, 0.22534862126715746, -0....</td>\n",
       "      <td>[-0.12862244444444446, 0.33829177777777786, -0...</td>\n",
       "      <td>You have requested a debate on this subject in...</td>\n",
       "      <td>Im Parlament besteht der Wunsch nach einer Aus...</td>\n",
       "      <td>[requested, debate, subject, course, next, day...</td>\n",
       "      <td>[parlament, besteht, wunsch, aussprache, verla...</td>\n",
       "      <td>8</td>\n",
       "      <td>8</td>\n",
       "      <td>3</td>\n",
       "      <td>1</td>\n",
       "      <td>False</td>\n",
       "      <td>False</td>\n",
       "      <td>False</td>\n",
       "      <td>False</td>\n",
       "      <td>1</td>\n",
       "    </tr>\n",
       "    <tr>\n",
       "      <th>4</th>\n",
       "      <td>[-0.07612752, -0.011232175999999993, -0.131726...</td>\n",
       "      <td>[-0.19760572236106183, 0.15322830212421143, -0...</td>\n",
       "      <td>[-0.21589275000000002, 0.14882689999999996, -0...</td>\n",
       "      <td>In the meantime, I should like to observe a mi...</td>\n",
       "      <td>Heute möchte ich Sie bitten - das ist auch der...</td>\n",
       "      <td>[meantime, ,, like, observe, minute, ', silenc...</td>\n",
       "      <td>[heute, möchte, bitten, -, wunsch, kolleginnen...</td>\n",
       "      <td>18</td>\n",
       "      <td>15</td>\n",
       "      <td>7</td>\n",
       "      <td>6</td>\n",
       "      <td>False</td>\n",
       "      <td>False</td>\n",
       "      <td>False</td>\n",
       "      <td>False</td>\n",
       "      <td>1</td>\n",
       "    </tr>\n",
       "  </tbody>\n",
       "</table>\n",
       "</div>"
      ],
      "text/plain": [
       "                                       src_embedding  \\\n",
       "0  [-0.07040999999999999, 0.094428, 0.1178755, -0...   \n",
       "1  [-0.05200671428571431, 0.016875466666666665, -...   \n",
       "2  [-0.08509222727272729, -0.03279808636363638, -...   \n",
       "3  [-0.064901, -0.08438565454545456, -0.008655272...   \n",
       "4  [-0.07612752, -0.011232175999999993, -0.131726...   \n",
       "\n",
       "                               src_embedding_aligned  \\\n",
       "0  [-0.3088614732459478, 0.3472727241705731, -0.2...   \n",
       "1  [-0.19811859957522993, 0.2886577921005622, -0....   \n",
       "2  [-0.19086391830712227, 0.07257094264933953, -0...   \n",
       "3  [-0.1613263801336713, 0.22534862126715746, -0....   \n",
       "4  [-0.19760572236106183, 0.15322830212421143, -0...   \n",
       "\n",
       "                                       trg_embedding  \\\n",
       "0  [-0.22081, 0.49136, -0.09375700000000001, -0.6...   \n",
       "1  [-0.1368885, 0.29018044444444446, -0.152462499...   \n",
       "2  [-0.1190726470588235, 0.13479876470588237, -0....   \n",
       "3  [-0.12862244444444446, 0.33829177777777786, -0...   \n",
       "4  [-0.21589275000000002, 0.14882689999999996, -0...   \n",
       "\n",
       "                                        src_sentence  \\\n",
       "0                          Resumption of the session   \n",
       "1  I declare resumed the session of the European ...   \n",
       "2  Although, as you will have seen, the dreaded '...   \n",
       "3  You have requested a debate on this subject in...   \n",
       "4  In the meantime, I should like to observe a mi...   \n",
       "\n",
       "                                        trg_sentence  \\\n",
       "0                 Wiederaufnahme der Sitzungsperiode   \n",
       "1  Ich erkläre die am Freitag, dem 17. Dezember u...   \n",
       "2  Wie Sie feststellen konnten, ist der gefürchte...   \n",
       "3  Im Parlament besteht der Wunsch nach einer Aus...   \n",
       "4  Heute möchte ich Sie bitten - das ist auch der...   \n",
       "\n",
       "                                    src_preprocessed  \\\n",
       "0                              [resumption, session]   \n",
       "1  [declare, resumed, session, european, parliame...   \n",
       "2  [although, ,, seen, ,, dreaded, ', millennium,...   \n",
       "3  [requested, debate, subject, course, next, day...   \n",
       "4  [meantime, ,, like, observe, minute, ', silenc...   \n",
       "\n",
       "                                    trg_preprocessed  src_num_words  \\\n",
       "0                  [wiederaufnahme, sitzungsperiode]              2   \n",
       "1  [erkläre, freitag, ,, 17, ., dezember, unterbr...             21   \n",
       "2  [feststellen, konnten, ,, gefürchtete, \", mill...             17   \n",
       "3  [parlament, besteht, wunsch, aussprache, verla...              8   \n",
       "4  [heute, möchte, bitten, -, wunsch, kolleginnen...             18   \n",
       "\n",
       "   trg_num_words  src_num_punctuation  trg_num_punctuation  \\\n",
       "0              2                    0                    0   \n",
       "1             16                    2                    5   \n",
       "2             13                    6                    6   \n",
       "3              8                    3                    1   \n",
       "4             15                    7                    6   \n",
       "\n",
       "   src_occ_question_mark  trg_occ_question_mark  src_occ_exclamation_mark  \\\n",
       "0                  False                  False                     False   \n",
       "1                  False                  False                     False   \n",
       "2                  False                  False                     False   \n",
       "3                  False                  False                     False   \n",
       "4                  False                  False                     False   \n",
       "\n",
       "   trg_occ_exclamation_mark  translation  \n",
       "0                     False            1  \n",
       "1                     False            1  \n",
       "2                     False            1  \n",
       "3                     False            1  \n",
       "4                     False            1  "
      ]
     },
     "execution_count": 73,
     "metadata": {},
     "output_type": "execute_result"
    }
   ],
   "source": [
    "train_data.head()"
   ]
  },
  {
   "cell_type": "code",
   "execution_count": 74,
   "metadata": {},
   "outputs": [],
   "source": [
    "# specify desired dimension of sentence embedding in dim_emb\n",
    "# 0: single sentence embedding elements won't be extracted as features\n",
    "# 1,...299: dimension of sentence embedding will be reduced according to specified dim_emb and elements will be extracted as features \n",
    "# 300: sentence embedding elements will be extracted in original form\n",
    "dim_emb = 0\n",
    "features_dict = {'text_based': ['diff_{}'.format(feat) for feat in prepared_features], \n",
    "                 'vector_based': ['cosine_similarity'],\n",
    "                 'vector_elements': ['src_embedding_{}'.format(i) for i in range(dim_emb)]}\n",
    "features_dict['vector_elements'].extend(['trg_embedding_{}'.format(i) for i in range(dim_emb)])"
   ]
  },
  {
   "cell_type": "code",
   "execution_count": 75,
   "metadata": {
    "scrolled": true
   },
   "outputs": [
    {
     "name": "stdout",
     "output_type": "stream",
     "text": [
      "Started diff_num_words\n",
      "Started diff_num_punctuation\n",
      "Started diff_occ_question_mark\n",
      "Started diff_occ_exclamation_mark\n",
      "Started cosine_similarity\n"
     ]
    }
   ],
   "source": [
    "train_data = sens.extract_features(features_dict=features_dict, data='train')"
   ]
  },
  {
   "cell_type": "code",
   "execution_count": 76,
   "metadata": {},
   "outputs": [
    {
     "data": {
      "text/html": [
       "<div>\n",
       "<style scoped>\n",
       "    .dataframe tbody tr th:only-of-type {\n",
       "        vertical-align: middle;\n",
       "    }\n",
       "\n",
       "    .dataframe tbody tr th {\n",
       "        vertical-align: top;\n",
       "    }\n",
       "\n",
       "    .dataframe thead th {\n",
       "        text-align: right;\n",
       "    }\n",
       "</style>\n",
       "<table border=\"1\" class=\"dataframe\">\n",
       "  <thead>\n",
       "    <tr style=\"text-align: right;\">\n",
       "      <th></th>\n",
       "      <th>src_embedding</th>\n",
       "      <th>src_embedding_aligned</th>\n",
       "      <th>trg_embedding</th>\n",
       "      <th>src_sentence</th>\n",
       "      <th>trg_sentence</th>\n",
       "      <th>src_preprocessed</th>\n",
       "      <th>trg_preprocessed</th>\n",
       "      <th>translation</th>\n",
       "      <th>diff_num_words</th>\n",
       "      <th>diff_num_punctuation</th>\n",
       "      <th>diff_occ_question_mark</th>\n",
       "      <th>diff_occ_exclamation_mark</th>\n",
       "      <th>cosine_similarity</th>\n",
       "    </tr>\n",
       "  </thead>\n",
       "  <tbody>\n",
       "    <tr>\n",
       "      <th>0</th>\n",
       "      <td>[-0.07040999999999999, 0.094428, 0.1178755, -0...</td>\n",
       "      <td>[-0.3088614732459478, 0.3472727241705731, -0.2...</td>\n",
       "      <td>[-0.22081, 0.49136, -0.09375700000000001, -0.6...</td>\n",
       "      <td>Resumption of the session</td>\n",
       "      <td>Wiederaufnahme der Sitzungsperiode</td>\n",
       "      <td>[resumption, session]</td>\n",
       "      <td>[wiederaufnahme, sitzungsperiode]</td>\n",
       "      <td>1</td>\n",
       "      <td>0</td>\n",
       "      <td>0</td>\n",
       "      <td>0</td>\n",
       "      <td>0</td>\n",
       "      <td>0.699530</td>\n",
       "    </tr>\n",
       "    <tr>\n",
       "      <th>1</th>\n",
       "      <td>[-0.05200671428571431, 0.016875466666666665, -...</td>\n",
       "      <td>[-0.19811859957522993, 0.2886577921005622, -0....</td>\n",
       "      <td>[-0.1368885, 0.29018044444444446, -0.152462499...</td>\n",
       "      <td>I declare resumed the session of the European ...</td>\n",
       "      <td>Ich erkläre die am Freitag, dem 17. Dezember u...</td>\n",
       "      <td>[declare, resumed, session, european, parliame...</td>\n",
       "      <td>[erkläre, freitag, ,, 17, ., dezember, unterbr...</td>\n",
       "      <td>1</td>\n",
       "      <td>5</td>\n",
       "      <td>3</td>\n",
       "      <td>0</td>\n",
       "      <td>0</td>\n",
       "      <td>0.875350</td>\n",
       "    </tr>\n",
       "    <tr>\n",
       "      <th>2</th>\n",
       "      <td>[-0.08509222727272729, -0.03279808636363638, -...</td>\n",
       "      <td>[-0.19086391830712227, 0.07257094264933953, -0...</td>\n",
       "      <td>[-0.1190726470588235, 0.13479876470588237, -0....</td>\n",
       "      <td>Although, as you will have seen, the dreaded '...</td>\n",
       "      <td>Wie Sie feststellen konnten, ist der gefürchte...</td>\n",
       "      <td>[although, ,, seen, ,, dreaded, ', millennium,...</td>\n",
       "      <td>[feststellen, konnten, ,, gefürchtete, \", mill...</td>\n",
       "      <td>1</td>\n",
       "      <td>4</td>\n",
       "      <td>0</td>\n",
       "      <td>0</td>\n",
       "      <td>0</td>\n",
       "      <td>0.842287</td>\n",
       "    </tr>\n",
       "    <tr>\n",
       "      <th>3</th>\n",
       "      <td>[-0.064901, -0.08438565454545456, -0.008655272...</td>\n",
       "      <td>[-0.1613263801336713, 0.22534862126715746, -0....</td>\n",
       "      <td>[-0.12862244444444446, 0.33829177777777786, -0...</td>\n",
       "      <td>You have requested a debate on this subject in...</td>\n",
       "      <td>Im Parlament besteht der Wunsch nach einer Aus...</td>\n",
       "      <td>[requested, debate, subject, course, next, day...</td>\n",
       "      <td>[parlament, besteht, wunsch, aussprache, verla...</td>\n",
       "      <td>1</td>\n",
       "      <td>0</td>\n",
       "      <td>2</td>\n",
       "      <td>0</td>\n",
       "      <td>0</td>\n",
       "      <td>0.749109</td>\n",
       "    </tr>\n",
       "    <tr>\n",
       "      <th>4</th>\n",
       "      <td>[-0.07612752, -0.011232175999999993, -0.131726...</td>\n",
       "      <td>[-0.19760572236106183, 0.15322830212421143, -0...</td>\n",
       "      <td>[-0.21589275000000002, 0.14882689999999996, -0...</td>\n",
       "      <td>In the meantime, I should like to observe a mi...</td>\n",
       "      <td>Heute möchte ich Sie bitten - das ist auch der...</td>\n",
       "      <td>[meantime, ,, like, observe, minute, ', silenc...</td>\n",
       "      <td>[heute, möchte, bitten, -, wunsch, kolleginnen...</td>\n",
       "      <td>1</td>\n",
       "      <td>3</td>\n",
       "      <td>1</td>\n",
       "      <td>0</td>\n",
       "      <td>0</td>\n",
       "      <td>0.887995</td>\n",
       "    </tr>\n",
       "  </tbody>\n",
       "</table>\n",
       "</div>"
      ],
      "text/plain": [
       "                                       src_embedding  \\\n",
       "0  [-0.07040999999999999, 0.094428, 0.1178755, -0...   \n",
       "1  [-0.05200671428571431, 0.016875466666666665, -...   \n",
       "2  [-0.08509222727272729, -0.03279808636363638, -...   \n",
       "3  [-0.064901, -0.08438565454545456, -0.008655272...   \n",
       "4  [-0.07612752, -0.011232175999999993, -0.131726...   \n",
       "\n",
       "                               src_embedding_aligned  \\\n",
       "0  [-0.3088614732459478, 0.3472727241705731, -0.2...   \n",
       "1  [-0.19811859957522993, 0.2886577921005622, -0....   \n",
       "2  [-0.19086391830712227, 0.07257094264933953, -0...   \n",
       "3  [-0.1613263801336713, 0.22534862126715746, -0....   \n",
       "4  [-0.19760572236106183, 0.15322830212421143, -0...   \n",
       "\n",
       "                                       trg_embedding  \\\n",
       "0  [-0.22081, 0.49136, -0.09375700000000001, -0.6...   \n",
       "1  [-0.1368885, 0.29018044444444446, -0.152462499...   \n",
       "2  [-0.1190726470588235, 0.13479876470588237, -0....   \n",
       "3  [-0.12862244444444446, 0.33829177777777786, -0...   \n",
       "4  [-0.21589275000000002, 0.14882689999999996, -0...   \n",
       "\n",
       "                                        src_sentence  \\\n",
       "0                          Resumption of the session   \n",
       "1  I declare resumed the session of the European ...   \n",
       "2  Although, as you will have seen, the dreaded '...   \n",
       "3  You have requested a debate on this subject in...   \n",
       "4  In the meantime, I should like to observe a mi...   \n",
       "\n",
       "                                        trg_sentence  \\\n",
       "0                 Wiederaufnahme der Sitzungsperiode   \n",
       "1  Ich erkläre die am Freitag, dem 17. Dezember u...   \n",
       "2  Wie Sie feststellen konnten, ist der gefürchte...   \n",
       "3  Im Parlament besteht der Wunsch nach einer Aus...   \n",
       "4  Heute möchte ich Sie bitten - das ist auch der...   \n",
       "\n",
       "                                    src_preprocessed  \\\n",
       "0                              [resumption, session]   \n",
       "1  [declare, resumed, session, european, parliame...   \n",
       "2  [although, ,, seen, ,, dreaded, ', millennium,...   \n",
       "3  [requested, debate, subject, course, next, day...   \n",
       "4  [meantime, ,, like, observe, minute, ', silenc...   \n",
       "\n",
       "                                    trg_preprocessed  translation  \\\n",
       "0                  [wiederaufnahme, sitzungsperiode]            1   \n",
       "1  [erkläre, freitag, ,, 17, ., dezember, unterbr...            1   \n",
       "2  [feststellen, konnten, ,, gefürchtete, \", mill...            1   \n",
       "3  [parlament, besteht, wunsch, aussprache, verla...            1   \n",
       "4  [heute, möchte, bitten, -, wunsch, kolleginnen...            1   \n",
       "\n",
       "   diff_num_words  diff_num_punctuation  diff_occ_question_mark  \\\n",
       "0               0                     0                       0   \n",
       "1               5                     3                       0   \n",
       "2               4                     0                       0   \n",
       "3               0                     2                       0   \n",
       "4               3                     1                       0   \n",
       "\n",
       "   diff_occ_exclamation_mark  cosine_similarity  \n",
       "0                          0           0.699530  \n",
       "1                          0           0.875350  \n",
       "2                          0           0.842287  \n",
       "3                          0           0.749109  \n",
       "4                          0           0.887995  "
      ]
     },
     "execution_count": 76,
     "metadata": {},
     "output_type": "execute_result"
    }
   ],
   "source": [
    "train_data.head()"
   ]
  },
  {
   "cell_type": "markdown",
   "metadata": {},
   "source": [
    "# Create logistic regression model"
   ]
  },
  {
   "cell_type": "markdown",
   "metadata": {},
   "source": [
    "### Fit a logistic regression model on training data"
   ]
  },
  {
   "cell_type": "code",
   "execution_count": 77,
   "metadata": {},
   "outputs": [],
   "source": [
    "features = [feature for values in features_dict.values() for feature in values]\n",
    "label = 'translation'"
   ]
  },
  {
   "cell_type": "code",
   "execution_count": 78,
   "metadata": {},
   "outputs": [],
   "source": [
    "logisticRegr = LogisticRegression()"
   ]
  },
  {
   "cell_type": "code",
   "execution_count": 79,
   "metadata": {},
   "outputs": [],
   "source": [
    "X_train = train_data[features]\n",
    "y_train = train_data[[label]]"
   ]
  },
  {
   "cell_type": "code",
   "execution_count": 80,
   "metadata": {},
   "outputs": [
    {
     "data": {
      "text/plain": [
       "LogisticRegression(C=1.0, class_weight=None, dual=False, fit_intercept=True,\n",
       "                   intercept_scaling=1, l1_ratio=None, max_iter=100,\n",
       "                   multi_class='auto', n_jobs=None, penalty='l2',\n",
       "                   random_state=None, solver='lbfgs', tol=0.0001, verbose=0,\n",
       "                   warm_start=False)"
      ]
     },
     "execution_count": 80,
     "metadata": {},
     "output_type": "execute_result"
    }
   ],
   "source": [
    "logisticRegr.fit(X_train, y_train)"
   ]
  },
  {
   "cell_type": "code",
   "execution_count": 81,
   "metadata": {},
   "outputs": [
    {
     "data": {
      "text/plain": [
       "array([[-0.43057101, -0.35255732, -0.28223152,  0.29064566, 19.08996513]])"
      ]
     },
     "execution_count": 81,
     "metadata": {},
     "output_type": "execute_result"
    }
   ],
   "source": [
    "logisticRegr.coef_"
   ]
  },
  {
   "cell_type": "markdown",
   "metadata": {},
   "source": [
    "### Save model"
   ]
  },
  {
   "cell_type": "code",
   "execution_count": 82,
   "metadata": {},
   "outputs": [],
   "source": [
    "#sup_model.SupModel.save_model(model=logisticRegr, name='logReg_v0.2', prepared_features=sens.prepared_features, features=sens.features_dict)\n"
   ]
  },
  {
   "cell_type": "markdown",
   "metadata": {},
   "source": [
    "# Evaluate logistic regression model"
   ]
  },
  {
   "cell_type": "markdown",
   "metadata": {},
   "source": [
    "### Create test collection, annotate translation label and do feature engineering"
   ]
  },
  {
   "cell_type": "code",
   "execution_count": 83,
   "metadata": {},
   "outputs": [],
   "source": [
    "test_data = sens.create_test_collection(n_queries=100, n_docs=9949)"
   ]
  },
  {
   "cell_type": "code",
   "execution_count": 84,
   "metadata": {
    "scrolled": true
   },
   "outputs": [
    {
     "data": {
      "text/plain": [
       "994900"
      ]
     },
     "execution_count": 84,
     "metadata": {},
     "output_type": "execute_result"
    }
   ],
   "source": [
    "len(test_data)"
   ]
  },
  {
   "cell_type": "code",
   "execution_count": 85,
   "metadata": {},
   "outputs": [
    {
     "name": "stdout",
     "output_type": "stream",
     "text": [
      "Started diff_num_words\n",
      "Started diff_num_punctuation\n",
      "Started diff_occ_question_mark\n",
      "Started diff_occ_exclamation_mark\n",
      "Started cosine_similarity\n"
     ]
    }
   ],
   "source": [
    "test_data = sens.extract_features(features_dict=features_dict, data='test')"
   ]
  },
  {
   "cell_type": "code",
   "execution_count": 86,
   "metadata": {},
   "outputs": [
    {
     "data": {
      "text/html": [
       "<div>\n",
       "<style scoped>\n",
       "    .dataframe tbody tr th:only-of-type {\n",
       "        vertical-align: middle;\n",
       "    }\n",
       "\n",
       "    .dataframe tbody tr th {\n",
       "        vertical-align: top;\n",
       "    }\n",
       "\n",
       "    .dataframe thead th {\n",
       "        text-align: right;\n",
       "    }\n",
       "</style>\n",
       "<table border=\"1\" class=\"dataframe\">\n",
       "  <thead>\n",
       "    <tr style=\"text-align: right;\">\n",
       "      <th></th>\n",
       "      <th>src_sentence</th>\n",
       "      <th>src_preprocessed</th>\n",
       "      <th>src_embedding</th>\n",
       "      <th>src_embedding_aligned</th>\n",
       "      <th>trg_sentence</th>\n",
       "      <th>trg_preprocessed</th>\n",
       "      <th>trg_embedding</th>\n",
       "      <th>translation</th>\n",
       "      <th>diff_num_words</th>\n",
       "      <th>diff_num_punctuation</th>\n",
       "      <th>diff_occ_question_mark</th>\n",
       "      <th>diff_occ_exclamation_mark</th>\n",
       "      <th>cosine_similarity</th>\n",
       "    </tr>\n",
       "  </thead>\n",
       "  <tbody>\n",
       "    <tr>\n",
       "      <th>0</th>\n",
       "      <td>It was decided to try and achieve greater cohe...</td>\n",
       "      <td>[decided, try, achieve, greater, coherence, cu...</td>\n",
       "      <td>[-0.048211736842105266, 0.05641728421052632, -...</td>\n",
       "      <td>[-0.0969772502481965, 0.06966935894749798, -0....</td>\n",
       "      <td>Es ging genau darum, eine Aktion im Sinne eine...</td>\n",
       "      <td>[ging, genau, darum, ,, aktion, sinne, größere...</td>\n",
       "      <td>[-0.11921721739130432, 0.055093369565217404, -...</td>\n",
       "      <td>1</td>\n",
       "      <td>3</td>\n",
       "      <td>2</td>\n",
       "      <td>0</td>\n",
       "      <td>0</td>\n",
       "      <td>0.871409</td>\n",
       "    </tr>\n",
       "    <tr>\n",
       "      <th>1</th>\n",
       "      <td>It was decided to try and achieve greater cohe...</td>\n",
       "      <td>[decided, try, achieve, greater, coherence, cu...</td>\n",
       "      <td>[-0.048211736842105266, 0.05641728421052632, -...</td>\n",
       "      <td>[-0.0969772502481965, 0.06966935894749798, -0....</td>\n",
       "      <td>Darüber hinaus muß versucht werden - wie wir e...</td>\n",
       "      <td>[darüber, hinaus, muß, versucht, -, bereits, b...</td>\n",
       "      <td>[-0.16698228372093024, 0.013159534883720923, -...</td>\n",
       "      <td>0</td>\n",
       "      <td>24</td>\n",
       "      <td>7</td>\n",
       "      <td>0</td>\n",
       "      <td>0</td>\n",
       "      <td>0.836974</td>\n",
       "    </tr>\n",
       "    <tr>\n",
       "      <th>2</th>\n",
       "      <td>It was decided to try and achieve greater cohe...</td>\n",
       "      <td>[decided, try, achieve, greater, coherence, cu...</td>\n",
       "      <td>[-0.048211736842105266, 0.05641728421052632, -...</td>\n",
       "      <td>[-0.0969772502481965, 0.06966935894749798, -0....</td>\n",
       "      <td>In diesem Prozeß haben die Verpflichtungen in ...</td>\n",
       "      <td>[prozeß, verpflichtungen, bezug, ziele, nation...</td>\n",
       "      <td>[-0.21648888888888887, 0.008203444444444449, -...</td>\n",
       "      <td>0</td>\n",
       "      <td>1</td>\n",
       "      <td>1</td>\n",
       "      <td>0</td>\n",
       "      <td>0</td>\n",
       "      <td>0.769093</td>\n",
       "    </tr>\n",
       "    <tr>\n",
       "      <th>3</th>\n",
       "      <td>It was decided to try and achieve greater cohe...</td>\n",
       "      <td>[decided, try, achieve, greater, coherence, cu...</td>\n",
       "      <td>[-0.048211736842105266, 0.05641728421052632, -...</td>\n",
       "      <td>[-0.0969772502481965, 0.06966935894749798, -0....</td>\n",
       "      <td>In einer zweiten Dimension - und hier ist sehr...</td>\n",
       "      <td>[zweiten, dimension, -, wohl, rückgriff, europ...</td>\n",
       "      <td>[-0.09003026592592593, -0.07708211111111112, -...</td>\n",
       "      <td>0</td>\n",
       "      <td>8</td>\n",
       "      <td>2</td>\n",
       "      <td>0</td>\n",
       "      <td>0</td>\n",
       "      <td>0.788372</td>\n",
       "    </tr>\n",
       "    <tr>\n",
       "      <th>4</th>\n",
       "      <td>It was decided to try and achieve greater cohe...</td>\n",
       "      <td>[decided, try, achieve, greater, coherence, cu...</td>\n",
       "      <td>[-0.048211736842105266, 0.05641728421052632, -...</td>\n",
       "      <td>[-0.0969772502481965, 0.06966935894749798, -0....</td>\n",
       "      <td>Die Kommission war auf diesem Gebiet äußerst a...</td>\n",
       "      <td>[kommission, gebiet, äußerst, aktiv, ., kommis...</td>\n",
       "      <td>[-0.1492267619047619, 0.028525047619047617, -0...</td>\n",
       "      <td>0</td>\n",
       "      <td>5</td>\n",
       "      <td>2</td>\n",
       "      <td>0</td>\n",
       "      <td>0</td>\n",
       "      <td>0.723034</td>\n",
       "    </tr>\n",
       "  </tbody>\n",
       "</table>\n",
       "</div>"
      ],
      "text/plain": [
       "                                        src_sentence  \\\n",
       "0  It was decided to try and achieve greater cohe...   \n",
       "1  It was decided to try and achieve greater cohe...   \n",
       "2  It was decided to try and achieve greater cohe...   \n",
       "3  It was decided to try and achieve greater cohe...   \n",
       "4  It was decided to try and achieve greater cohe...   \n",
       "\n",
       "                                    src_preprocessed  \\\n",
       "0  [decided, try, achieve, greater, coherence, cu...   \n",
       "1  [decided, try, achieve, greater, coherence, cu...   \n",
       "2  [decided, try, achieve, greater, coherence, cu...   \n",
       "3  [decided, try, achieve, greater, coherence, cu...   \n",
       "4  [decided, try, achieve, greater, coherence, cu...   \n",
       "\n",
       "                                       src_embedding  \\\n",
       "0  [-0.048211736842105266, 0.05641728421052632, -...   \n",
       "1  [-0.048211736842105266, 0.05641728421052632, -...   \n",
       "2  [-0.048211736842105266, 0.05641728421052632, -...   \n",
       "3  [-0.048211736842105266, 0.05641728421052632, -...   \n",
       "4  [-0.048211736842105266, 0.05641728421052632, -...   \n",
       "\n",
       "                               src_embedding_aligned  \\\n",
       "0  [-0.0969772502481965, 0.06966935894749798, -0....   \n",
       "1  [-0.0969772502481965, 0.06966935894749798, -0....   \n",
       "2  [-0.0969772502481965, 0.06966935894749798, -0....   \n",
       "3  [-0.0969772502481965, 0.06966935894749798, -0....   \n",
       "4  [-0.0969772502481965, 0.06966935894749798, -0....   \n",
       "\n",
       "                                        trg_sentence  \\\n",
       "0  Es ging genau darum, eine Aktion im Sinne eine...   \n",
       "1  Darüber hinaus muß versucht werden - wie wir e...   \n",
       "2  In diesem Prozeß haben die Verpflichtungen in ...   \n",
       "3  In einer zweiten Dimension - und hier ist sehr...   \n",
       "4  Die Kommission war auf diesem Gebiet äußerst a...   \n",
       "\n",
       "                                    trg_preprocessed  \\\n",
       "0  [ging, genau, darum, ,, aktion, sinne, größere...   \n",
       "1  [darüber, hinaus, muß, versucht, -, bereits, b...   \n",
       "2  [prozeß, verpflichtungen, bezug, ziele, nation...   \n",
       "3  [zweiten, dimension, -, wohl, rückgriff, europ...   \n",
       "4  [kommission, gebiet, äußerst, aktiv, ., kommis...   \n",
       "\n",
       "                                       trg_embedding  translation  \\\n",
       "0  [-0.11921721739130432, 0.055093369565217404, -...            1   \n",
       "1  [-0.16698228372093024, 0.013159534883720923, -...            0   \n",
       "2  [-0.21648888888888887, 0.008203444444444449, -...            0   \n",
       "3  [-0.09003026592592593, -0.07708211111111112, -...            0   \n",
       "4  [-0.1492267619047619, 0.028525047619047617, -0...            0   \n",
       "\n",
       "   diff_num_words  diff_num_punctuation  diff_occ_question_mark  \\\n",
       "0               3                     2                       0   \n",
       "1              24                     7                       0   \n",
       "2               1                     1                       0   \n",
       "3               8                     2                       0   \n",
       "4               5                     2                       0   \n",
       "\n",
       "   diff_occ_exclamation_mark  cosine_similarity  \n",
       "0                          0           0.871409  \n",
       "1                          0           0.836974  \n",
       "2                          0           0.769093  \n",
       "3                          0           0.788372  \n",
       "4                          0           0.723034  "
      ]
     },
     "execution_count": 86,
     "metadata": {},
     "output_type": "execute_result"
    }
   ],
   "source": [
    "test_data.head()"
   ]
  },
  {
   "cell_type": "markdown",
   "metadata": {},
   "source": [
    "### Evaluate boolean classifier"
   ]
  },
  {
   "cell_type": "markdown",
   "metadata": {},
   "source": [
    "#### \"Hard coded\""
   ]
  },
  {
   "cell_type": "code",
   "execution_count": 87,
   "metadata": {},
   "outputs": [],
   "source": [
    "y_pred = logisticRegr.predict(test_data[features])\n",
    "y_true = test_data[label]"
   ]
  },
  {
   "cell_type": "code",
   "execution_count": 97,
   "metadata": {},
   "outputs": [],
   "source": [
    "forest = RandomForestClassifier(1000)\n",
    "forest.fit(X_train, y_train)\n",
    "y_pred_forest = forest.predict(test_data[features])\n",
    "y_true_forest = test_data[label]"
   ]
  },
  {
   "cell_type": "code",
   "execution_count": 98,
   "metadata": {},
   "outputs": [
    {
     "data": {
      "text/plain": [
       "131188"
      ]
     },
     "metadata": {},
     "output_type": "display_data"
    },
    {
     "data": {
      "text/plain": [
       "100"
      ]
     },
     "metadata": {},
     "output_type": "display_data"
    },
    {
     "data": {
      "text/plain": [
       "994900"
      ]
     },
     "metadata": {},
     "output_type": "display_data"
    }
   ],
   "source": [
    "display(sum(y_pred_forest))\n",
    "display(sum(y_true))\n",
    "display(len(y_pred_forest))"
   ]
  },
  {
   "cell_type": "code",
   "execution_count": 100,
   "metadata": {},
   "outputs": [
    {
     "data": {
      "text/plain": [
       "0.0006631704119279202"
      ]
     },
     "execution_count": 100,
     "metadata": {},
     "output_type": "execute_result"
    }
   ],
   "source": [
    "precision_score(y_true, y_pred_forest)"
   ]
  },
  {
   "cell_type": "code",
   "execution_count": 101,
   "metadata": {},
   "outputs": [
    {
     "data": {
      "text/plain": [
       "0.87"
      ]
     },
     "execution_count": 101,
     "metadata": {},
     "output_type": "execute_result"
    }
   ],
   "source": [
    "recall_score(y_true, y_pred_forest)"
   ]
  },
  {
   "cell_type": "code",
   "execution_count": 102,
   "metadata": {},
   "outputs": [
    {
     "data": {
      "text/plain": [
       "0.8682138908433008"
      ]
     },
     "execution_count": 102,
     "metadata": {},
     "output_type": "execute_result"
    }
   ],
   "source": [
    "accuracy_score(y_true, y_pred_forest)"
   ]
  },
  {
   "cell_type": "code",
   "execution_count": 103,
   "metadata": {},
   "outputs": [
    {
     "data": {
      "text/plain": [
       "0.0013253305709585036"
      ]
     },
     "execution_count": 103,
     "metadata": {},
     "output_type": "execute_result"
    }
   ],
   "source": [
    "f1_score(y_true, y_pred_forest)"
   ]
  },
  {
   "cell_type": "markdown",
   "metadata": {},
   "source": [
    "#### Using SupModel instance"
   ]
  },
  {
   "cell_type": "code",
   "execution_count": 104,
   "metadata": {},
   "outputs": [],
   "source": [
    "sup = sup_model.SupModel()\n",
    "#sup.evaluate_boolean(logisticRegr, sens)"
   ]
  },
  {
   "cell_type": "code",
   "execution_count": null,
   "metadata": {},
   "outputs": [],
   "source": [
    "sup.accuracy"
   ]
  },
  {
   "cell_type": "code",
   "execution_count": null,
   "metadata": {},
   "outputs": [],
   "source": [
    "sup.precision"
   ]
  },
  {
   "cell_type": "code",
   "execution_count": null,
   "metadata": {},
   "outputs": [],
   "source": [
    "sup.recall"
   ]
  },
  {
   "cell_type": "code",
   "execution_count": null,
   "metadata": {},
   "outputs": [],
   "source": [
    "sup.f1"
   ]
  },
  {
   "cell_type": "code",
   "execution_count": null,
   "metadata": {},
   "outputs": [],
   "source": [
    "sens.features_dict"
   ]
  },
  {
   "cell_type": "markdown",
   "metadata": {},
   "source": [
    "### Evaluate ranking"
   ]
  },
  {
   "cell_type": "code",
   "execution_count": 105,
   "metadata": {},
   "outputs": [
    {
     "data": {
      "text/plain": [
       "0.1031920623378471"
      ]
     },
     "execution_count": 105,
     "metadata": {},
     "output_type": "execute_result"
    }
   ],
   "source": [
    "sup.compute_map(forest, sens)"
   ]
  },
  {
   "cell_type": "markdown",
   "metadata": {},
   "source": [
    "### Load preloaded model and apply ranking"
   ]
  },
  {
   "cell_type": "code",
   "execution_count": 133,
   "metadata": {},
   "outputs": [],
   "source": [
    "logisticRegr, prepared_features, features = sup_model.SupModel.load_model(name='logReg_v0.2')"
   ]
  },
  {
   "cell_type": "code",
   "execution_count": null,
   "metadata": {},
   "outputs": [],
   "source": []
  },
  {
   "cell_type": "markdown",
   "metadata": {},
   "source": [
    "### Rank target sentences in test dataset"
   ]
  },
  {
   "cell_type": "code",
   "execution_count": 173,
   "metadata": {
    "scrolled": true
   },
   "outputs": [
    {
     "name": "stdout",
     "output_type": "stream",
     "text": [
      "Done with index: 0\n",
      "Done with index: 100\n"
     ]
    }
   ],
   "source": [
    "sup_model.SupModel.rank_trg_sentences(logisticRegr, sens)\n"
   ]
  },
  {
   "cell_type": "code",
   "execution_count": 126,
   "metadata": {},
   "outputs": [
    {
     "data": {
      "text/html": [
       "<div>\n",
       "<style scoped>\n",
       "    .dataframe tbody tr th:only-of-type {\n",
       "        vertical-align: middle;\n",
       "    }\n",
       "\n",
       "    .dataframe tbody tr th {\n",
       "        vertical-align: top;\n",
       "    }\n",
       "\n",
       "    .dataframe thead th {\n",
       "        text-align: right;\n",
       "    }\n",
       "</style>\n",
       "<table border=\"1\" class=\"dataframe\">\n",
       "  <thead>\n",
       "    <tr style=\"text-align: right;\">\n",
       "      <th></th>\n",
       "      <th>src_sentence</th>\n",
       "      <th>trg_sentence</th>\n",
       "      <th>src_preprocessed</th>\n",
       "      <th>trg_preprocessed</th>\n",
       "      <th>src_embedding</th>\n",
       "      <th>trg_embedding</th>\n",
       "      <th>src_num_words</th>\n",
       "      <th>trg_num_words</th>\n",
       "      <th>src_num_punctuation</th>\n",
       "      <th>trg_num_punctuation</th>\n",
       "      <th>src_occ_question_mark</th>\n",
       "      <th>trg_occ_question_mark</th>\n",
       "      <th>src_occ_exclamation_mark</th>\n",
       "      <th>trg_occ_exclamation_mark</th>\n",
       "      <th>src_num_noun</th>\n",
       "      <th>trg_num_noun</th>\n",
       "      <th>src_num_verb</th>\n",
       "      <th>trg_num_verb</th>\n",
       "      <th>src_num_adverb</th>\n",
       "      <th>trg_num_adverb</th>\n",
       "      <th>src_num_adjective</th>\n",
       "      <th>trg_num_adjective</th>\n",
       "      <th>src_num_wh</th>\n",
       "      <th>trg_num_wh</th>\n",
       "      <th>src_num_pronoun</th>\n",
       "      <th>trg_num_pronoun</th>\n",
       "      <th>translation</th>\n",
       "      <th>predictions</th>\n",
       "      <th>predicted_sentences</th>\n",
       "      <th>predicted_probabilities</th>\n",
       "    </tr>\n",
       "  </thead>\n",
       "  <tbody>\n",
       "    <tr>\n",
       "      <th>0</th>\n",
       "      <td>On the other hand, we can be fairly confident ...</td>\n",
       "      <td>Hingegen kann man der Zukunft einigermaßen zuv...</td>\n",
       "      <td>[hand, ,, fairly, confident, future, know, eff...</td>\n",
       "      <td>[hingegen, zukunft, einigermaßen, zuversichtli...</td>\n",
       "      <td>[-0.03125365286703291, 0.05021663067572581, -0...</td>\n",
       "      <td>[-0.12881409285714285, -0.026504692857142853, ...</td>\n",
       "      <td>19</td>\n",
       "      <td>16</td>\n",
       "      <td>6</td>\n",
       "      <td>3</td>\n",
       "      <td>False</td>\n",
       "      <td>False</td>\n",
       "      <td>False</td>\n",
       "      <td>False</td>\n",
       "      <td>12</td>\n",
       "      <td>15</td>\n",
       "      <td>3</td>\n",
       "      <td>0</td>\n",
       "      <td>1</td>\n",
       "      <td>0</td>\n",
       "      <td>3</td>\n",
       "      <td>0</td>\n",
       "      <td>0</td>\n",
       "      <td>0</td>\n",
       "      <td>0</td>\n",
       "      <td>0</td>\n",
       "      <td>1</td>\n",
       "      <td>[[Unterstreichen möchte ich auch, daß es notwe...</td>\n",
       "      <td>[Unterstreichen möchte ich auch, daß es notwen...</td>\n",
       "      <td>[0.9831631508796376, 0.9831631508796376, 0.983...</td>\n",
       "    </tr>\n",
       "    <tr>\n",
       "      <th>1</th>\n",
       "      <td>I should also like to stress the need to maint...</td>\n",
       "      <td>Unterstreichen möchte ich auch, daß es notwend...</td>\n",
       "      <td>[also, like, stress, need, maintain, flexible,...</td>\n",
       "      <td>[unterstreichen, möchte, ,, notwendig, ,, ents...</td>\n",
       "      <td>[-0.025572795222382205, -0.0009202446333488115...</td>\n",
       "      <td>[-0.03415418181818181, 0.03397977727272728, -0...</td>\n",
       "      <td>23</td>\n",
       "      <td>19</td>\n",
       "      <td>3</td>\n",
       "      <td>6</td>\n",
       "      <td>False</td>\n",
       "      <td>False</td>\n",
       "      <td>False</td>\n",
       "      <td>False</td>\n",
       "      <td>10</td>\n",
       "      <td>14</td>\n",
       "      <td>4</td>\n",
       "      <td>2</td>\n",
       "      <td>3</td>\n",
       "      <td>1</td>\n",
       "      <td>4</td>\n",
       "      <td>2</td>\n",
       "      <td>0</td>\n",
       "      <td>0</td>\n",
       "      <td>0</td>\n",
       "      <td>0</td>\n",
       "      <td>1</td>\n",
       "      <td>[[Doch diese notwendige realistische und pragm...</td>\n",
       "      <td>[Doch diese notwendige realistische und pragma...</td>\n",
       "      <td>[0.9380140491536678, 0.9380140491536678, 0.912...</td>\n",
       "    </tr>\n",
       "    <tr>\n",
       "      <th>2</th>\n",
       "      <td>This is a problem of compatibility between our...</td>\n",
       "      <td>Dies ist eine Frage der Vereinbarkeit unserer ...</td>\n",
       "      <td>[problem, compatibility, directives, end, -, -...</td>\n",
       "      <td>[frage, vereinbarkeit, unserer, richtlinien, a...</td>\n",
       "      <td>[-0.13964157818371498, 0.03865048480077487, -0...</td>\n",
       "      <td>[-0.12898427777777777, -0.00664022222222222, -...</td>\n",
       "      <td>15</td>\n",
       "      <td>14</td>\n",
       "      <td>6</td>\n",
       "      <td>5</td>\n",
       "      <td>False</td>\n",
       "      <td>False</td>\n",
       "      <td>False</td>\n",
       "      <td>False</td>\n",
       "      <td>8</td>\n",
       "      <td>12</td>\n",
       "      <td>4</td>\n",
       "      <td>0</td>\n",
       "      <td>1</td>\n",
       "      <td>0</td>\n",
       "      <td>1</td>\n",
       "      <td>2</td>\n",
       "      <td>0</td>\n",
       "      <td>0</td>\n",
       "      <td>0</td>\n",
       "      <td>0</td>\n",
       "      <td>1</td>\n",
       "      <td>[[Die vom Parlament vorgeschlagene Lösung, d. ...</td>\n",
       "      <td>[Die vom Parlament vorgeschlagene Lösung, d. h...</td>\n",
       "      <td>[0.9428284887565496, 0.9256622022827817, 0.923...</td>\n",
       "    </tr>\n",
       "    <tr>\n",
       "      <th>3</th>\n",
       "      <td>We must therefore congratulate the Committee o...</td>\n",
       "      <td>Man kann sich daher nur über die Klugheit des ...</td>\n",
       "      <td>[must, therefore, congratulate, committee, env...</td>\n",
       "      <td>[daher, klugheit, ausschusses, umweltfragen, ,...</td>\n",
       "      <td>[-0.10510580457469121, 0.08141651421038351, -0...</td>\n",
       "      <td>[-0.13002725, 0.12540335, -0.15950131875, -0.2...</td>\n",
       "      <td>25</td>\n",
       "      <td>16</td>\n",
       "      <td>5</td>\n",
       "      <td>5</td>\n",
       "      <td>False</td>\n",
       "      <td>False</td>\n",
       "      <td>False</td>\n",
       "      <td>False</td>\n",
       "      <td>13</td>\n",
       "      <td>9</td>\n",
       "      <td>4</td>\n",
       "      <td>1</td>\n",
       "      <td>1</td>\n",
       "      <td>1</td>\n",
       "      <td>6</td>\n",
       "      <td>2</td>\n",
       "      <td>0</td>\n",
       "      <td>0</td>\n",
       "      <td>0</td>\n",
       "      <td>0</td>\n",
       "      <td>1</td>\n",
       "      <td>[[Ich möchte nochmals kurz auf die wirtschaftl...</td>\n",
       "      <td>[Ich möchte nochmals kurz auf die wirtschaftli...</td>\n",
       "      <td>[0.9774905186008319, 0.9733422658640649, 0.973...</td>\n",
       "    </tr>\n",
       "    <tr>\n",
       "      <th>4</th>\n",
       "      <td>In conclusion, let me say that this directive ...</td>\n",
       "      <td>Abschließend möchte ich feststellen, daß diese...</td>\n",
       "      <td>[conclusion, ,, let, say, directive, ambitious...</td>\n",
       "      <td>[abschließend, möchte, feststellen, ,, richtli...</td>\n",
       "      <td>[-0.18686343283558546, 0.1048829425718163, -0....</td>\n",
       "      <td>[-0.14413220833333332, -0.0016888750000000005,...</td>\n",
       "      <td>22</td>\n",
       "      <td>21</td>\n",
       "      <td>3</td>\n",
       "      <td>7</td>\n",
       "      <td>False</td>\n",
       "      <td>False</td>\n",
       "      <td>False</td>\n",
       "      <td>False</td>\n",
       "      <td>10</td>\n",
       "      <td>18</td>\n",
       "      <td>5</td>\n",
       "      <td>2</td>\n",
       "      <td>3</td>\n",
       "      <td>0</td>\n",
       "      <td>4</td>\n",
       "      <td>0</td>\n",
       "      <td>0</td>\n",
       "      <td>0</td>\n",
       "      <td>0</td>\n",
       "      <td>0</td>\n",
       "      <td>1</td>\n",
       "      <td>[[Aus meiner eigenen kommunalpolitischen Erfah...</td>\n",
       "      <td>[Aus meiner eigenen kommunalpolitischen Erfahr...</td>\n",
       "      <td>[0.9214032349946576, 0.9179825901790721, 0.909...</td>\n",
       "    </tr>\n",
       "  </tbody>\n",
       "</table>\n",
       "</div>"
      ],
      "text/plain": [
       "                                        src_sentence  \\\n",
       "0  On the other hand, we can be fairly confident ...   \n",
       "1  I should also like to stress the need to maint...   \n",
       "2  This is a problem of compatibility between our...   \n",
       "3  We must therefore congratulate the Committee o...   \n",
       "4  In conclusion, let me say that this directive ...   \n",
       "\n",
       "                                        trg_sentence  \\\n",
       "0  Hingegen kann man der Zukunft einigermaßen zuv...   \n",
       "1  Unterstreichen möchte ich auch, daß es notwend...   \n",
       "2  Dies ist eine Frage der Vereinbarkeit unserer ...   \n",
       "3  Man kann sich daher nur über die Klugheit des ...   \n",
       "4  Abschließend möchte ich feststellen, daß diese...   \n",
       "\n",
       "                                    src_preprocessed  \\\n",
       "0  [hand, ,, fairly, confident, future, know, eff...   \n",
       "1  [also, like, stress, need, maintain, flexible,...   \n",
       "2  [problem, compatibility, directives, end, -, -...   \n",
       "3  [must, therefore, congratulate, committee, env...   \n",
       "4  [conclusion, ,, let, say, directive, ambitious...   \n",
       "\n",
       "                                    trg_preprocessed  \\\n",
       "0  [hingegen, zukunft, einigermaßen, zuversichtli...   \n",
       "1  [unterstreichen, möchte, ,, notwendig, ,, ents...   \n",
       "2  [frage, vereinbarkeit, unserer, richtlinien, a...   \n",
       "3  [daher, klugheit, ausschusses, umweltfragen, ,...   \n",
       "4  [abschließend, möchte, feststellen, ,, richtli...   \n",
       "\n",
       "                                       src_embedding  \\\n",
       "0  [-0.03125365286703291, 0.05021663067572581, -0...   \n",
       "1  [-0.025572795222382205, -0.0009202446333488115...   \n",
       "2  [-0.13964157818371498, 0.03865048480077487, -0...   \n",
       "3  [-0.10510580457469121, 0.08141651421038351, -0...   \n",
       "4  [-0.18686343283558546, 0.1048829425718163, -0....   \n",
       "\n",
       "                                       trg_embedding  src_num_words  \\\n",
       "0  [-0.12881409285714285, -0.026504692857142853, ...             19   \n",
       "1  [-0.03415418181818181, 0.03397977727272728, -0...             23   \n",
       "2  [-0.12898427777777777, -0.00664022222222222, -...             15   \n",
       "3  [-0.13002725, 0.12540335, -0.15950131875, -0.2...             25   \n",
       "4  [-0.14413220833333332, -0.0016888750000000005,...             22   \n",
       "\n",
       "   trg_num_words  src_num_punctuation  trg_num_punctuation  \\\n",
       "0             16                    6                    3   \n",
       "1             19                    3                    6   \n",
       "2             14                    6                    5   \n",
       "3             16                    5                    5   \n",
       "4             21                    3                    7   \n",
       "\n",
       "   src_occ_question_mark  trg_occ_question_mark  src_occ_exclamation_mark  \\\n",
       "0                  False                  False                     False   \n",
       "1                  False                  False                     False   \n",
       "2                  False                  False                     False   \n",
       "3                  False                  False                     False   \n",
       "4                  False                  False                     False   \n",
       "\n",
       "   trg_occ_exclamation_mark  src_num_noun  trg_num_noun  src_num_verb  \\\n",
       "0                     False            12            15             3   \n",
       "1                     False            10            14             4   \n",
       "2                     False             8            12             4   \n",
       "3                     False            13             9             4   \n",
       "4                     False            10            18             5   \n",
       "\n",
       "   trg_num_verb  src_num_adverb  trg_num_adverb  src_num_adjective  \\\n",
       "0             0               1               0                  3   \n",
       "1             2               3               1                  4   \n",
       "2             0               1               0                  1   \n",
       "3             1               1               1                  6   \n",
       "4             2               3               0                  4   \n",
       "\n",
       "   trg_num_adjective  src_num_wh  trg_num_wh  src_num_pronoun  \\\n",
       "0                  0           0           0                0   \n",
       "1                  2           0           0                0   \n",
       "2                  2           0           0                0   \n",
       "3                  2           0           0                0   \n",
       "4                  0           0           0                0   \n",
       "\n",
       "   trg_num_pronoun  translation  \\\n",
       "0                0            1   \n",
       "1                0            1   \n",
       "2                0            1   \n",
       "3                0            1   \n",
       "4                0            1   \n",
       "\n",
       "                                         predictions  \\\n",
       "0  [[Unterstreichen möchte ich auch, daß es notwe...   \n",
       "1  [[Doch diese notwendige realistische und pragm...   \n",
       "2  [[Die vom Parlament vorgeschlagene Lösung, d. ...   \n",
       "3  [[Ich möchte nochmals kurz auf die wirtschaftl...   \n",
       "4  [[Aus meiner eigenen kommunalpolitischen Erfah...   \n",
       "\n",
       "                                 predicted_sentences  \\\n",
       "0  [Unterstreichen möchte ich auch, daß es notwen...   \n",
       "1  [Doch diese notwendige realistische und pragma...   \n",
       "2  [Die vom Parlament vorgeschlagene Lösung, d. h...   \n",
       "3  [Ich möchte nochmals kurz auf die wirtschaftli...   \n",
       "4  [Aus meiner eigenen kommunalpolitischen Erfahr...   \n",
       "\n",
       "                             predicted_probabilities  \n",
       "0  [0.9831631508796376, 0.9831631508796376, 0.983...  \n",
       "1  [0.9380140491536678, 0.9380140491536678, 0.912...  \n",
       "2  [0.9428284887565496, 0.9256622022827817, 0.923...  \n",
       "3  [0.9774905186008319, 0.9733422658640649, 0.973...  \n",
       "4  [0.9214032349946576, 0.9179825901790721, 0.909...  "
      ]
     },
     "execution_count": 126,
     "metadata": {},
     "output_type": "execute_result"
    }
   ],
   "source": [
    "sens.test_data.head()"
   ]
  },
  {
   "cell_type": "code",
   "execution_count": 193,
   "metadata": {},
   "outputs": [
    {
     "data": {
      "text/plain": [
       "0.44"
      ]
     },
     "execution_count": 193,
     "metadata": {},
     "output_type": "execute_result"
    }
   ],
   "source": [
    "# Train: 4800, Test: 200 | Only true translations\n",
    "sup_model.SupModel.evaluate_at_k(sens, 1)"
   ]
  },
  {
   "cell_type": "code",
   "execution_count": 189,
   "metadata": {},
   "outputs": [
    {
     "data": {
      "text/plain": [
       "0.62"
      ]
     },
     "execution_count": 189,
     "metadata": {},
     "output_type": "execute_result"
    }
   ],
   "source": [
    "# Train: 4800, Test: 200 | Only true translations\n",
    "sup_model.SupModel.evaluate_at_k(sens, 3)"
   ]
  },
  {
   "cell_type": "code",
   "execution_count": 190,
   "metadata": {},
   "outputs": [
    {
     "data": {
      "text/plain": [
       "0.68"
      ]
     },
     "execution_count": 190,
     "metadata": {},
     "output_type": "execute_result"
    }
   ],
   "source": [
    "# Train: 4800, Test: 200 | Only true translations\n",
    "sup_model.SupModel.evaluate_at_k(sens, 5)"
   ]
  },
  {
   "cell_type": "code",
   "execution_count": 191,
   "metadata": {},
   "outputs": [
    {
     "data": {
      "text/plain": [
       "0.78"
      ]
     },
     "execution_count": 191,
     "metadata": {},
     "output_type": "execute_result"
    }
   ],
   "source": [
    "# Train: 4800, Test: 200 | Only true translations\n",
    "sup_model.SupModel.evaluate_at_k(sens, 10)"
   ]
  },
  {
   "cell_type": "code",
   "execution_count": null,
   "metadata": {},
   "outputs": [],
   "source": [
    "# Train: 4800, Test: 200\n",
    "sup_model.SupModel.evaluate_at_k(sens, 1)"
   ]
  },
  {
   "cell_type": "code",
   "execution_count": 177,
   "metadata": {},
   "outputs": [
    {
     "data": {
      "text/plain": [
       "0.31"
      ]
     },
     "execution_count": 177,
     "metadata": {},
     "output_type": "execute_result"
    }
   ],
   "source": [
    "# Train: 4800, Test: 200\n",
    "sup_model.SupModel.evaluate_at_k(sens, 3)"
   ]
  },
  {
   "cell_type": "code",
   "execution_count": 178,
   "metadata": {},
   "outputs": [
    {
     "data": {
      "text/plain": [
       "0.34"
      ]
     },
     "execution_count": 178,
     "metadata": {},
     "output_type": "execute_result"
    }
   ],
   "source": [
    "# Train: 4800, Test: 200\n",
    "sup_model.SupModel.evaluate_at_k(sens, 5)"
   ]
  },
  {
   "cell_type": "code",
   "execution_count": 179,
   "metadata": {},
   "outputs": [
    {
     "data": {
      "text/plain": [
       "0.41"
      ]
     },
     "execution_count": 179,
     "metadata": {},
     "output_type": "execute_result"
    }
   ],
   "source": [
    "# Train: 4800, Test: 200\n",
    "sup_model.SupModel.evaluate_at_k(sens, 10)"
   ]
  },
  {
   "cell_type": "code",
   "execution_count": 127,
   "metadata": {},
   "outputs": [
    {
     "data": {
      "text/plain": [
       "0.176"
      ]
     },
     "execution_count": 127,
     "metadata": {},
     "output_type": "execute_result"
    }
   ],
   "source": [
    "# Train: 7000, Test: 3000\n",
    "sup_model.SupModel.evaluate_at_k(sens, 1)"
   ]
  },
  {
   "cell_type": "code",
   "execution_count": 128,
   "metadata": {},
   "outputs": [
    {
     "data": {
      "text/plain": [
       "0.22166666666666668"
      ]
     },
     "execution_count": 128,
     "metadata": {},
     "output_type": "execute_result"
    }
   ],
   "source": [
    "# Train: 7000, Test: 3000\n",
    "sup_model.SupModel.evaluate_at_k(sens, 3)"
   ]
  },
  {
   "cell_type": "code",
   "execution_count": 129,
   "metadata": {},
   "outputs": [
    {
     "data": {
      "text/plain": [
       "0.253"
      ]
     },
     "execution_count": 129,
     "metadata": {},
     "output_type": "execute_result"
    }
   ],
   "source": [
    "# Train: 7000, Test: 3000\n",
    "sup_model.SupModel.evaluate_at_k(sens, 5)"
   ]
  },
  {
   "cell_type": "code",
   "execution_count": 130,
   "metadata": {},
   "outputs": [
    {
     "data": {
      "text/plain": [
       "0.2966666666666667"
      ]
     },
     "execution_count": 130,
     "metadata": {},
     "output_type": "execute_result"
    }
   ],
   "source": [
    "# Train: 7000, Test: 3000\n",
    "sup_model.SupModel.evaluate_at_k(sens, 10)"
   ]
  },
  {
   "cell_type": "code",
   "execution_count": 101,
   "metadata": {},
   "outputs": [
    {
     "data": {
      "text/plain": [
       "0.248"
      ]
     },
     "execution_count": 101,
     "metadata": {},
     "output_type": "execute_result"
    }
   ],
   "source": [
    "# Train: 4000, Test: 1000\n",
    "sup_model.SupModel.evaluate_at_k(sens, 1)"
   ]
  },
  {
   "cell_type": "code",
   "execution_count": 102,
   "metadata": {},
   "outputs": [
    {
     "data": {
      "text/plain": [
       "0.292"
      ]
     },
     "execution_count": 102,
     "metadata": {},
     "output_type": "execute_result"
    }
   ],
   "source": [
    "# Train: 4000, Test: 1000\n",
    "sup_model.SupModel.evaluate_at_k(sens, 3)"
   ]
  },
  {
   "cell_type": "code",
   "execution_count": 103,
   "metadata": {},
   "outputs": [
    {
     "data": {
      "text/plain": [
       "0.318"
      ]
     },
     "execution_count": 103,
     "metadata": {},
     "output_type": "execute_result"
    }
   ],
   "source": [
    "# Train: 4000, Test: 1000\n",
    "sup_model.SupModel.evaluate_at_k(sens, 5)"
   ]
  },
  {
   "cell_type": "code",
   "execution_count": 104,
   "metadata": {},
   "outputs": [
    {
     "data": {
      "text/plain": [
       "0.365"
      ]
     },
     "execution_count": 104,
     "metadata": {},
     "output_type": "execute_result"
    }
   ],
   "source": [
    "# Train: 4000, Test: 1000\n",
    "sup_model.SupModel.evaluate_at_k(sens, 10)"
   ]
  }
 ],
 "metadata": {
  "kernelspec": {
   "display_name": "Python 3",
   "language": "python",
   "name": "python3"
  },
  "language_info": {
   "codemirror_mode": {
    "name": "ipython",
    "version": 3
   },
   "file_extension": ".py",
   "mimetype": "text/x-python",
   "name": "python",
   "nbconvert_exporter": "python",
   "pygments_lexer": "ipython3",
   "version": "3.7.2"
  }
 },
 "nbformat": 4,
 "nbformat_minor": 2
}
