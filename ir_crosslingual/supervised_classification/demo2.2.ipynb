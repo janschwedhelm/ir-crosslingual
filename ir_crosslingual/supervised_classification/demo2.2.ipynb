{
 "cells": [
  {
   "cell_type": "code",
   "execution_count": 1,
   "metadata": {},
   "outputs": [],
   "source": [
    "import pandas as pd\n",
    "import numpy as np\n",
    "import importlib, os, math\n",
    "\n",
    "from sklearn.metrics.pairwise import cosine_similarity\n",
    "from sklearn.metrics import precision_score, accuracy_score, recall_score, f1_score\n",
    "from sklearn.linear_model import LogisticRegression\n",
    "from sklearn.decomposition import PCA\n",
    "\n",
    "import warnings\n",
    "warnings.filterwarnings('ignore')\n",
    "\n",
    "pd.set_option('display.max_columns', None)\n",
    "pd.set_option('display.max_rows', None)"
   ]
  },
  {
   "cell_type": "code",
   "execution_count": 2,
   "metadata": {},
   "outputs": [
    {
     "data": {
      "text/plain": [
       "<module 'ir_crosslingual.sentences.sentences' from '/Users/jani/PycharmProjects/ir-crosslingual/ir_crosslingual/sentences/sentences.py'>"
      ]
     },
     "execution_count": 2,
     "metadata": {},
     "output_type": "execute_result"
    }
   ],
   "source": [
    "from ir_crosslingual.embeddings import embeddings\n",
    "importlib.reload(embeddings)\n",
    "\n",
    "from ir_crosslingual.features import text_based\n",
    "importlib.reload(text_based)\n",
    "\n",
    "from ir_crosslingual.features import vector_based\n",
    "importlib.reload(vector_based)\n",
    "\n",
    "from ir_crosslingual.supervised_classification import sup_model\n",
    "importlib.reload(sup_model)\n",
    "\n",
    "from ir_crosslingual.utils import paths\n",
    "importlib.reload(paths)\n",
    "\n",
    "from ir_crosslingual.sentences import sentences\n",
    "importlib.reload(sentences)"
   ]
  },
  {
   "cell_type": "markdown",
   "metadata": {},
   "source": [
    "# Load data"
   ]
  },
  {
   "cell_type": "markdown",
   "metadata": {},
   "source": [
    "## Word embeddings"
   ]
  },
  {
   "cell_type": "code",
   "execution_count": 3,
   "metadata": {},
   "outputs": [],
   "source": [
    "german = embeddings.WordEmbeddings('de')\n",
    "german.load_embeddings()\n",
    "\n",
    "english = embeddings.WordEmbeddings('en')\n",
    "english.load_embeddings()"
   ]
  },
  {
   "cell_type": "code",
   "execution_count": 4,
   "metadata": {},
   "outputs": [
    {
     "name": "stdout",
     "output_type": "stream",
     "text": [
      "Learn projection matrix for en-de\n",
      "Found 13700 valid translation pairs in expert dictionary.\n",
      "977 other pairs contained at least one unknown word (0 in source language, 977 in target language).\n",
      "Resulting subspace dimension: (13700, 300)\n",
      "Resulting subspace dimension: (13700, 300)\n",
      "Learn projection matrix for de-en\n",
      "Found 10604 valid translation pairs in expert dictionary.\n",
      "262 other pairs contained at least one unknown word (0 in source language, 262 in target language).\n",
      "Resulting subspace dimension: (10604, 300)\n",
      "Resulting subspace dimension: (10604, 300)\n"
     ]
    }
   ],
   "source": [
    "W_ende, W_deen = embeddings.WordEmbeddings.learn_projection_matrix(src_lang='en', trg_lang='de')"
   ]
  },
  {
   "cell_type": "markdown",
   "metadata": {},
   "source": [
    "## Sentence embeddings and feature engineering preparation"
   ]
  },
  {
   "cell_type": "code",
   "execution_count": 5,
   "metadata": {},
   "outputs": [],
   "source": [
    "prepared_features = ['num_words', 'num_punctuation', 'occ_question_mark', 'occ_exclamation_mark']"
   ]
  },
  {
   "cell_type": "code",
   "execution_count": 6,
   "metadata": {},
   "outputs": [],
   "source": [
    "sens = sentences.Sentences(src_words=english, trg_words=german)"
   ]
  },
  {
   "cell_type": "code",
   "execution_count": 7,
   "metadata": {
    "scrolled": true
   },
   "outputs": [
    {
     "name": "stdout",
     "output_type": "stream",
     "text": [
      "Target sentences loaded\n",
      "Source sentences loaded\n",
      "Sentences preprocessed\n",
      "Sentences embeddings extracted in en\n",
      "Could not find a term of the sentence 'Sicherheitsberater für den Gefahrguttransport' in word embedding vocabulary and thus, could not calculate the respective embedding vector.\n",
      "Could not find a term of the sentence 'Arbeitsplan' in word embedding vocabulary and thus, could not calculate the respective embedding vector.\n",
      "Sentences embeddings extracted in de\n",
      "Sentences transformed\n",
      "Start preparation of feature num_words\n",
      "Start preparation of feature num_punctuation\n",
      "Start preparation of feature occ_question_mark\n",
      "Start preparation of feature occ_exclamation_mark\n"
     ]
    }
   ],
   "source": [
    "data = sens.load_data(single_source=False, n_max=500, features=prepared_features, dim_red=50, align=False)"
   ]
  },
  {
   "cell_type": "code",
   "execution_count": 11,
   "metadata": {},
   "outputs": [
    {
     "data": {
      "text/html": [
       "<div>\n",
       "<style scoped>\n",
       "    .dataframe tbody tr th:only-of-type {\n",
       "        vertical-align: middle;\n",
       "    }\n",
       "\n",
       "    .dataframe tbody tr th {\n",
       "        vertical-align: top;\n",
       "    }\n",
       "\n",
       "    .dataframe thead th {\n",
       "        text-align: right;\n",
       "    }\n",
       "</style>\n",
       "<table border=\"1\" class=\"dataframe\">\n",
       "  <thead>\n",
       "    <tr style=\"text-align: right;\">\n",
       "      <th></th>\n",
       "      <th>src_embedding</th>\n",
       "      <th>trg_embedding</th>\n",
       "      <th>src_embedding_0</th>\n",
       "      <th>src_embedding_1</th>\n",
       "      <th>src_embedding_2</th>\n",
       "      <th>src_embedding_3</th>\n",
       "      <th>src_embedding_4</th>\n",
       "      <th>src_embedding_5</th>\n",
       "      <th>src_embedding_6</th>\n",
       "      <th>src_embedding_7</th>\n",
       "      <th>src_embedding_8</th>\n",
       "      <th>src_embedding_9</th>\n",
       "      <th>src_embedding_10</th>\n",
       "      <th>src_embedding_11</th>\n",
       "      <th>src_embedding_12</th>\n",
       "      <th>src_embedding_13</th>\n",
       "      <th>src_embedding_14</th>\n",
       "      <th>src_embedding_15</th>\n",
       "      <th>src_embedding_16</th>\n",
       "      <th>src_embedding_17</th>\n",
       "      <th>src_embedding_18</th>\n",
       "      <th>src_embedding_19</th>\n",
       "      <th>src_embedding_20</th>\n",
       "      <th>src_embedding_21</th>\n",
       "      <th>src_embedding_22</th>\n",
       "      <th>src_embedding_23</th>\n",
       "      <th>src_embedding_24</th>\n",
       "      <th>src_embedding_25</th>\n",
       "      <th>src_embedding_26</th>\n",
       "      <th>src_embedding_27</th>\n",
       "      <th>src_embedding_28</th>\n",
       "      <th>src_embedding_29</th>\n",
       "      <th>src_embedding_30</th>\n",
       "      <th>src_embedding_31</th>\n",
       "      <th>src_embedding_32</th>\n",
       "      <th>src_embedding_33</th>\n",
       "      <th>src_embedding_34</th>\n",
       "      <th>src_embedding_35</th>\n",
       "      <th>src_embedding_36</th>\n",
       "      <th>src_embedding_37</th>\n",
       "      <th>src_embedding_38</th>\n",
       "      <th>src_embedding_39</th>\n",
       "      <th>src_embedding_40</th>\n",
       "      <th>src_embedding_41</th>\n",
       "      <th>src_embedding_42</th>\n",
       "      <th>src_embedding_43</th>\n",
       "      <th>src_embedding_44</th>\n",
       "      <th>src_embedding_45</th>\n",
       "      <th>src_embedding_46</th>\n",
       "      <th>src_embedding_47</th>\n",
       "      <th>src_embedding_48</th>\n",
       "      <th>src_embedding_49</th>\n",
       "      <th>src_sentence</th>\n",
       "      <th>trg_sentence</th>\n",
       "      <th>src_preprocessed</th>\n",
       "      <th>trg_preprocessed</th>\n",
       "      <th>src_num_words</th>\n",
       "      <th>trg_num_words</th>\n",
       "      <th>src_num_punctuation</th>\n",
       "      <th>trg_num_punctuation</th>\n",
       "      <th>src_occ_question_mark</th>\n",
       "      <th>trg_occ_question_mark</th>\n",
       "      <th>src_occ_exclamation_mark</th>\n",
       "      <th>trg_occ_exclamation_mark</th>\n",
       "    </tr>\n",
       "  </thead>\n",
       "  <tbody>\n",
       "    <tr>\n",
       "      <th>0</th>\n",
       "      <td>[-0.07040999999999999, 0.094428, 0.1178755, -0...</td>\n",
       "      <td>[-0.22081, 0.49136, -0.09375700000000001, -0.6...</td>\n",
       "      <td>-6.813816e-17</td>\n",
       "      <td>1.022941e-15</td>\n",
       "      <td>-9.500174e-16</td>\n",
       "      <td>-1.240892e-15</td>\n",
       "      <td>3.294819e-15</td>\n",
       "      <td>2.933314e-15</td>\n",
       "      <td>4.044607e-15</td>\n",
       "      <td>-1.099121e-14</td>\n",
       "      <td>0.756065</td>\n",
       "      <td>-0.221209</td>\n",
       "      <td>0.065760</td>\n",
       "      <td>-0.485744</td>\n",
       "      <td>0.527874</td>\n",
       "      <td>0.175845</td>\n",
       "      <td>-0.150931</td>\n",
       "      <td>0.218552</td>\n",
       "      <td>0.115515</td>\n",
       "      <td>-0.255623</td>\n",
       "      <td>0.369324</td>\n",
       "      <td>-0.165940</td>\n",
       "      <td>0.149499</td>\n",
       "      <td>0.499675</td>\n",
       "      <td>-0.117910</td>\n",
       "      <td>-0.024260</td>\n",
       "      <td>-0.338445</td>\n",
       "      <td>0.180633</td>\n",
       "      <td>-0.025906</td>\n",
       "      <td>-0.095632</td>\n",
       "      <td>-0.131813</td>\n",
       "      <td>-0.086932</td>\n",
       "      <td>-0.117843</td>\n",
       "      <td>0.206108</td>\n",
       "      <td>0.086321</td>\n",
       "      <td>-0.040380</td>\n",
       "      <td>-0.005119</td>\n",
       "      <td>0.038331</td>\n",
       "      <td>0.125831</td>\n",
       "      <td>-0.151752</td>\n",
       "      <td>0.231917</td>\n",
       "      <td>0.041745</td>\n",
       "      <td>0.048371</td>\n",
       "      <td>-0.011108</td>\n",
       "      <td>0.079806</td>\n",
       "      <td>-0.042099</td>\n",
       "      <td>0.079771</td>\n",
       "      <td>0.068157</td>\n",
       "      <td>-0.148824</td>\n",
       "      <td>-0.048697</td>\n",
       "      <td>0.084795</td>\n",
       "      <td>-0.051762</td>\n",
       "      <td>Resumption of the session</td>\n",
       "      <td>Wiederaufnahme der Sitzungsperiode</td>\n",
       "      <td>[resumption, session]</td>\n",
       "      <td>[wiederaufnahme, sitzungsperiode]</td>\n",
       "      <td>2</td>\n",
       "      <td>2</td>\n",
       "      <td>0</td>\n",
       "      <td>0</td>\n",
       "      <td>False</td>\n",
       "      <td>False</td>\n",
       "      <td>False</td>\n",
       "      <td>False</td>\n",
       "    </tr>\n",
       "    <tr>\n",
       "      <th>1</th>\n",
       "      <td>[-0.05200671428571431, 0.016875466666666665, -...</td>\n",
       "      <td>[-0.1368885, 0.29018044444444446, -0.152462499...</td>\n",
       "      <td>3.434671e-17</td>\n",
       "      <td>2.763557e-17</td>\n",
       "      <td>5.000543e-17</td>\n",
       "      <td>1.136636e-16</td>\n",
       "      <td>2.893820e-16</td>\n",
       "      <td>3.856392e-16</td>\n",
       "      <td>-1.531151e-16</td>\n",
       "      <td>-9.922618e-16</td>\n",
       "      <td>0.027637</td>\n",
       "      <td>-0.090500</td>\n",
       "      <td>-0.043361</td>\n",
       "      <td>-0.230276</td>\n",
       "      <td>-0.011518</td>\n",
       "      <td>-0.152904</td>\n",
       "      <td>-0.099750</td>\n",
       "      <td>0.274953</td>\n",
       "      <td>0.075749</td>\n",
       "      <td>-0.105287</td>\n",
       "      <td>-0.043292</td>\n",
       "      <td>-0.093664</td>\n",
       "      <td>-0.015760</td>\n",
       "      <td>0.037400</td>\n",
       "      <td>0.070964</td>\n",
       "      <td>0.154733</td>\n",
       "      <td>0.048981</td>\n",
       "      <td>-0.017400</td>\n",
       "      <td>0.114574</td>\n",
       "      <td>-0.139906</td>\n",
       "      <td>0.094416</td>\n",
       "      <td>0.018032</td>\n",
       "      <td>-0.059899</td>\n",
       "      <td>0.030677</td>\n",
       "      <td>-0.040633</td>\n",
       "      <td>-0.039876</td>\n",
       "      <td>0.009193</td>\n",
       "      <td>0.061246</td>\n",
       "      <td>0.038447</td>\n",
       "      <td>0.160714</td>\n",
       "      <td>0.009780</td>\n",
       "      <td>-0.102946</td>\n",
       "      <td>-0.060325</td>\n",
       "      <td>-0.059150</td>\n",
       "      <td>-0.076941</td>\n",
       "      <td>0.032945</td>\n",
       "      <td>0.019852</td>\n",
       "      <td>-0.031766</td>\n",
       "      <td>0.030744</td>\n",
       "      <td>0.022873</td>\n",
       "      <td>0.040077</td>\n",
       "      <td>-0.059257</td>\n",
       "      <td>I declare resumed the session of the European ...</td>\n",
       "      <td>Ich erkläre die am Freitag, dem 17. Dezember u...</td>\n",
       "      <td>[declare, resumed, session, european, parliame...</td>\n",
       "      <td>[erkläre, freitag, ,, 17, ., dezember, unterbr...</td>\n",
       "      <td>21</td>\n",
       "      <td>16</td>\n",
       "      <td>2</td>\n",
       "      <td>5</td>\n",
       "      <td>False</td>\n",
       "      <td>False</td>\n",
       "      <td>False</td>\n",
       "      <td>False</td>\n",
       "    </tr>\n",
       "    <tr>\n",
       "      <th>2</th>\n",
       "      <td>[-0.08509222727272729, -0.03279808636363638, -...</td>\n",
       "      <td>[-0.1190726470588235, 0.13479876470588237, -0....</td>\n",
       "      <td>-6.398263e-17</td>\n",
       "      <td>1.098377e-17</td>\n",
       "      <td>2.498758e-16</td>\n",
       "      <td>2.219906e-16</td>\n",
       "      <td>-2.003122e-16</td>\n",
       "      <td>-6.726332e-16</td>\n",
       "      <td>-1.226164e-15</td>\n",
       "      <td>1.665335e-16</td>\n",
       "      <td>-0.098161</td>\n",
       "      <td>-0.201713</td>\n",
       "      <td>-0.043703</td>\n",
       "      <td>0.019219</td>\n",
       "      <td>0.083174</td>\n",
       "      <td>0.029060</td>\n",
       "      <td>-0.106727</td>\n",
       "      <td>-0.095575</td>\n",
       "      <td>-0.109884</td>\n",
       "      <td>0.080379</td>\n",
       "      <td>-0.000990</td>\n",
       "      <td>0.095195</td>\n",
       "      <td>0.015152</td>\n",
       "      <td>-0.028045</td>\n",
       "      <td>-0.057315</td>\n",
       "      <td>0.274822</td>\n",
       "      <td>-0.077733</td>\n",
       "      <td>-0.045828</td>\n",
       "      <td>0.008512</td>\n",
       "      <td>0.049508</td>\n",
       "      <td>0.006612</td>\n",
       "      <td>-0.002893</td>\n",
       "      <td>-0.167989</td>\n",
       "      <td>-0.103978</td>\n",
       "      <td>0.051534</td>\n",
       "      <td>0.090515</td>\n",
       "      <td>-0.055573</td>\n",
       "      <td>-0.013326</td>\n",
       "      <td>-0.009915</td>\n",
       "      <td>-0.073128</td>\n",
       "      <td>0.052646</td>\n",
       "      <td>-0.105946</td>\n",
       "      <td>0.142619</td>\n",
       "      <td>0.146326</td>\n",
       "      <td>-0.070585</td>\n",
       "      <td>0.046388</td>\n",
       "      <td>-0.104762</td>\n",
       "      <td>-0.063911</td>\n",
       "      <td>0.146058</td>\n",
       "      <td>0.055143</td>\n",
       "      <td>-0.014528</td>\n",
       "      <td>-0.097608</td>\n",
       "      <td>Although, as you will have seen, the dreaded '...</td>\n",
       "      <td>Wie Sie feststellen konnten, ist der gefürchte...</td>\n",
       "      <td>[although, ,, seen, ,, dreaded, ', millennium,...</td>\n",
       "      <td>[feststellen, konnten, ,, gefürchtete, \", mill...</td>\n",
       "      <td>17</td>\n",
       "      <td>13</td>\n",
       "      <td>6</td>\n",
       "      <td>6</td>\n",
       "      <td>False</td>\n",
       "      <td>False</td>\n",
       "      <td>False</td>\n",
       "      <td>False</td>\n",
       "    </tr>\n",
       "    <tr>\n",
       "      <th>3</th>\n",
       "      <td>[-0.064901, -0.08438565454545456, -0.008655272...</td>\n",
       "      <td>[-0.12862244444444446, 0.33829177777777786, -0...</td>\n",
       "      <td>-2.677838e-17</td>\n",
       "      <td>2.265477e-16</td>\n",
       "      <td>-1.486344e-16</td>\n",
       "      <td>-1.152948e-16</td>\n",
       "      <td>4.621411e-16</td>\n",
       "      <td>-5.169262e-16</td>\n",
       "      <td>-2.510549e-16</td>\n",
       "      <td>-1.276756e-15</td>\n",
       "      <td>0.055067</td>\n",
       "      <td>-0.112013</td>\n",
       "      <td>-0.153533</td>\n",
       "      <td>-0.147879</td>\n",
       "      <td>0.017726</td>\n",
       "      <td>-0.207878</td>\n",
       "      <td>0.071429</td>\n",
       "      <td>0.240694</td>\n",
       "      <td>0.074224</td>\n",
       "      <td>0.101956</td>\n",
       "      <td>-0.032203</td>\n",
       "      <td>0.015778</td>\n",
       "      <td>-0.281565</td>\n",
       "      <td>0.031674</td>\n",
       "      <td>0.077897</td>\n",
       "      <td>0.078755</td>\n",
       "      <td>0.044893</td>\n",
       "      <td>0.027502</td>\n",
       "      <td>-0.085405</td>\n",
       "      <td>-0.085463</td>\n",
       "      <td>0.050354</td>\n",
       "      <td>0.045843</td>\n",
       "      <td>0.113155</td>\n",
       "      <td>0.049879</td>\n",
       "      <td>0.025113</td>\n",
       "      <td>0.160102</td>\n",
       "      <td>-0.065052</td>\n",
       "      <td>0.023541</td>\n",
       "      <td>0.077003</td>\n",
       "      <td>0.022075</td>\n",
       "      <td>-0.066768</td>\n",
       "      <td>-0.165715</td>\n",
       "      <td>0.148567</td>\n",
       "      <td>-0.038953</td>\n",
       "      <td>0.051826</td>\n",
       "      <td>0.024636</td>\n",
       "      <td>0.115914</td>\n",
       "      <td>-0.152551</td>\n",
       "      <td>0.036224</td>\n",
       "      <td>-0.060032</td>\n",
       "      <td>-0.040084</td>\n",
       "      <td>0.037022</td>\n",
       "      <td>You have requested a debate on this subject in...</td>\n",
       "      <td>Im Parlament besteht der Wunsch nach einer Aus...</td>\n",
       "      <td>[requested, debate, subject, course, next, day...</td>\n",
       "      <td>[parlament, besteht, wunsch, aussprache, verla...</td>\n",
       "      <td>8</td>\n",
       "      <td>8</td>\n",
       "      <td>3</td>\n",
       "      <td>1</td>\n",
       "      <td>False</td>\n",
       "      <td>False</td>\n",
       "      <td>False</td>\n",
       "      <td>False</td>\n",
       "    </tr>\n",
       "    <tr>\n",
       "      <th>4</th>\n",
       "      <td>[-0.07612752, -0.011232175999999993, -0.131726...</td>\n",
       "      <td>[-0.21589275000000002, 0.14882689999999996, -0...</td>\n",
       "      <td>-8.829223e-19</td>\n",
       "      <td>-1.065464e-16</td>\n",
       "      <td>3.348054e-16</td>\n",
       "      <td>7.592240e-17</td>\n",
       "      <td>2.661468e-16</td>\n",
       "      <td>-1.257577e-15</td>\n",
       "      <td>-1.335510e-15</td>\n",
       "      <td>-7.216450e-16</td>\n",
       "      <td>-0.058413</td>\n",
       "      <td>-0.304249</td>\n",
       "      <td>-0.093107</td>\n",
       "      <td>0.066716</td>\n",
       "      <td>-0.159424</td>\n",
       "      <td>-0.114272</td>\n",
       "      <td>0.075814</td>\n",
       "      <td>0.018780</td>\n",
       "      <td>-0.149323</td>\n",
       "      <td>0.060891</td>\n",
       "      <td>0.114424</td>\n",
       "      <td>-0.194163</td>\n",
       "      <td>0.071959</td>\n",
       "      <td>-0.109974</td>\n",
       "      <td>-0.019721</td>\n",
       "      <td>0.007437</td>\n",
       "      <td>-0.043336</td>\n",
       "      <td>-0.037701</td>\n",
       "      <td>-0.049601</td>\n",
       "      <td>-0.061106</td>\n",
       "      <td>0.047868</td>\n",
       "      <td>-0.021222</td>\n",
       "      <td>0.047966</td>\n",
       "      <td>-0.029327</td>\n",
       "      <td>0.008411</td>\n",
       "      <td>0.120060</td>\n",
       "      <td>0.000510</td>\n",
       "      <td>0.021471</td>\n",
       "      <td>0.033159</td>\n",
       "      <td>-0.017279</td>\n",
       "      <td>0.032576</td>\n",
       "      <td>-0.010282</td>\n",
       "      <td>0.031812</td>\n",
       "      <td>-0.069593</td>\n",
       "      <td>0.064648</td>\n",
       "      <td>0.037056</td>\n",
       "      <td>0.023304</td>\n",
       "      <td>0.067347</td>\n",
       "      <td>-0.115464</td>\n",
       "      <td>0.027130</td>\n",
       "      <td>0.057740</td>\n",
       "      <td>-0.054253</td>\n",
       "      <td>In the meantime, I should like to observe a mi...</td>\n",
       "      <td>Heute möchte ich Sie bitten - das ist auch der...</td>\n",
       "      <td>[meantime, ,, like, observe, minute, ', silenc...</td>\n",
       "      <td>[heute, möchte, bitten, -, wunsch, kolleginnen...</td>\n",
       "      <td>18</td>\n",
       "      <td>15</td>\n",
       "      <td>7</td>\n",
       "      <td>6</td>\n",
       "      <td>False</td>\n",
       "      <td>False</td>\n",
       "      <td>False</td>\n",
       "      <td>False</td>\n",
       "    </tr>\n",
       "  </tbody>\n",
       "</table>\n",
       "</div>"
      ],
      "text/plain": [
       "                                       src_embedding  \\\n",
       "0  [-0.07040999999999999, 0.094428, 0.1178755, -0...   \n",
       "1  [-0.05200671428571431, 0.016875466666666665, -...   \n",
       "2  [-0.08509222727272729, -0.03279808636363638, -...   \n",
       "3  [-0.064901, -0.08438565454545456, -0.008655272...   \n",
       "4  [-0.07612752, -0.011232175999999993, -0.131726...   \n",
       "\n",
       "                                       trg_embedding  src_embedding_0  \\\n",
       "0  [-0.22081, 0.49136, -0.09375700000000001, -0.6...    -6.813816e-17   \n",
       "1  [-0.1368885, 0.29018044444444446, -0.152462499...     3.434671e-17   \n",
       "2  [-0.1190726470588235, 0.13479876470588237, -0....    -6.398263e-17   \n",
       "3  [-0.12862244444444446, 0.33829177777777786, -0...    -2.677838e-17   \n",
       "4  [-0.21589275000000002, 0.14882689999999996, -0...    -8.829223e-19   \n",
       "\n",
       "   src_embedding_1  src_embedding_2  src_embedding_3  src_embedding_4  \\\n",
       "0     1.022941e-15    -9.500174e-16    -1.240892e-15     3.294819e-15   \n",
       "1     2.763557e-17     5.000543e-17     1.136636e-16     2.893820e-16   \n",
       "2     1.098377e-17     2.498758e-16     2.219906e-16    -2.003122e-16   \n",
       "3     2.265477e-16    -1.486344e-16    -1.152948e-16     4.621411e-16   \n",
       "4    -1.065464e-16     3.348054e-16     7.592240e-17     2.661468e-16   \n",
       "\n",
       "   src_embedding_5  src_embedding_6  src_embedding_7  src_embedding_8  \\\n",
       "0     2.933314e-15     4.044607e-15    -1.099121e-14         0.756065   \n",
       "1     3.856392e-16    -1.531151e-16    -9.922618e-16         0.027637   \n",
       "2    -6.726332e-16    -1.226164e-15     1.665335e-16        -0.098161   \n",
       "3    -5.169262e-16    -2.510549e-16    -1.276756e-15         0.055067   \n",
       "4    -1.257577e-15    -1.335510e-15    -7.216450e-16        -0.058413   \n",
       "\n",
       "   src_embedding_9  src_embedding_10  src_embedding_11  src_embedding_12  \\\n",
       "0        -0.221209          0.065760         -0.485744          0.527874   \n",
       "1        -0.090500         -0.043361         -0.230276         -0.011518   \n",
       "2        -0.201713         -0.043703          0.019219          0.083174   \n",
       "3        -0.112013         -0.153533         -0.147879          0.017726   \n",
       "4        -0.304249         -0.093107          0.066716         -0.159424   \n",
       "\n",
       "   src_embedding_13  src_embedding_14  src_embedding_15  src_embedding_16  \\\n",
       "0          0.175845         -0.150931          0.218552          0.115515   \n",
       "1         -0.152904         -0.099750          0.274953          0.075749   \n",
       "2          0.029060         -0.106727         -0.095575         -0.109884   \n",
       "3         -0.207878          0.071429          0.240694          0.074224   \n",
       "4         -0.114272          0.075814          0.018780         -0.149323   \n",
       "\n",
       "   src_embedding_17  src_embedding_18  src_embedding_19  src_embedding_20  \\\n",
       "0         -0.255623          0.369324         -0.165940          0.149499   \n",
       "1         -0.105287         -0.043292         -0.093664         -0.015760   \n",
       "2          0.080379         -0.000990          0.095195          0.015152   \n",
       "3          0.101956         -0.032203          0.015778         -0.281565   \n",
       "4          0.060891          0.114424         -0.194163          0.071959   \n",
       "\n",
       "   src_embedding_21  src_embedding_22  src_embedding_23  src_embedding_24  \\\n",
       "0          0.499675         -0.117910         -0.024260         -0.338445   \n",
       "1          0.037400          0.070964          0.154733          0.048981   \n",
       "2         -0.028045         -0.057315          0.274822         -0.077733   \n",
       "3          0.031674          0.077897          0.078755          0.044893   \n",
       "4         -0.109974         -0.019721          0.007437         -0.043336   \n",
       "\n",
       "   src_embedding_25  src_embedding_26  src_embedding_27  src_embedding_28  \\\n",
       "0          0.180633         -0.025906         -0.095632         -0.131813   \n",
       "1         -0.017400          0.114574         -0.139906          0.094416   \n",
       "2         -0.045828          0.008512          0.049508          0.006612   \n",
       "3          0.027502         -0.085405         -0.085463          0.050354   \n",
       "4         -0.037701         -0.049601         -0.061106          0.047868   \n",
       "\n",
       "   src_embedding_29  src_embedding_30  src_embedding_31  src_embedding_32  \\\n",
       "0         -0.086932         -0.117843          0.206108          0.086321   \n",
       "1          0.018032         -0.059899          0.030677         -0.040633   \n",
       "2         -0.002893         -0.167989         -0.103978          0.051534   \n",
       "3          0.045843          0.113155          0.049879          0.025113   \n",
       "4         -0.021222          0.047966         -0.029327          0.008411   \n",
       "\n",
       "   src_embedding_33  src_embedding_34  src_embedding_35  src_embedding_36  \\\n",
       "0         -0.040380         -0.005119          0.038331          0.125831   \n",
       "1         -0.039876          0.009193          0.061246          0.038447   \n",
       "2          0.090515         -0.055573         -0.013326         -0.009915   \n",
       "3          0.160102         -0.065052          0.023541          0.077003   \n",
       "4          0.120060          0.000510          0.021471          0.033159   \n",
       "\n",
       "   src_embedding_37  src_embedding_38  src_embedding_39  src_embedding_40  \\\n",
       "0         -0.151752          0.231917          0.041745          0.048371   \n",
       "1          0.160714          0.009780         -0.102946         -0.060325   \n",
       "2         -0.073128          0.052646         -0.105946          0.142619   \n",
       "3          0.022075         -0.066768         -0.165715          0.148567   \n",
       "4         -0.017279          0.032576         -0.010282          0.031812   \n",
       "\n",
       "   src_embedding_41  src_embedding_42  src_embedding_43  src_embedding_44  \\\n",
       "0         -0.011108          0.079806         -0.042099          0.079771   \n",
       "1         -0.059150         -0.076941          0.032945          0.019852   \n",
       "2          0.146326         -0.070585          0.046388         -0.104762   \n",
       "3         -0.038953          0.051826          0.024636          0.115914   \n",
       "4         -0.069593          0.064648          0.037056          0.023304   \n",
       "\n",
       "   src_embedding_45  src_embedding_46  src_embedding_47  src_embedding_48  \\\n",
       "0          0.068157         -0.148824         -0.048697          0.084795   \n",
       "1         -0.031766          0.030744          0.022873          0.040077   \n",
       "2         -0.063911          0.146058          0.055143         -0.014528   \n",
       "3         -0.152551          0.036224         -0.060032         -0.040084   \n",
       "4          0.067347         -0.115464          0.027130          0.057740   \n",
       "\n",
       "   src_embedding_49                                       src_sentence  \\\n",
       "0         -0.051762                          Resumption of the session   \n",
       "1         -0.059257  I declare resumed the session of the European ...   \n",
       "2         -0.097608  Although, as you will have seen, the dreaded '...   \n",
       "3          0.037022  You have requested a debate on this subject in...   \n",
       "4         -0.054253  In the meantime, I should like to observe a mi...   \n",
       "\n",
       "                                        trg_sentence  \\\n",
       "0                 Wiederaufnahme der Sitzungsperiode   \n",
       "1  Ich erkläre die am Freitag, dem 17. Dezember u...   \n",
       "2  Wie Sie feststellen konnten, ist der gefürchte...   \n",
       "3  Im Parlament besteht der Wunsch nach einer Aus...   \n",
       "4  Heute möchte ich Sie bitten - das ist auch der...   \n",
       "\n",
       "                                    src_preprocessed  \\\n",
       "0                              [resumption, session]   \n",
       "1  [declare, resumed, session, european, parliame...   \n",
       "2  [although, ,, seen, ,, dreaded, ', millennium,...   \n",
       "3  [requested, debate, subject, course, next, day...   \n",
       "4  [meantime, ,, like, observe, minute, ', silenc...   \n",
       "\n",
       "                                    trg_preprocessed  src_num_words  \\\n",
       "0                  [wiederaufnahme, sitzungsperiode]              2   \n",
       "1  [erkläre, freitag, ,, 17, ., dezember, unterbr...             21   \n",
       "2  [feststellen, konnten, ,, gefürchtete, \", mill...             17   \n",
       "3  [parlament, besteht, wunsch, aussprache, verla...              8   \n",
       "4  [heute, möchte, bitten, -, wunsch, kolleginnen...             18   \n",
       "\n",
       "   trg_num_words  src_num_punctuation  trg_num_punctuation  \\\n",
       "0              2                    0                    0   \n",
       "1             16                    2                    5   \n",
       "2             13                    6                    6   \n",
       "3              8                    3                    1   \n",
       "4             15                    7                    6   \n",
       "\n",
       "   src_occ_question_mark  trg_occ_question_mark  src_occ_exclamation_mark  \\\n",
       "0                  False                  False                     False   \n",
       "1                  False                  False                     False   \n",
       "2                  False                  False                     False   \n",
       "3                  False                  False                     False   \n",
       "4                  False                  False                     False   \n",
       "\n",
       "   trg_occ_exclamation_mark  \n",
       "0                     False  \n",
       "1                     False  \n",
       "2                     False  \n",
       "3                     False  \n",
       "4                     False  "
      ]
     },
     "execution_count": 11,
     "metadata": {},
     "output_type": "execute_result"
    }
   ],
   "source": [
    "data.head()"
   ]
  },
  {
   "cell_type": "markdown",
   "metadata": {},
   "source": [
    "# Create training dataset and do feature engineering"
   ]
  },
  {
   "cell_type": "code",
   "execution_count": 135,
   "metadata": {},
   "outputs": [],
   "source": [
    "features_dict = {'text_based': ['diff_{}'.format(feat) for feat in prepared_features], \n",
    "                 'vector_based': ['cosine_similarity']}"
   ]
  },
  {
   "cell_type": "code",
   "execution_count": 136,
   "metadata": {},
   "outputs": [
    {
     "name": "stdout",
     "output_type": "stream",
     "text": [
      "4996\n"
     ]
    }
   ],
   "source": [
    "print(len(data))"
   ]
  },
  {
   "cell_type": "code",
   "execution_count": 137,
   "metadata": {},
   "outputs": [],
   "source": [
    "train_data = sens.create_train_set(n_train=4000, frac_pos=0.5)"
   ]
  },
  {
   "cell_type": "code",
   "execution_count": 138,
   "metadata": {},
   "outputs": [
    {
     "data": {
      "text/html": [
       "<div>\n",
       "<style scoped>\n",
       "    .dataframe tbody tr th:only-of-type {\n",
       "        vertical-align: middle;\n",
       "    }\n",
       "\n",
       "    .dataframe tbody tr th {\n",
       "        vertical-align: top;\n",
       "    }\n",
       "\n",
       "    .dataframe thead th {\n",
       "        text-align: right;\n",
       "    }\n",
       "</style>\n",
       "<table border=\"1\" class=\"dataframe\">\n",
       "  <thead>\n",
       "    <tr style=\"text-align: right;\">\n",
       "      <th></th>\n",
       "      <th>src_sentence</th>\n",
       "      <th>trg_sentence</th>\n",
       "      <th>src_preprocessed</th>\n",
       "      <th>trg_preprocessed</th>\n",
       "      <th>src_embedding</th>\n",
       "      <th>trg_embedding</th>\n",
       "      <th>src_num_words</th>\n",
       "      <th>trg_num_words</th>\n",
       "      <th>src_num_punctuation</th>\n",
       "      <th>trg_num_punctuation</th>\n",
       "      <th>src_occ_question_mark</th>\n",
       "      <th>trg_occ_question_mark</th>\n",
       "      <th>src_occ_exclamation_mark</th>\n",
       "      <th>trg_occ_exclamation_mark</th>\n",
       "      <th>translation</th>\n",
       "    </tr>\n",
       "  </thead>\n",
       "  <tbody>\n",
       "    <tr>\n",
       "      <th>0</th>\n",
       "      <td>Resumption of the session</td>\n",
       "      <td>Wiederaufnahme der Sitzungsperiode</td>\n",
       "      <td>[resumption, session]</td>\n",
       "      <td>[wiederaufnahme, sitzungsperiode]</td>\n",
       "      <td>[-0.3088614732459478, 0.3472727241705731, -0.2...</td>\n",
       "      <td>[-0.22081, 0.49136, -0.09375700000000001, -0.6...</td>\n",
       "      <td>2</td>\n",
       "      <td>2</td>\n",
       "      <td>0</td>\n",
       "      <td>0</td>\n",
       "      <td>False</td>\n",
       "      <td>False</td>\n",
       "      <td>False</td>\n",
       "      <td>False</td>\n",
       "      <td>1</td>\n",
       "    </tr>\n",
       "    <tr>\n",
       "      <th>1</th>\n",
       "      <td>I declare resumed the session of the European ...</td>\n",
       "      <td>Ich erkläre die am Freitag, dem 17. Dezember u...</td>\n",
       "      <td>[declare, resumed, session, european, parliame...</td>\n",
       "      <td>[erkläre, freitag, ,, 17, ., dezember, unterbr...</td>\n",
       "      <td>[-0.19811859957522993, 0.2886577921005622, -0....</td>\n",
       "      <td>[-0.1368885, 0.29018044444444446, -0.152462499...</td>\n",
       "      <td>21</td>\n",
       "      <td>16</td>\n",
       "      <td>2</td>\n",
       "      <td>5</td>\n",
       "      <td>False</td>\n",
       "      <td>False</td>\n",
       "      <td>False</td>\n",
       "      <td>False</td>\n",
       "      <td>1</td>\n",
       "    </tr>\n",
       "    <tr>\n",
       "      <th>2</th>\n",
       "      <td>Although, as you will have seen, the dreaded '...</td>\n",
       "      <td>Wie Sie feststellen konnten, ist der gefürchte...</td>\n",
       "      <td>[although, ,, seen, ,, dreaded, ', millennium,...</td>\n",
       "      <td>[feststellen, konnten, ,, gefürchtete, \", mill...</td>\n",
       "      <td>[-0.19086391830712227, 0.07257094264933953, -0...</td>\n",
       "      <td>[-0.1190726470588235, 0.13479876470588237, -0....</td>\n",
       "      <td>17</td>\n",
       "      <td>13</td>\n",
       "      <td>6</td>\n",
       "      <td>6</td>\n",
       "      <td>False</td>\n",
       "      <td>False</td>\n",
       "      <td>False</td>\n",
       "      <td>False</td>\n",
       "      <td>1</td>\n",
       "    </tr>\n",
       "    <tr>\n",
       "      <th>3</th>\n",
       "      <td>You have requested a debate on this subject in...</td>\n",
       "      <td>Im Parlament besteht der Wunsch nach einer Aus...</td>\n",
       "      <td>[requested, debate, subject, course, next, day...</td>\n",
       "      <td>[parlament, besteht, wunsch, aussprache, verla...</td>\n",
       "      <td>[-0.1613263801336713, 0.22534862126715746, -0....</td>\n",
       "      <td>[-0.12862244444444446, 0.33829177777777786, -0...</td>\n",
       "      <td>8</td>\n",
       "      <td>8</td>\n",
       "      <td>3</td>\n",
       "      <td>1</td>\n",
       "      <td>False</td>\n",
       "      <td>False</td>\n",
       "      <td>False</td>\n",
       "      <td>False</td>\n",
       "      <td>1</td>\n",
       "    </tr>\n",
       "    <tr>\n",
       "      <th>4</th>\n",
       "      <td>In the meantime, I should like to observe a mi...</td>\n",
       "      <td>Heute möchte ich Sie bitten - das ist auch der...</td>\n",
       "      <td>[meantime, ,, like, observe, minute, ', silenc...</td>\n",
       "      <td>[heute, möchte, bitten, -, wunsch, kolleginnen...</td>\n",
       "      <td>[-0.19760572236106183, 0.15322830212421143, -0...</td>\n",
       "      <td>[-0.21589275000000002, 0.14882689999999996, -0...</td>\n",
       "      <td>18</td>\n",
       "      <td>15</td>\n",
       "      <td>7</td>\n",
       "      <td>6</td>\n",
       "      <td>False</td>\n",
       "      <td>False</td>\n",
       "      <td>False</td>\n",
       "      <td>False</td>\n",
       "      <td>1</td>\n",
       "    </tr>\n",
       "  </tbody>\n",
       "</table>\n",
       "</div>"
      ],
      "text/plain": [
       "                                        src_sentence  \\\n",
       "0                          Resumption of the session   \n",
       "1  I declare resumed the session of the European ...   \n",
       "2  Although, as you will have seen, the dreaded '...   \n",
       "3  You have requested a debate on this subject in...   \n",
       "4  In the meantime, I should like to observe a mi...   \n",
       "\n",
       "                                        trg_sentence  \\\n",
       "0                 Wiederaufnahme der Sitzungsperiode   \n",
       "1  Ich erkläre die am Freitag, dem 17. Dezember u...   \n",
       "2  Wie Sie feststellen konnten, ist der gefürchte...   \n",
       "3  Im Parlament besteht der Wunsch nach einer Aus...   \n",
       "4  Heute möchte ich Sie bitten - das ist auch der...   \n",
       "\n",
       "                                    src_preprocessed  \\\n",
       "0                              [resumption, session]   \n",
       "1  [declare, resumed, session, european, parliame...   \n",
       "2  [although, ,, seen, ,, dreaded, ', millennium,...   \n",
       "3  [requested, debate, subject, course, next, day...   \n",
       "4  [meantime, ,, like, observe, minute, ', silenc...   \n",
       "\n",
       "                                    trg_preprocessed  \\\n",
       "0                  [wiederaufnahme, sitzungsperiode]   \n",
       "1  [erkläre, freitag, ,, 17, ., dezember, unterbr...   \n",
       "2  [feststellen, konnten, ,, gefürchtete, \", mill...   \n",
       "3  [parlament, besteht, wunsch, aussprache, verla...   \n",
       "4  [heute, möchte, bitten, -, wunsch, kolleginnen...   \n",
       "\n",
       "                                       src_embedding  \\\n",
       "0  [-0.3088614732459478, 0.3472727241705731, -0.2...   \n",
       "1  [-0.19811859957522993, 0.2886577921005622, -0....   \n",
       "2  [-0.19086391830712227, 0.07257094264933953, -0...   \n",
       "3  [-0.1613263801336713, 0.22534862126715746, -0....   \n",
       "4  [-0.19760572236106183, 0.15322830212421143, -0...   \n",
       "\n",
       "                                       trg_embedding  src_num_words  \\\n",
       "0  [-0.22081, 0.49136, -0.09375700000000001, -0.6...              2   \n",
       "1  [-0.1368885, 0.29018044444444446, -0.152462499...             21   \n",
       "2  [-0.1190726470588235, 0.13479876470588237, -0....             17   \n",
       "3  [-0.12862244444444446, 0.33829177777777786, -0...              8   \n",
       "4  [-0.21589275000000002, 0.14882689999999996, -0...             18   \n",
       "\n",
       "   trg_num_words  src_num_punctuation  trg_num_punctuation  \\\n",
       "0              2                    0                    0   \n",
       "1             16                    2                    5   \n",
       "2             13                    6                    6   \n",
       "3              8                    3                    1   \n",
       "4             15                    7                    6   \n",
       "\n",
       "   src_occ_question_mark  trg_occ_question_mark  src_occ_exclamation_mark  \\\n",
       "0                  False                  False                     False   \n",
       "1                  False                  False                     False   \n",
       "2                  False                  False                     False   \n",
       "3                  False                  False                     False   \n",
       "4                  False                  False                     False   \n",
       "\n",
       "   trg_occ_exclamation_mark  translation  \n",
       "0                     False            1  \n",
       "1                     False            1  \n",
       "2                     False            1  \n",
       "3                     False            1  \n",
       "4                     False            1  "
      ]
     },
     "execution_count": 138,
     "metadata": {},
     "output_type": "execute_result"
    }
   ],
   "source": [
    "train_data.head()"
   ]
  },
  {
   "cell_type": "code",
   "execution_count": 139,
   "metadata": {},
   "outputs": [
    {
     "name": "stdout",
     "output_type": "stream",
     "text": [
      "Started diff_num_words\n",
      "Started diff_num_punctuation\n",
      "Started diff_occ_question_mark\n",
      "Started diff_occ_exclamation_mark\n",
      "Started cosine_similarity\n"
     ]
    }
   ],
   "source": [
    "train_data = sens.extract_features(features_dict=features_dict, data='train')"
   ]
  },
  {
   "cell_type": "code",
   "execution_count": 140,
   "metadata": {},
   "outputs": [
    {
     "data": {
      "text/html": [
       "<div>\n",
       "<style scoped>\n",
       "    .dataframe tbody tr th:only-of-type {\n",
       "        vertical-align: middle;\n",
       "    }\n",
       "\n",
       "    .dataframe tbody tr th {\n",
       "        vertical-align: top;\n",
       "    }\n",
       "\n",
       "    .dataframe thead th {\n",
       "        text-align: right;\n",
       "    }\n",
       "</style>\n",
       "<table border=\"1\" class=\"dataframe\">\n",
       "  <thead>\n",
       "    <tr style=\"text-align: right;\">\n",
       "      <th></th>\n",
       "      <th>src_sentence</th>\n",
       "      <th>trg_sentence</th>\n",
       "      <th>src_preprocessed</th>\n",
       "      <th>trg_preprocessed</th>\n",
       "      <th>src_embedding</th>\n",
       "      <th>trg_embedding</th>\n",
       "      <th>translation</th>\n",
       "      <th>diff_num_words</th>\n",
       "      <th>diff_num_punctuation</th>\n",
       "      <th>diff_occ_question_mark</th>\n",
       "      <th>diff_occ_exclamation_mark</th>\n",
       "      <th>cosine_similarity</th>\n",
       "    </tr>\n",
       "  </thead>\n",
       "  <tbody>\n",
       "    <tr>\n",
       "      <th>0</th>\n",
       "      <td>Resumption of the session</td>\n",
       "      <td>Wiederaufnahme der Sitzungsperiode</td>\n",
       "      <td>[resumption, session]</td>\n",
       "      <td>[wiederaufnahme, sitzungsperiode]</td>\n",
       "      <td>[-0.3088614732459478, 0.3472727241705731, -0.2...</td>\n",
       "      <td>[-0.22081, 0.49136, -0.09375700000000001, -0.6...</td>\n",
       "      <td>1</td>\n",
       "      <td>0</td>\n",
       "      <td>0</td>\n",
       "      <td>0</td>\n",
       "      <td>0</td>\n",
       "      <td>0.699530</td>\n",
       "    </tr>\n",
       "    <tr>\n",
       "      <th>1</th>\n",
       "      <td>I declare resumed the session of the European ...</td>\n",
       "      <td>Ich erkläre die am Freitag, dem 17. Dezember u...</td>\n",
       "      <td>[declare, resumed, session, european, parliame...</td>\n",
       "      <td>[erkläre, freitag, ,, 17, ., dezember, unterbr...</td>\n",
       "      <td>[-0.19811859957522993, 0.2886577921005622, -0....</td>\n",
       "      <td>[-0.1368885, 0.29018044444444446, -0.152462499...</td>\n",
       "      <td>1</td>\n",
       "      <td>5</td>\n",
       "      <td>3</td>\n",
       "      <td>0</td>\n",
       "      <td>0</td>\n",
       "      <td>0.875350</td>\n",
       "    </tr>\n",
       "    <tr>\n",
       "      <th>2</th>\n",
       "      <td>Although, as you will have seen, the dreaded '...</td>\n",
       "      <td>Wie Sie feststellen konnten, ist der gefürchte...</td>\n",
       "      <td>[although, ,, seen, ,, dreaded, ', millennium,...</td>\n",
       "      <td>[feststellen, konnten, ,, gefürchtete, \", mill...</td>\n",
       "      <td>[-0.19086391830712227, 0.07257094264933953, -0...</td>\n",
       "      <td>[-0.1190726470588235, 0.13479876470588237, -0....</td>\n",
       "      <td>1</td>\n",
       "      <td>4</td>\n",
       "      <td>0</td>\n",
       "      <td>0</td>\n",
       "      <td>0</td>\n",
       "      <td>0.842287</td>\n",
       "    </tr>\n",
       "    <tr>\n",
       "      <th>3</th>\n",
       "      <td>You have requested a debate on this subject in...</td>\n",
       "      <td>Im Parlament besteht der Wunsch nach einer Aus...</td>\n",
       "      <td>[requested, debate, subject, course, next, day...</td>\n",
       "      <td>[parlament, besteht, wunsch, aussprache, verla...</td>\n",
       "      <td>[-0.1613263801336713, 0.22534862126715746, -0....</td>\n",
       "      <td>[-0.12862244444444446, 0.33829177777777786, -0...</td>\n",
       "      <td>1</td>\n",
       "      <td>0</td>\n",
       "      <td>2</td>\n",
       "      <td>0</td>\n",
       "      <td>0</td>\n",
       "      <td>0.749109</td>\n",
       "    </tr>\n",
       "    <tr>\n",
       "      <th>4</th>\n",
       "      <td>In the meantime, I should like to observe a mi...</td>\n",
       "      <td>Heute möchte ich Sie bitten - das ist auch der...</td>\n",
       "      <td>[meantime, ,, like, observe, minute, ', silenc...</td>\n",
       "      <td>[heute, möchte, bitten, -, wunsch, kolleginnen...</td>\n",
       "      <td>[-0.19760572236106183, 0.15322830212421143, -0...</td>\n",
       "      <td>[-0.21589275000000002, 0.14882689999999996, -0...</td>\n",
       "      <td>1</td>\n",
       "      <td>3</td>\n",
       "      <td>1</td>\n",
       "      <td>0</td>\n",
       "      <td>0</td>\n",
       "      <td>0.887995</td>\n",
       "    </tr>\n",
       "  </tbody>\n",
       "</table>\n",
       "</div>"
      ],
      "text/plain": [
       "                                        src_sentence  \\\n",
       "0                          Resumption of the session   \n",
       "1  I declare resumed the session of the European ...   \n",
       "2  Although, as you will have seen, the dreaded '...   \n",
       "3  You have requested a debate on this subject in...   \n",
       "4  In the meantime, I should like to observe a mi...   \n",
       "\n",
       "                                        trg_sentence  \\\n",
       "0                 Wiederaufnahme der Sitzungsperiode   \n",
       "1  Ich erkläre die am Freitag, dem 17. Dezember u...   \n",
       "2  Wie Sie feststellen konnten, ist der gefürchte...   \n",
       "3  Im Parlament besteht der Wunsch nach einer Aus...   \n",
       "4  Heute möchte ich Sie bitten - das ist auch der...   \n",
       "\n",
       "                                    src_preprocessed  \\\n",
       "0                              [resumption, session]   \n",
       "1  [declare, resumed, session, european, parliame...   \n",
       "2  [although, ,, seen, ,, dreaded, ', millennium,...   \n",
       "3  [requested, debate, subject, course, next, day...   \n",
       "4  [meantime, ,, like, observe, minute, ', silenc...   \n",
       "\n",
       "                                    trg_preprocessed  \\\n",
       "0                  [wiederaufnahme, sitzungsperiode]   \n",
       "1  [erkläre, freitag, ,, 17, ., dezember, unterbr...   \n",
       "2  [feststellen, konnten, ,, gefürchtete, \", mill...   \n",
       "3  [parlament, besteht, wunsch, aussprache, verla...   \n",
       "4  [heute, möchte, bitten, -, wunsch, kolleginnen...   \n",
       "\n",
       "                                       src_embedding  \\\n",
       "0  [-0.3088614732459478, 0.3472727241705731, -0.2...   \n",
       "1  [-0.19811859957522993, 0.2886577921005622, -0....   \n",
       "2  [-0.19086391830712227, 0.07257094264933953, -0...   \n",
       "3  [-0.1613263801336713, 0.22534862126715746, -0....   \n",
       "4  [-0.19760572236106183, 0.15322830212421143, -0...   \n",
       "\n",
       "                                       trg_embedding  translation  \\\n",
       "0  [-0.22081, 0.49136, -0.09375700000000001, -0.6...            1   \n",
       "1  [-0.1368885, 0.29018044444444446, -0.152462499...            1   \n",
       "2  [-0.1190726470588235, 0.13479876470588237, -0....            1   \n",
       "3  [-0.12862244444444446, 0.33829177777777786, -0...            1   \n",
       "4  [-0.21589275000000002, 0.14882689999999996, -0...            1   \n",
       "\n",
       "   diff_num_words  diff_num_punctuation  diff_occ_question_mark  \\\n",
       "0               0                     0                       0   \n",
       "1               5                     3                       0   \n",
       "2               4                     0                       0   \n",
       "3               0                     2                       0   \n",
       "4               3                     1                       0   \n",
       "\n",
       "   diff_occ_exclamation_mark  cosine_similarity  \n",
       "0                          0           0.699530  \n",
       "1                          0           0.875350  \n",
       "2                          0           0.842287  \n",
       "3                          0           0.749109  \n",
       "4                          0           0.887995  "
      ]
     },
     "execution_count": 140,
     "metadata": {},
     "output_type": "execute_result"
    }
   ],
   "source": [
    "train_data.head()"
   ]
  },
  {
   "cell_type": "markdown",
   "metadata": {},
   "source": [
    "# Create logistic regression model"
   ]
  },
  {
   "cell_type": "markdown",
   "metadata": {},
   "source": [
    "### Fit a logistic regression model on training data"
   ]
  },
  {
   "cell_type": "code",
   "execution_count": 141,
   "metadata": {},
   "outputs": [],
   "source": [
    "features = [feature for values in features_dict.values() for feature in values]\n",
    "label = 'translation'"
   ]
  },
  {
   "cell_type": "code",
   "execution_count": 142,
   "metadata": {},
   "outputs": [],
   "source": [
    "logisticRegr = LogisticRegression()"
   ]
  },
  {
   "cell_type": "code",
   "execution_count": 143,
   "metadata": {},
   "outputs": [],
   "source": [
    "X_train = train_data[features]\n",
    "y_train = train_data[[label]]"
   ]
  },
  {
   "cell_type": "code",
   "execution_count": 144,
   "metadata": {},
   "outputs": [
    {
     "data": {
      "text/plain": [
       "LogisticRegression(C=1.0, class_weight=None, dual=False, fit_intercept=True,\n",
       "                   intercept_scaling=1, l1_ratio=None, max_iter=100,\n",
       "                   multi_class='auto', n_jobs=None, penalty='l2',\n",
       "                   random_state=None, solver='lbfgs', tol=0.0001, verbose=0,\n",
       "                   warm_start=False)"
      ]
     },
     "execution_count": 144,
     "metadata": {},
     "output_type": "execute_result"
    }
   ],
   "source": [
    "logisticRegr.fit(X_train, y_train)"
   ]
  },
  {
   "cell_type": "code",
   "execution_count": 145,
   "metadata": {},
   "outputs": [
    {
     "data": {
      "text/plain": [
       "array([[-0.37206038, -0.34842457, -0.32800881,  0.21731491, 15.21589542]])"
      ]
     },
     "execution_count": 145,
     "metadata": {},
     "output_type": "execute_result"
    }
   ],
   "source": [
    "logisticRegr.coef_"
   ]
  },
  {
   "cell_type": "markdown",
   "metadata": {},
   "source": [
    "### Save model"
   ]
  },
  {
   "cell_type": "code",
   "execution_count": 146,
   "metadata": {},
   "outputs": [],
   "source": [
    "#sup_model.SupModel.save_model(model=logisticRegr, name='logReg_v0.2', prepared_features=sens.prepared_features, features=sens.features_dict)\n"
   ]
  },
  {
   "cell_type": "markdown",
   "metadata": {},
   "source": [
    "# Evaluate logistic regression model"
   ]
  },
  {
   "cell_type": "markdown",
   "metadata": {},
   "source": [
    "### Create test collection, annotate translation label and do feature engineering"
   ]
  },
  {
   "cell_type": "code",
   "execution_count": 147,
   "metadata": {},
   "outputs": [],
   "source": [
    "test_data = sens.create_test_collection(n_queries=50, n_docs=996)"
   ]
  },
  {
   "cell_type": "code",
   "execution_count": 148,
   "metadata": {
    "scrolled": true
   },
   "outputs": [
    {
     "data": {
      "text/plain": [
       "49800"
      ]
     },
     "execution_count": 148,
     "metadata": {},
     "output_type": "execute_result"
    }
   ],
   "source": [
    "len(test_data)"
   ]
  },
  {
   "cell_type": "code",
   "execution_count": 149,
   "metadata": {},
   "outputs": [
    {
     "name": "stdout",
     "output_type": "stream",
     "text": [
      "Started diff_num_words\n",
      "Started diff_num_punctuation\n",
      "Started diff_occ_question_mark\n",
      "Started diff_occ_exclamation_mark\n",
      "Started cosine_similarity\n"
     ]
    }
   ],
   "source": [
    "test_data = sens.extract_features(features_dict=features_dict, data='test')"
   ]
  },
  {
   "cell_type": "code",
   "execution_count": 150,
   "metadata": {},
   "outputs": [
    {
     "data": {
      "text/html": [
       "<div>\n",
       "<style scoped>\n",
       "    .dataframe tbody tr th:only-of-type {\n",
       "        vertical-align: middle;\n",
       "    }\n",
       "\n",
       "    .dataframe tbody tr th {\n",
       "        vertical-align: top;\n",
       "    }\n",
       "\n",
       "    .dataframe thead th {\n",
       "        text-align: right;\n",
       "    }\n",
       "</style>\n",
       "<table border=\"1\" class=\"dataframe\">\n",
       "  <thead>\n",
       "    <tr style=\"text-align: right;\">\n",
       "      <th></th>\n",
       "      <th>src_sentence</th>\n",
       "      <th>src_preprocessed</th>\n",
       "      <th>src_embedding</th>\n",
       "      <th>trg_sentence</th>\n",
       "      <th>trg_preprocessed</th>\n",
       "      <th>trg_embedding</th>\n",
       "      <th>translation</th>\n",
       "      <th>diff_num_words</th>\n",
       "      <th>diff_num_punctuation</th>\n",
       "      <th>diff_occ_question_mark</th>\n",
       "      <th>diff_occ_exclamation_mark</th>\n",
       "      <th>cosine_similarity</th>\n",
       "    </tr>\n",
       "  </thead>\n",
       "  <tbody>\n",
       "    <tr>\n",
       "      <th>0</th>\n",
       "      <td>But we should not kid ourselves: a comprehensi...</td>\n",
       "      <td>[kid, :, comprehensive, middle, east, peace, d...</td>\n",
       "      <td>[-0.1564942128401019, 0.029462311938183758, -0...</td>\n",
       "      <td>Wir sollten uns aber auch nichts vormachen: Ei...</td>\n",
       "      <td>[sollten, vormachen, :, umfassende, friedenslö...</td>\n",
       "      <td>[-0.15268183333333332, -0.08944499999999998, -...</td>\n",
       "      <td>1</td>\n",
       "      <td>3</td>\n",
       "      <td>0</td>\n",
       "      <td>0</td>\n",
       "      <td>0</td>\n",
       "      <td>0.706877</td>\n",
       "    </tr>\n",
       "    <tr>\n",
       "      <th>1</th>\n",
       "      <td>But we should not kid ourselves: a comprehensi...</td>\n",
       "      <td>[kid, :, comprehensive, middle, east, peace, d...</td>\n",
       "      <td>[-0.1564942128401019, 0.029462311938183758, -0...</td>\n",
       "      <td>Die Kommission befaßt sich bereits mit der Fra...</td>\n",
       "      <td>[kommission, befaßt, bereits, frage, ,, jüngst...</td>\n",
       "      <td>[-0.19377049999999998, 0.014464100000000004, -...</td>\n",
       "      <td>0</td>\n",
       "      <td>0</td>\n",
       "      <td>0</td>\n",
       "      <td>0</td>\n",
       "      <td>0</td>\n",
       "      <td>0.617758</td>\n",
       "    </tr>\n",
       "    <tr>\n",
       "      <th>2</th>\n",
       "      <td>But we should not kid ourselves: a comprehensi...</td>\n",
       "      <td>[kid, :, comprehensive, middle, east, peace, d...</td>\n",
       "      <td>[-0.1564942128401019, 0.029462311938183758, -0...</td>\n",
       "      <td>Wir werden dieses Thema mit dem Parlament und ...</td>\n",
       "      <td>[thema, parlament, rat, schon, bald, ausführli...</td>\n",
       "      <td>[-0.1845195, 0.283377055, -0.134744125, -0.512...</td>\n",
       "      <td>0</td>\n",
       "      <td>3</td>\n",
       "      <td>1</td>\n",
       "      <td>0</td>\n",
       "      <td>0</td>\n",
       "      <td>0.637596</td>\n",
       "    </tr>\n",
       "    <tr>\n",
       "      <th>3</th>\n",
       "      <td>But we should not kid ourselves: a comprehensi...</td>\n",
       "      <td>[kid, :, comprehensive, middle, east, peace, d...</td>\n",
       "      <td>[-0.1564942128401019, 0.029462311938183758, -0...</td>\n",
       "      <td>Ich möchte die Abgeordneten jedoch daran erinn...</td>\n",
       "      <td>[möchte, abgeordneten, jedoch, daran, erinnern...</td>\n",
       "      <td>[-0.08900128571428571, 0.13880665714285714, -0...</td>\n",
       "      <td>0</td>\n",
       "      <td>3</td>\n",
       "      <td>0</td>\n",
       "      <td>0</td>\n",
       "      <td>0</td>\n",
       "      <td>0.683795</td>\n",
       "    </tr>\n",
       "    <tr>\n",
       "      <th>4</th>\n",
       "      <td>But we should not kid ourselves: a comprehensi...</td>\n",
       "      <td>[kid, :, comprehensive, middle, east, peace, d...</td>\n",
       "      <td>[-0.1564942128401019, 0.029462311938183758, -0...</td>\n",
       "      <td>Wir sind die größten Geldgeber der Palästinenser.</td>\n",
       "      <td>[größten, geldgeber, palästinenser, .]</td>\n",
       "      <td>[-0.372708, 0.10743775, -0.13228374999999998, ...</td>\n",
       "      <td>0</td>\n",
       "      <td>7</td>\n",
       "      <td>1</td>\n",
       "      <td>0</td>\n",
       "      <td>0</td>\n",
       "      <td>0.609836</td>\n",
       "    </tr>\n",
       "  </tbody>\n",
       "</table>\n",
       "</div>"
      ],
      "text/plain": [
       "                                        src_sentence  \\\n",
       "0  But we should not kid ourselves: a comprehensi...   \n",
       "1  But we should not kid ourselves: a comprehensi...   \n",
       "2  But we should not kid ourselves: a comprehensi...   \n",
       "3  But we should not kid ourselves: a comprehensi...   \n",
       "4  But we should not kid ourselves: a comprehensi...   \n",
       "\n",
       "                                    src_preprocessed  \\\n",
       "0  [kid, :, comprehensive, middle, east, peace, d...   \n",
       "1  [kid, :, comprehensive, middle, east, peace, d...   \n",
       "2  [kid, :, comprehensive, middle, east, peace, d...   \n",
       "3  [kid, :, comprehensive, middle, east, peace, d...   \n",
       "4  [kid, :, comprehensive, middle, east, peace, d...   \n",
       "\n",
       "                                       src_embedding  \\\n",
       "0  [-0.1564942128401019, 0.029462311938183758, -0...   \n",
       "1  [-0.1564942128401019, 0.029462311938183758, -0...   \n",
       "2  [-0.1564942128401019, 0.029462311938183758, -0...   \n",
       "3  [-0.1564942128401019, 0.029462311938183758, -0...   \n",
       "4  [-0.1564942128401019, 0.029462311938183758, -0...   \n",
       "\n",
       "                                        trg_sentence  \\\n",
       "0  Wir sollten uns aber auch nichts vormachen: Ei...   \n",
       "1  Die Kommission befaßt sich bereits mit der Fra...   \n",
       "2  Wir werden dieses Thema mit dem Parlament und ...   \n",
       "3  Ich möchte die Abgeordneten jedoch daran erinn...   \n",
       "4  Wir sind die größten Geldgeber der Palästinenser.   \n",
       "\n",
       "                                    trg_preprocessed  \\\n",
       "0  [sollten, vormachen, :, umfassende, friedenslö...   \n",
       "1  [kommission, befaßt, bereits, frage, ,, jüngst...   \n",
       "2  [thema, parlament, rat, schon, bald, ausführli...   \n",
       "3  [möchte, abgeordneten, jedoch, daran, erinnern...   \n",
       "4             [größten, geldgeber, palästinenser, .]   \n",
       "\n",
       "                                       trg_embedding  translation  \\\n",
       "0  [-0.15268183333333332, -0.08944499999999998, -...            1   \n",
       "1  [-0.19377049999999998, 0.014464100000000004, -...            0   \n",
       "2  [-0.1845195, 0.283377055, -0.134744125, -0.512...            0   \n",
       "3  [-0.08900128571428571, 0.13880665714285714, -0...            0   \n",
       "4  [-0.372708, 0.10743775, -0.13228374999999998, ...            0   \n",
       "\n",
       "   diff_num_words  diff_num_punctuation  diff_occ_question_mark  \\\n",
       "0               3                     0                       0   \n",
       "1               0                     0                       0   \n",
       "2               3                     1                       0   \n",
       "3               3                     0                       0   \n",
       "4               7                     1                       0   \n",
       "\n",
       "   diff_occ_exclamation_mark  cosine_similarity  \n",
       "0                          0           0.706877  \n",
       "1                          0           0.617758  \n",
       "2                          0           0.637596  \n",
       "3                          0           0.683795  \n",
       "4                          0           0.609836  "
      ]
     },
     "execution_count": 150,
     "metadata": {},
     "output_type": "execute_result"
    }
   ],
   "source": [
    "test_data.head()"
   ]
  },
  {
   "cell_type": "markdown",
   "metadata": {},
   "source": [
    "### Evaluate boolean classifier"
   ]
  },
  {
   "cell_type": "markdown",
   "metadata": {},
   "source": [
    "#### \"Hard coded\""
   ]
  },
  {
   "cell_type": "code",
   "execution_count": 171,
   "metadata": {},
   "outputs": [],
   "source": [
    "y_pred = logisticRegr.predict(test_data[features])\n",
    "y_true = test_data[label]"
   ]
  },
  {
   "cell_type": "code",
   "execution_count": 172,
   "metadata": {},
   "outputs": [
    {
     "data": {
      "text/plain": [
       "8637"
      ]
     },
     "metadata": {},
     "output_type": "display_data"
    },
    {
     "data": {
      "text/plain": [
       "50"
      ]
     },
     "metadata": {},
     "output_type": "display_data"
    },
    {
     "data": {
      "text/plain": [
       "49800"
      ]
     },
     "metadata": {},
     "output_type": "display_data"
    }
   ],
   "source": [
    "display(sum(y_pred))\n",
    "display(sum(y_true))\n",
    "display(len(y_pred))"
   ]
  },
  {
   "cell_type": "code",
   "execution_count": 173,
   "metadata": {},
   "outputs": [
    {
     "data": {
      "text/plain": [
       "0.00578904712284358"
      ]
     },
     "execution_count": 173,
     "metadata": {},
     "output_type": "execute_result"
    }
   ],
   "source": [
    "precision_score(y_true, y_pred)"
   ]
  },
  {
   "cell_type": "code",
   "execution_count": 174,
   "metadata": {},
   "outputs": [
    {
     "data": {
      "text/plain": [
       "1.0"
      ]
     },
     "execution_count": 174,
     "metadata": {},
     "output_type": "execute_result"
    }
   ],
   "source": [
    "recall_score(y_true, y_pred)"
   ]
  },
  {
   "cell_type": "code",
   "execution_count": 175,
   "metadata": {},
   "outputs": [
    {
     "data": {
      "text/plain": [
       "0.827570281124498"
      ]
     },
     "execution_count": 175,
     "metadata": {},
     "output_type": "execute_result"
    }
   ],
   "source": [
    "accuracy_score(y_true, y_pred)"
   ]
  },
  {
   "cell_type": "code",
   "execution_count": 176,
   "metadata": {},
   "outputs": [
    {
     "data": {
      "text/plain": [
       "0.011511453896627144"
      ]
     },
     "execution_count": 176,
     "metadata": {},
     "output_type": "execute_result"
    }
   ],
   "source": [
    "f1_score(y_true, y_pred)"
   ]
  },
  {
   "cell_type": "markdown",
   "metadata": {},
   "source": [
    "#### Using SupModel instance"
   ]
  },
  {
   "cell_type": "code",
   "execution_count": 242,
   "metadata": {},
   "outputs": [
    {
     "data": {
      "text/plain": [
       "<ir_crosslingual.supervised_classification.sup_model.SupModel at 0x1a36021860>"
      ]
     },
     "execution_count": 242,
     "metadata": {},
     "output_type": "execute_result"
    }
   ],
   "source": [
    "sup = sup_model.SupModel()\n",
    "sup.evaluate_boolean(logisticRegr, sens)"
   ]
  },
  {
   "cell_type": "code",
   "execution_count": 243,
   "metadata": {},
   "outputs": [
    {
     "data": {
      "text/plain": [
       "0.827570281124498"
      ]
     },
     "execution_count": 243,
     "metadata": {},
     "output_type": "execute_result"
    }
   ],
   "source": [
    "sup.accuracy"
   ]
  },
  {
   "cell_type": "code",
   "execution_count": 244,
   "metadata": {},
   "outputs": [
    {
     "data": {
      "text/plain": [
       "0.00578904712284358"
      ]
     },
     "execution_count": 244,
     "metadata": {},
     "output_type": "execute_result"
    }
   ],
   "source": [
    "sup.precision"
   ]
  },
  {
   "cell_type": "code",
   "execution_count": 245,
   "metadata": {},
   "outputs": [
    {
     "data": {
      "text/plain": [
       "1.0"
      ]
     },
     "execution_count": 245,
     "metadata": {},
     "output_type": "execute_result"
    }
   ],
   "source": [
    "sup.recall"
   ]
  },
  {
   "cell_type": "code",
   "execution_count": 246,
   "metadata": {},
   "outputs": [
    {
     "data": {
      "text/plain": [
       "0.011511453896627144"
      ]
     },
     "execution_count": 246,
     "metadata": {},
     "output_type": "execute_result"
    }
   ],
   "source": [
    "sup.f1"
   ]
  },
  {
   "cell_type": "markdown",
   "metadata": {},
   "source": [
    "### Evaluate ranking"
   ]
  },
  {
   "cell_type": "code",
   "execution_count": 247,
   "metadata": {},
   "outputs": [
    {
     "data": {
      "text/plain": [
       "0.7239777797227225"
      ]
     },
     "execution_count": 247,
     "metadata": {},
     "output_type": "execute_result"
    }
   ],
   "source": [
    "sup.compute_map(logisticRegr, sens)"
   ]
  },
  {
   "cell_type": "markdown",
   "metadata": {},
   "source": [
    "### Load preloaded model and apply ranking"
   ]
  },
  {
   "cell_type": "code",
   "execution_count": 133,
   "metadata": {},
   "outputs": [],
   "source": [
    "logisticRegr, prepared_features, features = sup_model.SupModel.load_model(name='logReg_v0.2')"
   ]
  },
  {
   "cell_type": "code",
   "execution_count": null,
   "metadata": {},
   "outputs": [],
   "source": []
  },
  {
   "cell_type": "markdown",
   "metadata": {},
   "source": [
    "### Rank target sentences in test dataset"
   ]
  },
  {
   "cell_type": "code",
   "execution_count": 173,
   "metadata": {
    "scrolled": true
   },
   "outputs": [
    {
     "name": "stdout",
     "output_type": "stream",
     "text": [
      "Done with index: 0\n",
      "Done with index: 100\n"
     ]
    }
   ],
   "source": [
    "sup_model.SupModel.rank_trg_sentences(logisticRegr, sens)\n"
   ]
  },
  {
   "cell_type": "code",
   "execution_count": 126,
   "metadata": {},
   "outputs": [
    {
     "data": {
      "text/html": [
       "<div>\n",
       "<style scoped>\n",
       "    .dataframe tbody tr th:only-of-type {\n",
       "        vertical-align: middle;\n",
       "    }\n",
       "\n",
       "    .dataframe tbody tr th {\n",
       "        vertical-align: top;\n",
       "    }\n",
       "\n",
       "    .dataframe thead th {\n",
       "        text-align: right;\n",
       "    }\n",
       "</style>\n",
       "<table border=\"1\" class=\"dataframe\">\n",
       "  <thead>\n",
       "    <tr style=\"text-align: right;\">\n",
       "      <th></th>\n",
       "      <th>src_sentence</th>\n",
       "      <th>trg_sentence</th>\n",
       "      <th>src_preprocessed</th>\n",
       "      <th>trg_preprocessed</th>\n",
       "      <th>src_embedding</th>\n",
       "      <th>trg_embedding</th>\n",
       "      <th>src_num_words</th>\n",
       "      <th>trg_num_words</th>\n",
       "      <th>src_num_punctuation</th>\n",
       "      <th>trg_num_punctuation</th>\n",
       "      <th>src_occ_question_mark</th>\n",
       "      <th>trg_occ_question_mark</th>\n",
       "      <th>src_occ_exclamation_mark</th>\n",
       "      <th>trg_occ_exclamation_mark</th>\n",
       "      <th>src_num_noun</th>\n",
       "      <th>trg_num_noun</th>\n",
       "      <th>src_num_verb</th>\n",
       "      <th>trg_num_verb</th>\n",
       "      <th>src_num_adverb</th>\n",
       "      <th>trg_num_adverb</th>\n",
       "      <th>src_num_adjective</th>\n",
       "      <th>trg_num_adjective</th>\n",
       "      <th>src_num_wh</th>\n",
       "      <th>trg_num_wh</th>\n",
       "      <th>src_num_pronoun</th>\n",
       "      <th>trg_num_pronoun</th>\n",
       "      <th>translation</th>\n",
       "      <th>predictions</th>\n",
       "      <th>predicted_sentences</th>\n",
       "      <th>predicted_probabilities</th>\n",
       "    </tr>\n",
       "  </thead>\n",
       "  <tbody>\n",
       "    <tr>\n",
       "      <th>0</th>\n",
       "      <td>On the other hand, we can be fairly confident ...</td>\n",
       "      <td>Hingegen kann man der Zukunft einigermaßen zuv...</td>\n",
       "      <td>[hand, ,, fairly, confident, future, know, eff...</td>\n",
       "      <td>[hingegen, zukunft, einigermaßen, zuversichtli...</td>\n",
       "      <td>[-0.03125365286703291, 0.05021663067572581, -0...</td>\n",
       "      <td>[-0.12881409285714285, -0.026504692857142853, ...</td>\n",
       "      <td>19</td>\n",
       "      <td>16</td>\n",
       "      <td>6</td>\n",
       "      <td>3</td>\n",
       "      <td>False</td>\n",
       "      <td>False</td>\n",
       "      <td>False</td>\n",
       "      <td>False</td>\n",
       "      <td>12</td>\n",
       "      <td>15</td>\n",
       "      <td>3</td>\n",
       "      <td>0</td>\n",
       "      <td>1</td>\n",
       "      <td>0</td>\n",
       "      <td>3</td>\n",
       "      <td>0</td>\n",
       "      <td>0</td>\n",
       "      <td>0</td>\n",
       "      <td>0</td>\n",
       "      <td>0</td>\n",
       "      <td>1</td>\n",
       "      <td>[[Unterstreichen möchte ich auch, daß es notwe...</td>\n",
       "      <td>[Unterstreichen möchte ich auch, daß es notwen...</td>\n",
       "      <td>[0.9831631508796376, 0.9831631508796376, 0.983...</td>\n",
       "    </tr>\n",
       "    <tr>\n",
       "      <th>1</th>\n",
       "      <td>I should also like to stress the need to maint...</td>\n",
       "      <td>Unterstreichen möchte ich auch, daß es notwend...</td>\n",
       "      <td>[also, like, stress, need, maintain, flexible,...</td>\n",
       "      <td>[unterstreichen, möchte, ,, notwendig, ,, ents...</td>\n",
       "      <td>[-0.025572795222382205, -0.0009202446333488115...</td>\n",
       "      <td>[-0.03415418181818181, 0.03397977727272728, -0...</td>\n",
       "      <td>23</td>\n",
       "      <td>19</td>\n",
       "      <td>3</td>\n",
       "      <td>6</td>\n",
       "      <td>False</td>\n",
       "      <td>False</td>\n",
       "      <td>False</td>\n",
       "      <td>False</td>\n",
       "      <td>10</td>\n",
       "      <td>14</td>\n",
       "      <td>4</td>\n",
       "      <td>2</td>\n",
       "      <td>3</td>\n",
       "      <td>1</td>\n",
       "      <td>4</td>\n",
       "      <td>2</td>\n",
       "      <td>0</td>\n",
       "      <td>0</td>\n",
       "      <td>0</td>\n",
       "      <td>0</td>\n",
       "      <td>1</td>\n",
       "      <td>[[Doch diese notwendige realistische und pragm...</td>\n",
       "      <td>[Doch diese notwendige realistische und pragma...</td>\n",
       "      <td>[0.9380140491536678, 0.9380140491536678, 0.912...</td>\n",
       "    </tr>\n",
       "    <tr>\n",
       "      <th>2</th>\n",
       "      <td>This is a problem of compatibility between our...</td>\n",
       "      <td>Dies ist eine Frage der Vereinbarkeit unserer ...</td>\n",
       "      <td>[problem, compatibility, directives, end, -, -...</td>\n",
       "      <td>[frage, vereinbarkeit, unserer, richtlinien, a...</td>\n",
       "      <td>[-0.13964157818371498, 0.03865048480077487, -0...</td>\n",
       "      <td>[-0.12898427777777777, -0.00664022222222222, -...</td>\n",
       "      <td>15</td>\n",
       "      <td>14</td>\n",
       "      <td>6</td>\n",
       "      <td>5</td>\n",
       "      <td>False</td>\n",
       "      <td>False</td>\n",
       "      <td>False</td>\n",
       "      <td>False</td>\n",
       "      <td>8</td>\n",
       "      <td>12</td>\n",
       "      <td>4</td>\n",
       "      <td>0</td>\n",
       "      <td>1</td>\n",
       "      <td>0</td>\n",
       "      <td>1</td>\n",
       "      <td>2</td>\n",
       "      <td>0</td>\n",
       "      <td>0</td>\n",
       "      <td>0</td>\n",
       "      <td>0</td>\n",
       "      <td>1</td>\n",
       "      <td>[[Die vom Parlament vorgeschlagene Lösung, d. ...</td>\n",
       "      <td>[Die vom Parlament vorgeschlagene Lösung, d. h...</td>\n",
       "      <td>[0.9428284887565496, 0.9256622022827817, 0.923...</td>\n",
       "    </tr>\n",
       "    <tr>\n",
       "      <th>3</th>\n",
       "      <td>We must therefore congratulate the Committee o...</td>\n",
       "      <td>Man kann sich daher nur über die Klugheit des ...</td>\n",
       "      <td>[must, therefore, congratulate, committee, env...</td>\n",
       "      <td>[daher, klugheit, ausschusses, umweltfragen, ,...</td>\n",
       "      <td>[-0.10510580457469121, 0.08141651421038351, -0...</td>\n",
       "      <td>[-0.13002725, 0.12540335, -0.15950131875, -0.2...</td>\n",
       "      <td>25</td>\n",
       "      <td>16</td>\n",
       "      <td>5</td>\n",
       "      <td>5</td>\n",
       "      <td>False</td>\n",
       "      <td>False</td>\n",
       "      <td>False</td>\n",
       "      <td>False</td>\n",
       "      <td>13</td>\n",
       "      <td>9</td>\n",
       "      <td>4</td>\n",
       "      <td>1</td>\n",
       "      <td>1</td>\n",
       "      <td>1</td>\n",
       "      <td>6</td>\n",
       "      <td>2</td>\n",
       "      <td>0</td>\n",
       "      <td>0</td>\n",
       "      <td>0</td>\n",
       "      <td>0</td>\n",
       "      <td>1</td>\n",
       "      <td>[[Ich möchte nochmals kurz auf die wirtschaftl...</td>\n",
       "      <td>[Ich möchte nochmals kurz auf die wirtschaftli...</td>\n",
       "      <td>[0.9774905186008319, 0.9733422658640649, 0.973...</td>\n",
       "    </tr>\n",
       "    <tr>\n",
       "      <th>4</th>\n",
       "      <td>In conclusion, let me say that this directive ...</td>\n",
       "      <td>Abschließend möchte ich feststellen, daß diese...</td>\n",
       "      <td>[conclusion, ,, let, say, directive, ambitious...</td>\n",
       "      <td>[abschließend, möchte, feststellen, ,, richtli...</td>\n",
       "      <td>[-0.18686343283558546, 0.1048829425718163, -0....</td>\n",
       "      <td>[-0.14413220833333332, -0.0016888750000000005,...</td>\n",
       "      <td>22</td>\n",
       "      <td>21</td>\n",
       "      <td>3</td>\n",
       "      <td>7</td>\n",
       "      <td>False</td>\n",
       "      <td>False</td>\n",
       "      <td>False</td>\n",
       "      <td>False</td>\n",
       "      <td>10</td>\n",
       "      <td>18</td>\n",
       "      <td>5</td>\n",
       "      <td>2</td>\n",
       "      <td>3</td>\n",
       "      <td>0</td>\n",
       "      <td>4</td>\n",
       "      <td>0</td>\n",
       "      <td>0</td>\n",
       "      <td>0</td>\n",
       "      <td>0</td>\n",
       "      <td>0</td>\n",
       "      <td>1</td>\n",
       "      <td>[[Aus meiner eigenen kommunalpolitischen Erfah...</td>\n",
       "      <td>[Aus meiner eigenen kommunalpolitischen Erfahr...</td>\n",
       "      <td>[0.9214032349946576, 0.9179825901790721, 0.909...</td>\n",
       "    </tr>\n",
       "  </tbody>\n",
       "</table>\n",
       "</div>"
      ],
      "text/plain": [
       "                                        src_sentence  \\\n",
       "0  On the other hand, we can be fairly confident ...   \n",
       "1  I should also like to stress the need to maint...   \n",
       "2  This is a problem of compatibility between our...   \n",
       "3  We must therefore congratulate the Committee o...   \n",
       "4  In conclusion, let me say that this directive ...   \n",
       "\n",
       "                                        trg_sentence  \\\n",
       "0  Hingegen kann man der Zukunft einigermaßen zuv...   \n",
       "1  Unterstreichen möchte ich auch, daß es notwend...   \n",
       "2  Dies ist eine Frage der Vereinbarkeit unserer ...   \n",
       "3  Man kann sich daher nur über die Klugheit des ...   \n",
       "4  Abschließend möchte ich feststellen, daß diese...   \n",
       "\n",
       "                                    src_preprocessed  \\\n",
       "0  [hand, ,, fairly, confident, future, know, eff...   \n",
       "1  [also, like, stress, need, maintain, flexible,...   \n",
       "2  [problem, compatibility, directives, end, -, -...   \n",
       "3  [must, therefore, congratulate, committee, env...   \n",
       "4  [conclusion, ,, let, say, directive, ambitious...   \n",
       "\n",
       "                                    trg_preprocessed  \\\n",
       "0  [hingegen, zukunft, einigermaßen, zuversichtli...   \n",
       "1  [unterstreichen, möchte, ,, notwendig, ,, ents...   \n",
       "2  [frage, vereinbarkeit, unserer, richtlinien, a...   \n",
       "3  [daher, klugheit, ausschusses, umweltfragen, ,...   \n",
       "4  [abschließend, möchte, feststellen, ,, richtli...   \n",
       "\n",
       "                                       src_embedding  \\\n",
       "0  [-0.03125365286703291, 0.05021663067572581, -0...   \n",
       "1  [-0.025572795222382205, -0.0009202446333488115...   \n",
       "2  [-0.13964157818371498, 0.03865048480077487, -0...   \n",
       "3  [-0.10510580457469121, 0.08141651421038351, -0...   \n",
       "4  [-0.18686343283558546, 0.1048829425718163, -0....   \n",
       "\n",
       "                                       trg_embedding  src_num_words  \\\n",
       "0  [-0.12881409285714285, -0.026504692857142853, ...             19   \n",
       "1  [-0.03415418181818181, 0.03397977727272728, -0...             23   \n",
       "2  [-0.12898427777777777, -0.00664022222222222, -...             15   \n",
       "3  [-0.13002725, 0.12540335, -0.15950131875, -0.2...             25   \n",
       "4  [-0.14413220833333332, -0.0016888750000000005,...             22   \n",
       "\n",
       "   trg_num_words  src_num_punctuation  trg_num_punctuation  \\\n",
       "0             16                    6                    3   \n",
       "1             19                    3                    6   \n",
       "2             14                    6                    5   \n",
       "3             16                    5                    5   \n",
       "4             21                    3                    7   \n",
       "\n",
       "   src_occ_question_mark  trg_occ_question_mark  src_occ_exclamation_mark  \\\n",
       "0                  False                  False                     False   \n",
       "1                  False                  False                     False   \n",
       "2                  False                  False                     False   \n",
       "3                  False                  False                     False   \n",
       "4                  False                  False                     False   \n",
       "\n",
       "   trg_occ_exclamation_mark  src_num_noun  trg_num_noun  src_num_verb  \\\n",
       "0                     False            12            15             3   \n",
       "1                     False            10            14             4   \n",
       "2                     False             8            12             4   \n",
       "3                     False            13             9             4   \n",
       "4                     False            10            18             5   \n",
       "\n",
       "   trg_num_verb  src_num_adverb  trg_num_adverb  src_num_adjective  \\\n",
       "0             0               1               0                  3   \n",
       "1             2               3               1                  4   \n",
       "2             0               1               0                  1   \n",
       "3             1               1               1                  6   \n",
       "4             2               3               0                  4   \n",
       "\n",
       "   trg_num_adjective  src_num_wh  trg_num_wh  src_num_pronoun  \\\n",
       "0                  0           0           0                0   \n",
       "1                  2           0           0                0   \n",
       "2                  2           0           0                0   \n",
       "3                  2           0           0                0   \n",
       "4                  0           0           0                0   \n",
       "\n",
       "   trg_num_pronoun  translation  \\\n",
       "0                0            1   \n",
       "1                0            1   \n",
       "2                0            1   \n",
       "3                0            1   \n",
       "4                0            1   \n",
       "\n",
       "                                         predictions  \\\n",
       "0  [[Unterstreichen möchte ich auch, daß es notwe...   \n",
       "1  [[Doch diese notwendige realistische und pragm...   \n",
       "2  [[Die vom Parlament vorgeschlagene Lösung, d. ...   \n",
       "3  [[Ich möchte nochmals kurz auf die wirtschaftl...   \n",
       "4  [[Aus meiner eigenen kommunalpolitischen Erfah...   \n",
       "\n",
       "                                 predicted_sentences  \\\n",
       "0  [Unterstreichen möchte ich auch, daß es notwen...   \n",
       "1  [Doch diese notwendige realistische und pragma...   \n",
       "2  [Die vom Parlament vorgeschlagene Lösung, d. h...   \n",
       "3  [Ich möchte nochmals kurz auf die wirtschaftli...   \n",
       "4  [Aus meiner eigenen kommunalpolitischen Erfahr...   \n",
       "\n",
       "                             predicted_probabilities  \n",
       "0  [0.9831631508796376, 0.9831631508796376, 0.983...  \n",
       "1  [0.9380140491536678, 0.9380140491536678, 0.912...  \n",
       "2  [0.9428284887565496, 0.9256622022827817, 0.923...  \n",
       "3  [0.9774905186008319, 0.9733422658640649, 0.973...  \n",
       "4  [0.9214032349946576, 0.9179825901790721, 0.909...  "
      ]
     },
     "execution_count": 126,
     "metadata": {},
     "output_type": "execute_result"
    }
   ],
   "source": [
    "sens.test_data.head()"
   ]
  },
  {
   "cell_type": "code",
   "execution_count": 193,
   "metadata": {},
   "outputs": [
    {
     "data": {
      "text/plain": [
       "0.44"
      ]
     },
     "execution_count": 193,
     "metadata": {},
     "output_type": "execute_result"
    }
   ],
   "source": [
    "# Train: 4800, Test: 200 | Only true translations\n",
    "sup_model.SupModel.evaluate_at_k(sens, 1)"
   ]
  },
  {
   "cell_type": "code",
   "execution_count": 189,
   "metadata": {},
   "outputs": [
    {
     "data": {
      "text/plain": [
       "0.62"
      ]
     },
     "execution_count": 189,
     "metadata": {},
     "output_type": "execute_result"
    }
   ],
   "source": [
    "# Train: 4800, Test: 200 | Only true translations\n",
    "sup_model.SupModel.evaluate_at_k(sens, 3)"
   ]
  },
  {
   "cell_type": "code",
   "execution_count": 190,
   "metadata": {},
   "outputs": [
    {
     "data": {
      "text/plain": [
       "0.68"
      ]
     },
     "execution_count": 190,
     "metadata": {},
     "output_type": "execute_result"
    }
   ],
   "source": [
    "# Train: 4800, Test: 200 | Only true translations\n",
    "sup_model.SupModel.evaluate_at_k(sens, 5)"
   ]
  },
  {
   "cell_type": "code",
   "execution_count": 191,
   "metadata": {},
   "outputs": [
    {
     "data": {
      "text/plain": [
       "0.78"
      ]
     },
     "execution_count": 191,
     "metadata": {},
     "output_type": "execute_result"
    }
   ],
   "source": [
    "# Train: 4800, Test: 200 | Only true translations\n",
    "sup_model.SupModel.evaluate_at_k(sens, 10)"
   ]
  },
  {
   "cell_type": "code",
   "execution_count": null,
   "metadata": {},
   "outputs": [],
   "source": [
    "# Train: 4800, Test: 200\n",
    "sup_model.SupModel.evaluate_at_k(sens, 1)"
   ]
  },
  {
   "cell_type": "code",
   "execution_count": 177,
   "metadata": {},
   "outputs": [
    {
     "data": {
      "text/plain": [
       "0.31"
      ]
     },
     "execution_count": 177,
     "metadata": {},
     "output_type": "execute_result"
    }
   ],
   "source": [
    "# Train: 4800, Test: 200\n",
    "sup_model.SupModel.evaluate_at_k(sens, 3)"
   ]
  },
  {
   "cell_type": "code",
   "execution_count": 178,
   "metadata": {},
   "outputs": [
    {
     "data": {
      "text/plain": [
       "0.34"
      ]
     },
     "execution_count": 178,
     "metadata": {},
     "output_type": "execute_result"
    }
   ],
   "source": [
    "# Train: 4800, Test: 200\n",
    "sup_model.SupModel.evaluate_at_k(sens, 5)"
   ]
  },
  {
   "cell_type": "code",
   "execution_count": 179,
   "metadata": {},
   "outputs": [
    {
     "data": {
      "text/plain": [
       "0.41"
      ]
     },
     "execution_count": 179,
     "metadata": {},
     "output_type": "execute_result"
    }
   ],
   "source": [
    "# Train: 4800, Test: 200\n",
    "sup_model.SupModel.evaluate_at_k(sens, 10)"
   ]
  },
  {
   "cell_type": "code",
   "execution_count": 127,
   "metadata": {},
   "outputs": [
    {
     "data": {
      "text/plain": [
       "0.176"
      ]
     },
     "execution_count": 127,
     "metadata": {},
     "output_type": "execute_result"
    }
   ],
   "source": [
    "# Train: 7000, Test: 3000\n",
    "sup_model.SupModel.evaluate_at_k(sens, 1)"
   ]
  },
  {
   "cell_type": "code",
   "execution_count": 128,
   "metadata": {},
   "outputs": [
    {
     "data": {
      "text/plain": [
       "0.22166666666666668"
      ]
     },
     "execution_count": 128,
     "metadata": {},
     "output_type": "execute_result"
    }
   ],
   "source": [
    "# Train: 7000, Test: 3000\n",
    "sup_model.SupModel.evaluate_at_k(sens, 3)"
   ]
  },
  {
   "cell_type": "code",
   "execution_count": 129,
   "metadata": {},
   "outputs": [
    {
     "data": {
      "text/plain": [
       "0.253"
      ]
     },
     "execution_count": 129,
     "metadata": {},
     "output_type": "execute_result"
    }
   ],
   "source": [
    "# Train: 7000, Test: 3000\n",
    "sup_model.SupModel.evaluate_at_k(sens, 5)"
   ]
  },
  {
   "cell_type": "code",
   "execution_count": 130,
   "metadata": {},
   "outputs": [
    {
     "data": {
      "text/plain": [
       "0.2966666666666667"
      ]
     },
     "execution_count": 130,
     "metadata": {},
     "output_type": "execute_result"
    }
   ],
   "source": [
    "# Train: 7000, Test: 3000\n",
    "sup_model.SupModel.evaluate_at_k(sens, 10)"
   ]
  },
  {
   "cell_type": "code",
   "execution_count": 101,
   "metadata": {},
   "outputs": [
    {
     "data": {
      "text/plain": [
       "0.248"
      ]
     },
     "execution_count": 101,
     "metadata": {},
     "output_type": "execute_result"
    }
   ],
   "source": [
    "# Train: 4000, Test: 1000\n",
    "sup_model.SupModel.evaluate_at_k(sens, 1)"
   ]
  },
  {
   "cell_type": "code",
   "execution_count": 102,
   "metadata": {},
   "outputs": [
    {
     "data": {
      "text/plain": [
       "0.292"
      ]
     },
     "execution_count": 102,
     "metadata": {},
     "output_type": "execute_result"
    }
   ],
   "source": [
    "# Train: 4000, Test: 1000\n",
    "sup_model.SupModel.evaluate_at_k(sens, 3)"
   ]
  },
  {
   "cell_type": "code",
   "execution_count": 103,
   "metadata": {},
   "outputs": [
    {
     "data": {
      "text/plain": [
       "0.318"
      ]
     },
     "execution_count": 103,
     "metadata": {},
     "output_type": "execute_result"
    }
   ],
   "source": [
    "# Train: 4000, Test: 1000\n",
    "sup_model.SupModel.evaluate_at_k(sens, 5)"
   ]
  },
  {
   "cell_type": "code",
   "execution_count": 104,
   "metadata": {},
   "outputs": [
    {
     "data": {
      "text/plain": [
       "0.365"
      ]
     },
     "execution_count": 104,
     "metadata": {},
     "output_type": "execute_result"
    }
   ],
   "source": [
    "# Train: 4000, Test: 1000\n",
    "sup_model.SupModel.evaluate_at_k(sens, 10)"
   ]
  }
 ],
 "metadata": {
  "kernelspec": {
   "display_name": "Python 3",
   "language": "python",
   "name": "python3"
  },
  "language_info": {
   "codemirror_mode": {
    "name": "ipython",
    "version": 3
   },
   "file_extension": ".py",
   "mimetype": "text/x-python",
   "name": "python",
   "nbconvert_exporter": "python",
   "pygments_lexer": "ipython3",
   "version": "3.7.2"
  }
 },
 "nbformat": 4,
 "nbformat_minor": 2
}
