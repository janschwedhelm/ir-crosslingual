{
 "cells": [
  {
   "cell_type": "markdown",
   "metadata": {},
   "source": [
    "## Imports"
   ]
  },
  {
   "cell_type": "code",
   "execution_count": 2,
   "metadata": {},
   "outputs": [],
   "source": [
    "import importlib"
   ]
  },
  {
   "cell_type": "code",
   "execution_count": 3,
   "metadata": {},
   "outputs": [
    {
     "data": {
      "text/plain": [
       "<module 'ir_crosslingual.embeddings.embeddings' from '/Users/i500969/Desktop/Admin/Uni-Mannheim/02_Courses/2020_FSS/Information-Retrieval/03_Project/03_Implementation/07_Word-Embeddings/ir-crosslingual/ir_crosslingual/embeddings/embeddings.py'>"
      ]
     },
     "execution_count": 3,
     "metadata": {},
     "output_type": "execute_result"
    }
   ],
   "source": [
    "from ir_crosslingual.embeddings import embeddings\n",
    "importlib.reload(embeddings)"
   ]
  },
  {
   "cell_type": "markdown",
   "metadata": {},
   "source": [
    "## Induction of multilingual word embeddings"
   ]
  },
  {
   "cell_type": "markdown",
   "metadata": {},
   "source": [
    "### Load fastText monolingual embeddings"
   ]
  },
  {
   "cell_type": "code",
   "execution_count": 4,
   "metadata": {},
   "outputs": [],
   "source": [
    "english = embeddings.WordEmbeddings('en')\n",
    "english.load_vec_embeddings(n_max=50000)\n",
    "\n",
    "german = embeddings.WordEmbeddings('de')\n",
    "german.load_vec_embeddings(n_max=50000)"
   ]
  },
  {
   "cell_type": "code",
   "execution_count": 5,
   "metadata": {},
   "outputs": [
    {
     "name": "stdout",
     "output_type": "stream",
     "text": [
      "(50000, 300)\n",
      "{'.': 0, ',': 1, '</s>': 2, '-': 3, 'der': 4, ')': 5, 'die': 6, '(': 7, 'und': 8, 'in': 9, 'von': 10, \"'\": 11, 'den': 12, 'im': 13, 'das': 14, 'des': 15, 'mit': 16, 'ist': 17, 'er': 18, 'zu': 19, 'für': 20, 'auf': 21, 'ein': 22, 'als': 23, 'dem': 24, 'eine': 25, 'wurde': 26, '–': 27, 'auch': 28, 'sich': 29, 'nicht': 30, 'an': 31, 'es': 32, 'nach': 33, 'war': 34, 'bei': 35, 'aus': 36, 'rd': 37, 'am': 38, 'sie': 39, 'cest': 40, 'bis': 41, '\"': 42, 'ich': 43, 'einer': 44, 'zum': 45, 'werden': 46, 'sind': 47, 'oder': 48, 'wird': 49, 'durch': 50, 'cet': 51, 'score': 52, 'zur': 53, 'einen': 54, 'dass': 55, 'über': 56, 'einem': 57, 'um': 58, 'aber': 59, '?': 60, 'wie': 61, 'nur': 62, 'noch': 63, 'so': 64, 'unter': 65, 'hat': 66, 'artikel': 67, 'man': 68, 's': 69, 'vor': 70, 'wurden': 71, '/': 72, 'sein': 73, 'da': 74, 'de': 75, 'diese': 76, 'the': 77, 'vom': 78, 'kann': 79, 'of': 80, 'hier': 81, 'diskussion': 82, 'a': 83, 'seine': 84, 'seit': 85, 'dieser': 86, 'jahr': 87, 'wenn': 88, '#': 89, 'dann': 90, 'ab': 91, 'zwei': 92, 'seiner': 93, 'eines': 94, 'jahre': 95, 'mai': 96, 'isbn': 97, 'was': 98, '!': 99}\n"
     ]
    }
   ],
   "source": [
    "print(german.embeddings.shape)\n",
    "print({k: german.word2id[k] for k in list(german.word2id)[:100]})"
   ]
  },
  {
   "cell_type": "markdown",
   "metadata": {},
   "source": [
    "### Extraction of seed dictionaries"
   ]
  },
  {
   "cell_type": "code",
   "execution_count": 6,
   "metadata": {},
   "outputs": [
    {
     "name": "stdout",
     "output_type": "stream",
     "text": [
      "---- INFO: Found 13700 valid translation pairs in expert dictionary.\n",
      "---- INFO: 977 other pairs contained at least one unknown word (0 in source language, 977 in target language).\n",
      "---- INFO: Found 10604 valid translation pairs in expert dictionary.\n",
      "---- INFO: 262 other pairs contained at least one unknown word (0 in source language, 262 in target language).\n"
     ]
    }
   ],
   "source": [
    "embeddings.WordEmbeddings.set_seed_dictionary(src_lang='en', trg_lang='de')\n",
    "embeddings.WordEmbeddings.set_seed_dictionary(src_lang='de', trg_lang='en')"
   ]
  },
  {
   "cell_type": "markdown",
   "metadata": {},
   "source": [
    "### Align subspaces"
   ]
  },
  {
   "cell_type": "code",
   "execution_count": 7,
   "metadata": {},
   "outputs": [
    {
     "name": "stdout",
     "output_type": "stream",
     "text": [
      "---- INFO: Resulting subspace dimension: (13700, 300)\n",
      "---- INFO: Resulting subspace dimension: (13700, 300)\n",
      "---- INFO: Resulting subspace dimension: (10604, 300)\n",
      "---- INFO: Resulting subspace dimension: (10604, 300)\n"
     ]
    }
   ],
   "source": [
    "english.align_monolingual_embeddings(languages='en-de', source=True)\n",
    "german.align_monolingual_embeddings(languages='en-de', source=False)\n",
    "\n",
    "german.align_monolingual_embeddings(languages='de-en', source=True)\n",
    "english.align_monolingual_embeddings(languages='de-en', source=False)"
   ]
  },
  {
   "cell_type": "markdown",
   "metadata": {},
   "source": [
    "### Put it all together: Learn projection matrix W from training dictionary"
   ]
  },
  {
   "cell_type": "code",
   "execution_count": 8,
   "metadata": {},
   "outputs": [
    {
     "name": "stdout",
     "output_type": "stream",
     "text": [
      "---- INFO: Learn projection matrix for en-de\n",
      "---- DONE: Projection matrix learned from en to de\n",
      "---- INFO: Learn projection matrix for de-en\n",
      "---- DONE: Projection matrix learned from de to en\n"
     ]
    }
   ],
   "source": [
    "W_ende, W_deen = embeddings.WordEmbeddings.learn_projection_matrix(src_lang='en', trg_lang='de', extract_seed=False, align_subspaces=False)"
   ]
  },
  {
   "cell_type": "markdown",
   "metadata": {},
   "source": [
    "## Evaluation of multilingual word embeddings"
   ]
  },
  {
   "cell_type": "code",
   "execution_count": 11,
   "metadata": {},
   "outputs": [],
   "source": [
    "english_eval = embeddings.WordEmbeddings('en', evaluation=True)\n",
    "english_eval.load_vec_embeddings(n_max=50000)\n",
    "\n",
    "german_eval = embeddings.WordEmbeddings('de', evaluation=True)\n",
    "german_eval.load_vec_embeddings(n_max=200000)"
   ]
  },
  {
   "cell_type": "code",
   "execution_count": 12,
   "metadata": {},
   "outputs": [
    {
     "name": "stdout",
     "output_type": "stream",
     "text": [
      "---- INFO: Found 3660 valid translation pairs in expert dictionary.\n",
      "---- INFO: 0 other pairs contained at least one unknown word (0 in source language, 0 in target language).\n",
      "---- INFO: Aims to find correct translations between 1500 source words and 3429 target words\n",
      "---- INFO: Start determination of top k=1 translations\n",
      "---- INFO: Start identification of correct translations\n",
      "---- DONE: Accuracy with k=1: 0.6893333333333334\n",
      "------------------------------------------------------------\n",
      "Examples of Top 1 translations:\n",
      "recommend -> ['empfehle']\n",
      "geographical -> ['geografische']\n",
      "developer -> ['entwickler']\n"
     ]
    }
   ],
   "source": [
    "accuracy1, translations1 = embeddings.WordEmbeddings.evaluate_multilingual_embeddings(src_lang='en', trg_lang='de', k=1)\n"
   ]
  },
  {
   "cell_type": "code",
   "execution_count": 104,
   "metadata": {},
   "outputs": [
    {
     "name": "stdout",
     "output_type": "stream",
     "text": [
      "---- INFO: Found 3660 valid translation pairs in expert dictionary.\n",
      "---- INFO: 0 other pairs contained at least one unknown word (0 in source language, 0 in target language).\n",
      "---- INFO: Aims to find correct translations between 1500 source words and 3429 target words\n",
      "---- INFO: Start determination of top k=5 translations\n",
      "---- INFO: Start identification of correct translations\n",
      "---- DONE: Accuracy with k=5: 0.86\n",
      "------------------------------------------------------------\n",
      "Examples of Top 5 translations:\n",
      "recommend -> ['empfehle', 'vorschlagen', 'empfehlen', 'zweifelsfall', 'hilfreich']\n",
      "geographical -> ['geografische', 'geographischen', 'geographische', 'geografischen', 'geografisch']\n",
      "developer -> ['entwickler', 'projektentwickler', 'hauptentwickler', 'mitentwickler', 'softwareentwickler']\n"
     ]
    }
   ],
   "source": [
    "accuracy5, translations5 = embeddings.WordEmbeddings.evaluate_multilingual_embeddings(src_lang='en', trg_lang='de', k=5)\n"
   ]
  },
  {
   "cell_type": "code",
   "execution_count": 105,
   "metadata": {},
   "outputs": [
    {
     "name": "stdout",
     "output_type": "stream",
     "text": [
      "---- INFO: Found 3660 valid translation pairs in expert dictionary.\n",
      "---- INFO: 0 other pairs contained at least one unknown word (0 in source language, 0 in target language).\n",
      "---- INFO: Aims to find correct translations between 1500 source words and 3429 target words\n",
      "---- INFO: Start determination of top k=10 translations\n",
      "---- INFO: Start identification of correct translations\n",
      "---- DONE: Accuracy with k=10: 0.8953333333333333\n",
      "------------------------------------------------------------\n",
      "Examples of Top 10 translations:\n",
      "recommend -> ['empfehle', 'vorschlagen', 'empfehlen', 'zweifelsfall', 'hilfreich', 'sinnvoll', 'abraten', 'befürworte', 'anzuraten', 'überlege']\n",
      "geographical -> ['geografische', 'geographischen', 'geographische', 'geografischen', 'geografisch', 'geographisch', 'geografischer', 'geographisches', 'geografisches', 'geographischer']\n",
      "developer -> ['entwickler', 'projektentwickler', 'hauptentwickler', 'mitentwickler', 'softwareentwickler', 'entwicklers', 'spieleentwickler', 'entwicklerstudio', 'softwarefirma', 'entwicklerstudios']\n"
     ]
    }
   ],
   "source": [
    "accuracy10, translations10 = embeddings.WordEmbeddings.evaluate_multilingual_embeddings(src_lang='en', trg_lang='de', k=10)\n"
   ]
  },
  {
   "cell_type": "code",
   "execution_count": null,
   "metadata": {},
   "outputs": [],
   "source": []
  }
 ],
 "metadata": {
  "kernelspec": {
   "display_name": "Python 3",
   "language": "python",
   "name": "python3"
  },
  "language_info": {
   "codemirror_mode": {
    "name": "ipython",
    "version": 3
   },
   "file_extension": ".py",
   "mimetype": "text/x-python",
   "name": "python",
   "nbconvert_exporter": "python",
   "pygments_lexer": "ipython3",
   "version": "3.7.7"
  }
 },
 "nbformat": 4,
 "nbformat_minor": 4
}
