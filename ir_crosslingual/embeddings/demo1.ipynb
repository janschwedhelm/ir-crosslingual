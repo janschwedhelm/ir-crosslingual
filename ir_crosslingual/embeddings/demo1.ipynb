{
 "cells": [
  {
   "cell_type": "code",
   "execution_count": 1,
   "metadata": {},
   "outputs": [],
   "source": [
    "import io\n",
    "import os\n",
    "import numpy as np\n",
    "from numpy.linalg import svd\n",
    "from sklearn.metrics.pairwise import cosine_similarity\n",
    "from mono_embedding_loading import load_monolingual_embedding\n",
    "from subspace_creation import create_translation_dictionary, extract_seed_dictionary, align_monolingual_subspaces\n",
    "from multi_embedding_learning import learn_projection_matrix, LEARNING_METHODS\n",
    "from multi_embedding_evaluation import evaluate_multilingual_embedding\n",
    "from googletrans import Translator"
   ]
  },
  {
   "cell_type": "markdown",
   "metadata": {},
   "source": [
    "# Inducing multilingual word embedding - DEMO"
   ]
  },
  {
   "cell_type": "markdown",
   "metadata": {},
   "source": [
    "### Load fastText monolingual embeddings"
   ]
  },
  {
   "cell_type": "code",
   "execution_count": null,
   "metadata": {},
   "outputs": [],
   "source": [
    "emb_en, id2word_en, word2id_en = load_monolingual_embedding(path = 'fastText_mon_emb/wiki.en.vec', n_max=50000)\n",
    "emb_de, id2word_de, word2id_de = load_monolingual_embedding(path = 'fastText_mon_emb/wiki.de.vec', n_max=50000)"
   ]
  },
  {
   "cell_type": "code",
   "execution_count": 4,
   "metadata": {},
   "outputs": [
    {
     "name": "stdout",
     "output_type": "stream",
     "text": [
      "2.97 s ± 304 ms per loop (mean ± std. dev. of 7 runs, 1 loop each)\n"
     ]
    }
   ],
   "source": [
    "%timeit load_monolingual_embedding(path = 'fastText_mon_emb/wiki.en.vec', n_max=50000)"
   ]
  },
  {
   "cell_type": "code",
   "execution_count": 5,
   "metadata": {},
   "outputs": [
    {
     "name": "stdout",
     "output_type": "stream",
     "text": [
      "(50000, 300)\n",
      "{0: '.', 1: ',', 2: '</s>', 3: '-', 4: 'der', 5: ')', 6: 'die', 7: '(', 8: 'und', 9: 'in', 10: 'von', 11: \"'\", 12: 'den', 13: 'im', 14: 'das', 15: 'des', 16: 'mit', 17: 'ist', 18: 'er', 19: 'zu', 20: 'für', 21: 'auf', 22: 'ein', 23: 'als', 24: 'dem', 25: 'eine', 26: 'wurde', 27: '–', 28: 'auch', 29: 'sich', 30: 'nicht', 31: 'an', 32: 'es', 33: 'nach', 34: 'war', 35: 'bei', 36: 'aus', 37: 'rd', 38: 'am', 39: 'sie', 40: 'cest', 41: 'bis', 42: '\"', 43: 'ich', 44: 'einer', 45: 'zum', 46: 'werden', 47: 'sind', 48: 'oder', 49: 'wird', 50: 'durch', 51: 'cet', 52: 'score', 53: 'zur', 54: 'einen', 55: 'dass', 56: 'über', 57: 'einem', 58: 'um', 59: 'aber', 60: '?', 61: 'wie', 62: 'nur', 63: 'noch', 64: 'so', 65: 'unter', 66: 'hat', 67: 'artikel', 68: 'man', 69: 's', 70: 'vor', 71: 'wurden', 72: '/', 73: 'sein', 74: 'da', 75: 'de', 76: 'diese', 77: 'the', 78: 'vom', 79: 'kann', 80: 'of', 81: 'hier', 82: 'diskussion', 83: 'a', 84: 'seine', 85: 'seit', 86: 'dieser', 87: 'jahr', 88: 'wenn', 89: '#', 90: 'dann', 91: 'ab', 92: 'zwei', 93: 'seiner', 94: 'eines', 95: 'jahre', 96: 'mai', 97: 'isbn', 98: 'was', 99: '!'}\n"
     ]
    }
   ],
   "source": [
    "print(emb_de.shape)\n",
    "print({k: id2word_de[k] for k in list(id2word_de)[:100]})"
   ]
  },
  {
   "cell_type": "markdown",
   "metadata": {},
   "source": [
    "### Optional: Create expert dictionary using Google Translate API"
   ]
  },
  {
   "cell_type": "code",
   "execution_count": null,
   "metadata": {},
   "outputs": [],
   "source": [
    "# does not work since Google API's request limit is exceeded -> use MUSE expert dictionary\n",
    "google_dict = create_translation_dictionary(id2word_en.values(), 'en', 'fr', 20000, write_to_path='expert_dictionaries/GOOGLE_en-fr.0-20000.txt')"
   ]
  },
  {
   "cell_type": "code",
   "execution_count": null,
   "metadata": {},
   "outputs": [],
   "source": [
    "print({k: google_dict[k] for k in list(google_dict)[:10]})"
   ]
  },
  {
   "cell_type": "markdown",
   "metadata": {},
   "source": [
    "### Extract seed dictionary from expert dictionary using the vocabularies from monolingual word embeddings"
   ]
  },
  {
   "cell_type": "code",
   "execution_count": 8,
   "metadata": {
    "scrolled": true
   },
   "outputs": [
    {
     "name": "stdout",
     "output_type": "stream",
     "text": [
      "Found 13700 valid translation pairs in expert dictionary.\n",
      "977 other pairs contained at least one unknown word (0 in source language, 977 in target language).\n",
      "\n",
      " [('the', 'die'), ('the', 'der'), ('the', 'dem'), ('the', 'den'), ('the', 'das'), ('and', 'sowie'), ('and', 'und'), ('was', 'war'), ('was', 'wurde'), ('for', 'für'), ('that', 'dass'), ('that', 'das'), ('with', 'mit'), ('from', 'vom'), ('from', 'von'), ('from', 'ab'), ('from', 'aus'), ('this', 'dieser'), ('this', 'diese'), ('this', 'das'), ('utc', 'utc'), ('his', 'seinem'), ('his', 'seinen'), ('his', 'seine'), ('his', 'sein'), ('his', 'seiner'), ('not', 'not'), ('not', 'nicht'), ('not', 'kein'), ('are', 'sind'), ('talk', 'vortrag'), ('talk', 'gespräch'), ('talk', 'reden'), ('talk', 'talk'), ('which', 'welches'), ('which', 'welcher'), ('which', 'welche'), ('which', 'welchen'), ('also', 'ausserdem'), ('also', 'ebenso'), ('also', 'außerdem'), ('also', 'ebenfalls'), ('also', 'auch'), ('has', 'verfügt'), ('has', 'hat'), ('were', 'wurden'), ('were', 'waren'), ('but', 'doch'), ('but', 'aber'), ('but', 'allerdings'), ('but', 'but'), ('but', 'jedoch'), ('have', 'haben'), ('have', 'habe'), ('one', 'einen'), ('one', 'eins'), ('one', 'einer'), ('one', 'eine'), ('one', 'ein'), ('new', 'neuer'), ('new', 'neue'), ('new', 'neu'), ('new', 'neuen'), ('new', 'neues'), ('first', 'erste'), ('first', 'zuerst'), ('first', 'erster'), ('first', 'first'), ('first', 'ersten'), ('page', 'seite'), ('page', 'seiten'), ('you', 'ihr'), ('you', 'dich'), ('you', 'du'), ('you', 'dir'), ('you', 'sie'), ('they', 'sie'), ('had', 'hatten'), ('had', 'hatte'), ('article', 'artikel'), ('who', 'who'), ('who', 'wem'), ('who', 'wen'), ('who', 'wer'), ('all', 'alle'), ('all', 'alles'), ('all', 'all'), ('their', 'ihre'), ('their', 'ihrer'), ('their', 'ihren'), ('there', 'dort'), ('there', 'dorthin'), ('there', 'da'), ('made', 'hergestellt'), ('made', 'machte'), ('made', 'gemacht'), ('made', 'made'), ('made', 'geschafft'), ('its', 'ihre'), ('its', 'seine')]\n"
     ]
    }
   ],
   "source": [
    "seed_dict_indices_train, seed_dict_words_train = extract_seed_dictionary('expert_dictionaries/MUSE_en-de.0-5000.txt', s_word2id=word2id_en, t_word2id=word2id_de)\n",
    "print('\\n', seed_dict_words_train[:100])"
   ]
  },
  {
   "cell_type": "code",
   "execution_count": 9,
   "metadata": {
    "scrolled": true
   },
   "outputs": [
    {
     "name": "stdout",
     "output_type": "stream",
     "text": [
      "Found 13700 valid translation pairs in expert dictionary.\n",
      "977 other pairs contained at least one unknown word (0 in source language, 977 in target language).\n",
      "Found 13700 valid translation pairs in expert dictionary.\n",
      "977 other pairs contained at least one unknown word (0 in source language, 977 in target language).\n",
      "Found 13700 valid translation pairs in expert dictionary.\n",
      "977 other pairs contained at least one unknown word (0 in source language, 977 in target language).\n",
      "Found 13700 valid translation pairs in expert dictionary.\n",
      "977 other pairs contained at least one unknown word (0 in source language, 977 in target language).\n",
      "Found 13700 valid translation pairs in expert dictionary.\n",
      "977 other pairs contained at least one unknown word (0 in source language, 977 in target language).\n",
      "Found 13700 valid translation pairs in expert dictionary.\n",
      "977 other pairs contained at least one unknown word (0 in source language, 977 in target language).\n",
      "Found 13700 valid translation pairs in expert dictionary.\n",
      "977 other pairs contained at least one unknown word (0 in source language, 977 in target language).\n",
      "Found 13700 valid translation pairs in expert dictionary.\n",
      "977 other pairs contained at least one unknown word (0 in source language, 977 in target language).\n",
      "Found 13700 valid translation pairs in expert dictionary.\n",
      "977 other pairs contained at least one unknown word (0 in source language, 977 in target language).\n",
      "Found 13700 valid translation pairs in expert dictionary.\n",
      "977 other pairs contained at least one unknown word (0 in source language, 977 in target language).\n",
      "Found 13700 valid translation pairs in expert dictionary.\n",
      "977 other pairs contained at least one unknown word (0 in source language, 977 in target language).\n",
      "Found 13700 valid translation pairs in expert dictionary.\n",
      "977 other pairs contained at least one unknown word (0 in source language, 977 in target language).\n",
      "Found 13700 valid translation pairs in expert dictionary.\n",
      "977 other pairs contained at least one unknown word (0 in source language, 977 in target language).\n",
      "Found 13700 valid translation pairs in expert dictionary.\n",
      "977 other pairs contained at least one unknown word (0 in source language, 977 in target language).\n",
      "Found 13700 valid translation pairs in expert dictionary.\n",
      "977 other pairs contained at least one unknown word (0 in source language, 977 in target language).\n",
      "Found 13700 valid translation pairs in expert dictionary.\n",
      "977 other pairs contained at least one unknown word (0 in source language, 977 in target language).\n",
      "Found 13700 valid translation pairs in expert dictionary.\n",
      "977 other pairs contained at least one unknown word (0 in source language, 977 in target language).\n",
      "Found 13700 valid translation pairs in expert dictionary.\n",
      "977 other pairs contained at least one unknown word (0 in source language, 977 in target language).\n",
      "Found 13700 valid translation pairs in expert dictionary.\n",
      "977 other pairs contained at least one unknown word (0 in source language, 977 in target language).\n",
      "Found 13700 valid translation pairs in expert dictionary.\n",
      "977 other pairs contained at least one unknown word (0 in source language, 977 in target language).\n",
      "Found 13700 valid translation pairs in expert dictionary.\n",
      "977 other pairs contained at least one unknown word (0 in source language, 977 in target language).\n",
      "Found 13700 valid translation pairs in expert dictionary.\n",
      "977 other pairs contained at least one unknown word (0 in source language, 977 in target language).\n",
      "Found 13700 valid translation pairs in expert dictionary.\n",
      "977 other pairs contained at least one unknown word (0 in source language, 977 in target language).\n",
      "Found 13700 valid translation pairs in expert dictionary.\n",
      "977 other pairs contained at least one unknown word (0 in source language, 977 in target language).\n",
      "Found 13700 valid translation pairs in expert dictionary.\n",
      "977 other pairs contained at least one unknown word (0 in source language, 977 in target language).\n",
      "Found 13700 valid translation pairs in expert dictionary.\n",
      "977 other pairs contained at least one unknown word (0 in source language, 977 in target language).\n",
      "Found 13700 valid translation pairs in expert dictionary.\n",
      "977 other pairs contained at least one unknown word (0 in source language, 977 in target language).\n",
      "Found 13700 valid translation pairs in expert dictionary.\n",
      "977 other pairs contained at least one unknown word (0 in source language, 977 in target language).\n",
      "Found 13700 valid translation pairs in expert dictionary.\n",
      "977 other pairs contained at least one unknown word (0 in source language, 977 in target language).\n",
      "Found 13700 valid translation pairs in expert dictionary.\n",
      "977 other pairs contained at least one unknown word (0 in source language, 977 in target language).\n",
      "Found 13700 valid translation pairs in expert dictionary.\n",
      "977 other pairs contained at least one unknown word (0 in source language, 977 in target language).\n",
      "Found 13700 valid translation pairs in expert dictionary.\n",
      "977 other pairs contained at least one unknown word (0 in source language, 977 in target language).\n",
      "Found 13700 valid translation pairs in expert dictionary.\n",
      "977 other pairs contained at least one unknown word (0 in source language, 977 in target language).\n",
      "Found 13700 valid translation pairs in expert dictionary.\n",
      "977 other pairs contained at least one unknown word (0 in source language, 977 in target language).\n",
      "Found 13700 valid translation pairs in expert dictionary.\n",
      "977 other pairs contained at least one unknown word (0 in source language, 977 in target language).\n",
      "Found 13700 valid translation pairs in expert dictionary.\n",
      "977 other pairs contained at least one unknown word (0 in source language, 977 in target language).\n",
      "Found 13700 valid translation pairs in expert dictionary.\n",
      "977 other pairs contained at least one unknown word (0 in source language, 977 in target language).\n",
      "Found 13700 valid translation pairs in expert dictionary.\n",
      "977 other pairs contained at least one unknown word (0 in source language, 977 in target language).\n",
      "Found 13700 valid translation pairs in expert dictionary.\n",
      "977 other pairs contained at least one unknown word (0 in source language, 977 in target language).\n",
      "Found 13700 valid translation pairs in expert dictionary.\n",
      "977 other pairs contained at least one unknown word (0 in source language, 977 in target language).\n",
      "Found 13700 valid translation pairs in expert dictionary.\n",
      "977 other pairs contained at least one unknown word (0 in source language, 977 in target language).\n",
      "Found 13700 valid translation pairs in expert dictionary.\n",
      "977 other pairs contained at least one unknown word (0 in source language, 977 in target language).\n",
      "Found 13700 valid translation pairs in expert dictionary.\n",
      "977 other pairs contained at least one unknown word (0 in source language, 977 in target language).\n",
      "Found 13700 valid translation pairs in expert dictionary.\n",
      "977 other pairs contained at least one unknown word (0 in source language, 977 in target language).\n",
      "Found 13700 valid translation pairs in expert dictionary.\n",
      "977 other pairs contained at least one unknown word (0 in source language, 977 in target language).\n",
      "Found 13700 valid translation pairs in expert dictionary.\n",
      "977 other pairs contained at least one unknown word (0 in source language, 977 in target language).\n",
      "Found 13700 valid translation pairs in expert dictionary.\n",
      "977 other pairs contained at least one unknown word (0 in source language, 977 in target language).\n",
      "Found 13700 valid translation pairs in expert dictionary.\n",
      "977 other pairs contained at least one unknown word (0 in source language, 977 in target language).\n",
      "Found 13700 valid translation pairs in expert dictionary.\n",
      "977 other pairs contained at least one unknown word (0 in source language, 977 in target language).\n",
      "Found 13700 valid translation pairs in expert dictionary.\n",
      "977 other pairs contained at least one unknown word (0 in source language, 977 in target language).\n",
      "Found 13700 valid translation pairs in expert dictionary.\n",
      "977 other pairs contained at least one unknown word (0 in source language, 977 in target language).\n",
      "Found 13700 valid translation pairs in expert dictionary.\n",
      "977 other pairs contained at least one unknown word (0 in source language, 977 in target language).\n"
     ]
    },
    {
     "name": "stdout",
     "output_type": "stream",
     "text": [
      "Found 13700 valid translation pairs in expert dictionary.\n",
      "977 other pairs contained at least one unknown word (0 in source language, 977 in target language).\n",
      "Found 13700 valid translation pairs in expert dictionary.\n",
      "977 other pairs contained at least one unknown word (0 in source language, 977 in target language).\n",
      "Found 13700 valid translation pairs in expert dictionary.\n",
      "977 other pairs contained at least one unknown word (0 in source language, 977 in target language).\n",
      "Found 13700 valid translation pairs in expert dictionary.\n",
      "977 other pairs contained at least one unknown word (0 in source language, 977 in target language).\n",
      "Found 13700 valid translation pairs in expert dictionary.\n",
      "977 other pairs contained at least one unknown word (0 in source language, 977 in target language).\n",
      "Found 13700 valid translation pairs in expert dictionary.\n",
      "977 other pairs contained at least one unknown word (0 in source language, 977 in target language).\n",
      "Found 13700 valid translation pairs in expert dictionary.\n",
      "977 other pairs contained at least one unknown word (0 in source language, 977 in target language).\n",
      "Found 13700 valid translation pairs in expert dictionary.\n",
      "977 other pairs contained at least one unknown word (0 in source language, 977 in target language).\n",
      "Found 13700 valid translation pairs in expert dictionary.\n",
      "977 other pairs contained at least one unknown word (0 in source language, 977 in target language).\n",
      "Found 13700 valid translation pairs in expert dictionary.\n",
      "977 other pairs contained at least one unknown word (0 in source language, 977 in target language).\n",
      "Found 13700 valid translation pairs in expert dictionary.\n",
      "977 other pairs contained at least one unknown word (0 in source language, 977 in target language).\n",
      "Found 13700 valid translation pairs in expert dictionary.\n",
      "977 other pairs contained at least one unknown word (0 in source language, 977 in target language).\n",
      "Found 13700 valid translation pairs in expert dictionary.\n",
      "977 other pairs contained at least one unknown word (0 in source language, 977 in target language).\n",
      "Found 13700 valid translation pairs in expert dictionary.\n",
      "977 other pairs contained at least one unknown word (0 in source language, 977 in target language).\n",
      "Found 13700 valid translation pairs in expert dictionary.\n",
      "977 other pairs contained at least one unknown word (0 in source language, 977 in target language).\n",
      "Found 13700 valid translation pairs in expert dictionary.\n",
      "977 other pairs contained at least one unknown word (0 in source language, 977 in target language).\n",
      "Found 13700 valid translation pairs in expert dictionary.\n",
      "977 other pairs contained at least one unknown word (0 in source language, 977 in target language).\n",
      "Found 13700 valid translation pairs in expert dictionary.\n",
      "977 other pairs contained at least one unknown word (0 in source language, 977 in target language).\n",
      "Found 13700 valid translation pairs in expert dictionary.\n",
      "977 other pairs contained at least one unknown word (0 in source language, 977 in target language).\n",
      "Found 13700 valid translation pairs in expert dictionary.\n",
      "977 other pairs contained at least one unknown word (0 in source language, 977 in target language).\n",
      "Found 13700 valid translation pairs in expert dictionary.\n",
      "977 other pairs contained at least one unknown word (0 in source language, 977 in target language).\n",
      "Found 13700 valid translation pairs in expert dictionary.\n",
      "977 other pairs contained at least one unknown word (0 in source language, 977 in target language).\n",
      "Found 13700 valid translation pairs in expert dictionary.\n",
      "977 other pairs contained at least one unknown word (0 in source language, 977 in target language).\n",
      "Found 13700 valid translation pairs in expert dictionary.\n",
      "977 other pairs contained at least one unknown word (0 in source language, 977 in target language).\n",
      "Found 13700 valid translation pairs in expert dictionary.\n",
      "977 other pairs contained at least one unknown word (0 in source language, 977 in target language).\n",
      "Found 13700 valid translation pairs in expert dictionary.\n",
      "977 other pairs contained at least one unknown word (0 in source language, 977 in target language).\n",
      "Found 13700 valid translation pairs in expert dictionary.\n",
      "977 other pairs contained at least one unknown word (0 in source language, 977 in target language).\n",
      "Found 13700 valid translation pairs in expert dictionary.\n",
      "977 other pairs contained at least one unknown word (0 in source language, 977 in target language).\n",
      "Found 13700 valid translation pairs in expert dictionary.\n",
      "977 other pairs contained at least one unknown word (0 in source language, 977 in target language).\n",
      "38.3 ms ± 6.98 ms per loop (mean ± std. dev. of 7 runs, 10 loops each)\n"
     ]
    }
   ],
   "source": [
    "%timeit extract_seed_dictionary('expert_dictionaries/MUSE_en-de.0-5000.txt', s_word2id=word2id_en, t_word2id=word2id_de)"
   ]
  },
  {
   "cell_type": "markdown",
   "metadata": {},
   "source": [
    "### Create aligned monolingual subspaces from seed dictionary"
   ]
  },
  {
   "cell_type": "code",
   "execution_count": 10,
   "metadata": {},
   "outputs": [
    {
     "name": "stdout",
     "output_type": "stream",
     "text": [
      "Resulting subspace dimension: (13700, 300)\n"
     ]
    }
   ],
   "source": [
    "X_s_train, X_t_train = align_monolingual_subspaces(emb_en, emb_de, seed_dict_indices_train)"
   ]
  },
  {
   "cell_type": "markdown",
   "metadata": {},
   "source": [
    "### Put it all together: Learn projection matrix W from training dictionary"
   ]
  },
  {
   "cell_type": "code",
   "execution_count": 2,
   "metadata": {},
   "outputs": [
    {
     "name": "stdout",
     "output_type": "stream",
     "text": [
      "Found 13700 valid translation pairs in expert dictionary.\n",
      "977 other pairs contained at least one unknown word (0 in source language, 977 in target language).\n",
      "Resulting subspace dimension: (13700, 300)\n"
     ]
    }
   ],
   "source": [
    "W = learn_projection_matrix('../../../../../04_Data/fastText_mon_emb/wiki.en.vec', '../../../../../04_Data/fastText_mon_emb/wiki.de.vec', '../../../../../04_Data/expert_dictionaries/en-de/MUSE_en-de.0-5000.txt')\n"
   ]
  },
  {
   "cell_type": "code",
   "execution_count": 12,
   "metadata": {},
   "outputs": [
    {
     "name": "stdout",
     "output_type": "stream",
     "text": [
      "Found 13700 valid translation pairs in expert dictionary.\n",
      "977 other pairs contained at least one unknown word (0 in source language, 977 in target language).\n",
      "Resulting subspace dimension: (13700, 300)\n"
     ]
    }
   ],
   "source": [
    "# also works if only word embeddings and word2id dictionaries are specified\n",
    "W_2 = learn_projection_matrix(emb_en, emb_de, 'expert_dictionaries/MUSE_en-de.0-5000.txt', word2id_en, word2id_de)"
   ]
  },
  {
   "cell_type": "code",
   "execution_count": 13,
   "metadata": {},
   "outputs": [
    {
     "data": {
      "text/plain": [
       "0"
      ]
     },
     "execution_count": 13,
     "metadata": {},
     "output_type": "execute_result"
    }
   ],
   "source": [
    "sum(sum(W != W_2)) # same results"
   ]
  },
  {
   "cell_type": "markdown",
   "metadata": {},
   "source": [
    "### Apply learned projection matrix W to test multilingual word embedding using evaluation measure precision@k"
   ]
  },
  {
   "cell_type": "markdown",
   "metadata": {},
   "source": [
    "#### Test functionality of evalution function"
   ]
  },
  {
   "cell_type": "code",
   "execution_count": 14,
   "metadata": {},
   "outputs": [],
   "source": [
    "emb_en_eval, id2word_en_eval, word2id_en_eval = load_monolingual_embedding(path = 'fastText_mon_emb/wiki.en.vec', n_max=10000)\n",
    "emb_de_eval, id2word_de_eval, word2id_de_eval = load_monolingual_embedding(path = 'fastText_mon_emb/wiki.de.vec', n_max=20000)"
   ]
  },
  {
   "cell_type": "code",
   "execution_count": 15,
   "metadata": {},
   "outputs": [
    {
     "name": "stdout",
     "output_type": "stream",
     "text": [
      "Found 2327 valid translation pairs in expert dictionary.\n",
      "1333 other pairs contained at least one unknown word (0 in source language, 1333 in target language).\n",
      "Aims to find correct translations between 1365 source words and 2146 target words.\n"
     ]
    }
   ],
   "source": [
    "accuracy_arrays, _ = evaluate_multilingual_embedding(emb_en_eval, emb_de_eval, W, 'expert_dictionaries/MUSE_en-de.5000-6500.txt', word2id_en_eval, word2id_de_eval, k=1)"
   ]
  },
  {
   "cell_type": "code",
   "execution_count": 5,
   "metadata": {},
   "outputs": [
    {
     "name": "stdout",
     "output_type": "stream",
     "text": [
      "Found 2327 valid translation pairs in expert dictionary.\n",
      "1333 other pairs contained at least one unknown word (0 in source language, 1333 in target language).\n",
      "Aims to find correct translations between 1365 source words and 2146 target words.\n"
     ]
    }
   ],
   "source": [
    "# no word2id dictionary needed if whole fastText paths are specified\n",
    "accuracy_textfile, _ = evaluate_multilingual_embedding('fastText_mon_emb/wiki.en.vec', 'fastText_mon_emb/wiki.de.vec', W, 'expert_dictionaries/MUSE_en-de.5000-6500.txt', s_nmax=10000, t_nmax=20000, k=1)"
   ]
  },
  {
   "cell_type": "code",
   "execution_count": 6,
   "metadata": {},
   "outputs": [
    {
     "data": {
      "text/plain": [
       "True"
      ]
     },
     "execution_count": 6,
     "metadata": {},
     "output_type": "execute_result"
    }
   ],
   "source": [
    "accuracy_arrays == accuracy_textfile # same results"
   ]
  },
  {
   "cell_type": "markdown",
   "metadata": {},
   "source": [
    "#### Evaluate multilingual word embedding"
   ]
  },
  {
   "cell_type": "code",
   "execution_count": 11,
   "metadata": {},
   "outputs": [
    {
     "name": "stdout",
     "output_type": "stream",
     "text": [
      "Found 3660 valid translation pairs.\n",
      "0 other pairs contained at least one unknown word (0 in source language, 0 in target language).\n"
     ]
    }
   ],
   "source": [
    "accuracy_1, translations_1 = evaluate_multilingual_embedding('fastText_mon_emb/wiki.en.vec', 'fastText_mon_emb/wiki.de.vec', W, 'expert_dictionaries/MUSE_en-de.5000-6500.txt', k=1)"
   ]
  },
  {
   "cell_type": "code",
   "execution_count": 12,
   "metadata": {},
   "outputs": [
    {
     "name": "stdout",
     "output_type": "stream",
     "text": [
      "Accuracy with k=1: 0.6893333333333334\n",
      "------------------------------------------------------------\n",
      "Examples of Top 1 translations:\n",
      "recommend -> ['empfehle']\n",
      "geographical -> ['geografische']\n",
      "developer -> ['entwickler']\n"
     ]
    }
   ],
   "source": [
    "print('Accuracy with k=1: {}'.format(accuracy_1))\n",
    "print('-' * 60)\n",
    "print('Examples of Top 1 translations:')\n",
    "for word in ['recommend', 'geographical', 'developer']:\n",
    "    print('{} -> {}'.format(word, translations_1[word]))"
   ]
  },
  {
   "cell_type": "code",
   "execution_count": 8,
   "metadata": {},
   "outputs": [
    {
     "name": "stdout",
     "output_type": "stream",
     "text": [
      "Found 3660 valid translation pairs.\n",
      "0 other pairs contained at least one unknown word (0 in source language, 0 in target language).\n"
     ]
    }
   ],
   "source": [
    "accuracy_5, translations_5 = evaluate_multilingual_embedding('fastText_mon_emb/wiki.en.vec', 'fastText_mon_emb/wiki.de.vec', W, 'expert_dictionaries/MUSE_en-de.5000-6500.txt', k=5)"
   ]
  },
  {
   "cell_type": "code",
   "execution_count": 9,
   "metadata": {},
   "outputs": [
    {
     "name": "stdout",
     "output_type": "stream",
     "text": [
      "Accuracy with k=5: 0.86\n",
      "------------------------------------------------------------\n",
      "Examples of Top 5 translations:\n",
      "recommend -> ['empfehle', 'vorschlagen', 'empfehlen', 'zweifelsfall', 'hilfreich']\n",
      "geographical -> ['geografische', 'geographischen', 'geographische', 'geografischen', 'geografisch']\n",
      "developer -> ['entwickler', 'projektentwickler', 'hauptentwickler', 'mitentwickler', 'softwareentwickler']\n"
     ]
    }
   ],
   "source": [
    "print('Accuracy with k=5: {}'.format(accuracy_5))\n",
    "print('-' * 60)\n",
    "print('Examples of Top 5 translations:')\n",
    "for word in ['recommend', 'geographical', 'developer']:\n",
    "    print('{} -> {}'.format(word, translations_5[word]))"
   ]
  },
  {
   "cell_type": "code",
   "execution_count": 10,
   "metadata": {},
   "outputs": [
    {
     "name": "stdout",
     "output_type": "stream",
     "text": [
      "Found 3660 valid translation pairs.\n",
      "0 other pairs contained at least one unknown word (0 in source language, 0 in target language).\n"
     ]
    }
   ],
   "source": [
    "accuracy_10, translations_10 = evaluate_multilingual_embedding('fastText_mon_emb/wiki.en.vec', 'fastText_mon_emb/wiki.de.vec', W, 'expert_dictionaries/MUSE_en-de.5000-6500.txt', k=10)"
   ]
  },
  {
   "cell_type": "code",
   "execution_count": 11,
   "metadata": {},
   "outputs": [
    {
     "name": "stdout",
     "output_type": "stream",
     "text": [
      "Accuracy with k=10: 0.8953333333333333\n",
      "------------------------------------------------------------\n",
      "Examples of Top 5 translations:\n",
      "recommend -> ['empfehle', 'vorschlagen', 'empfehlen', 'zweifelsfall', 'hilfreich', 'sinnvoll', 'abraten', 'befürworte', 'anzuraten', 'überlege']\n",
      "geographical -> ['geografische', 'geographischen', 'geographische', 'geografischen', 'geografisch', 'geographisch', 'geografischer', 'geographisches', 'geografisches', 'geographischer']\n",
      "developer -> ['entwickler', 'projektentwickler', 'hauptentwickler', 'mitentwickler', 'softwareentwickler', 'entwicklers', 'spieleentwickler', 'entwicklerstudio', 'softwarefirma', 'entwicklerstudios']\n"
     ]
    }
   ],
   "source": [
    "print('Accuracy with k=10: {}'.format(accuracy_10))\n",
    "print('-' * 60)\n",
    "print('Examples of Top 5 translations:')\n",
    "for word in ['recommend', 'geographical', 'developer']:\n",
    "    print('{} -> {}'.format(word, translations_10[word]))"
   ]
  }
 ],
 "metadata": {
  "kernelspec": {
   "display_name": "Python 3",
   "language": "python",
   "name": "python3"
  },
  "language_info": {
   "codemirror_mode": {
    "name": "ipython",
    "version": 3
   },
   "file_extension": ".py",
   "mimetype": "text/x-python",
   "name": "python",
   "nbconvert_exporter": "python",
   "pygments_lexer": "ipython3",
   "version": "3.7.7"
  }
 },
 "nbformat": 4,
 "nbformat_minor": 2
}
