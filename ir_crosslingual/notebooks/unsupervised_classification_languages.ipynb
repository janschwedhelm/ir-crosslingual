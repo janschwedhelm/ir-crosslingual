{
 "cells": [
  {
   "cell_type": "markdown",
   "metadata": {},
   "source": [
    "## Unsupervised Similarity Measure"
   ]
  },
  {
   "cell_type": "markdown",
   "metadata": {},
   "source": [
    "### Imports"
   ]
  },
  {
   "cell_type": "code",
   "execution_count": 1,
   "metadata": {},
   "outputs": [],
   "source": [
    "import pandas as pd\n",
    "import importlib, random\n",
    "from datetime import datetime\n",
    "\n",
    "import warnings\n",
    "warnings.filterwarnings('ignore')\n",
    "\n",
    "pd.set_option('display.max_columns', None)\n",
    "pd.set_option('display.max_rows', None)"
   ]
  },
  {
   "cell_type": "code",
   "execution_count": 2,
   "metadata": {},
   "outputs": [
    {
     "data": {
      "text/plain": [
       "<module 'ir_crosslingual.unsupervised_classification.unsup_model' from '/Users/jani/PycharmProjects/ir-crosslingual/ir_crosslingual/unsupervised_classification/unsup_model.py'>"
      ]
     },
     "execution_count": 2,
     "metadata": {},
     "output_type": "execute_result"
    }
   ],
   "source": [
    "from ir_crosslingual.utils import paths\n",
    "importlib.reload(paths)\n",
    "\n",
    "from ir_crosslingual.supervised_classification import sup_model\n",
    "importlib.reload(sup_model)\n",
    "\n",
    "from ir_crosslingual.sentences import sentences\n",
    "importlib.reload(sentences)\n",
    "\n",
    "from ir_crosslingual.unsupervised_classification import unsup_model\n",
    "importlib.reload(unsup_model)"
   ]
  },
  {
   "cell_type": "code",
   "execution_count": 3,
   "metadata": {},
   "outputs": [],
   "source": [
    "def time(start, stop):\n",
    "    print(f'---- TIME {datetime.now()}: Computation time: {stop-start}')"
   ]
  },
  {
   "cell_type": "code",
   "execution_count": 4,
   "metadata": {},
   "outputs": [],
   "source": [
    "def rank_unsupervised(src_lang='en', trg_lang='de'):\n",
    "    sens, chunks = sentences.Sentences.load_chunks_from_file(src_lang, trg_lang)\n",
    "    print(f'---- DONE: Chunks loaded for {src_lang}-{trg_lang}')\n",
    "    sens.test_collection = pd.concat(chunks, ignore_index=True)\n",
    "    model = unsup_model.UnsupModel()\n",
    "    sup = sup_model.SupModel()\n",
    "    start = datetime.now()\n",
    "    print(f\"---- MAP: {sup.compute_map(model, sens, ['src_embedding_aligned', 'trg_embedding', 'cosine_similarity'])}\")\n",
    "    time(start, datetime.now())\n",
    "\n"
   ]
  },
  {
   "cell_type": "markdown",
   "metadata": {},
   "source": [
    "### German"
   ]
  },
  {
   "cell_type": "code",
   "execution_count": 5,
   "metadata": {},
   "outputs": [
    {
     "name": "stdout",
     "output_type": "stream",
     "text": [
      "Unsupervised evaluation on German/English\n",
      "------------------------------------------------------------\n",
      "---- INFO: Learn projection matrix for de-en\n",
      "---- INFO: Found 10604 valid translation pairs in expert dictionary.\n",
      "---- INFO: 262 other pairs contained at least one unknown word (0 in source language, 262 in target language).\n",
      "---- INFO: Resulting subspace dimension: (10604, 300)\n",
      "---- INFO: Resulting subspace dimension: (10604, 300)\n",
      "---- DONE: Projection matrix learned from de to en\n",
      "---- INFO: Learn projection matrix for en-de\n",
      "---- INFO: Found 13700 valid translation pairs in expert dictionary.\n",
      "---- INFO: 977 other pairs contained at least one unknown word (0 in source language, 977 in target language).\n",
      "---- INFO: Resulting subspace dimension: (13700, 300)\n",
      "---- INFO: Resulting subspace dimension: (13700, 300)\n",
      "---- DONE: Projection matrix learned from en to de\n",
      "---- DONE: All chunks loaded\n",
      "---- DONE: Chunks loaded for de-en\n",
      "\n",
      "---- INFO: Start computing the MAP\n",
      "---- INFO: Probabilities predicted\n",
      "---- INFO: Dataframe with evaluation ranking created\n",
      "---- INFO: Probabilities sorted for each query\n",
      "---- INFO: Index of ranking of true translation retrieved\n",
      "---- MAP: 0.46810973480528145\n",
      "---- TIME 2020-05-25 01:23:26.250184: Computation time: 0:07:38.984348\n"
     ]
    }
   ],
   "source": [
    "print('Unsupervised evaluation on German/English')\n",
    "print('-' * 60)\n",
    "rank_unsupervised('de', 'en')"
   ]
  },
  {
   "cell_type": "markdown",
   "metadata": {},
   "source": [
    "### French"
   ]
  },
  {
   "cell_type": "code",
   "execution_count": 6,
   "metadata": {},
   "outputs": [
    {
     "name": "stdout",
     "output_type": "stream",
     "text": [
      "Unsupervised evaluation on English/French\n",
      "------------------------------------------------------------\n",
      "---- INFO: Learn projection matrix for en-fr\n",
      "---- INFO: Found 10369 valid translation pairs in expert dictionary.\n",
      "---- INFO: 503 other pairs contained at least one unknown word (0 in source language, 503 in target language).\n",
      "---- INFO: Resulting subspace dimension: (10369, 300)\n",
      "---- INFO: Resulting subspace dimension: (10369, 300)\n",
      "---- DONE: Projection matrix learned from en to fr\n",
      "---- INFO: Learn projection matrix for fr-en\n",
      "---- INFO: Found 7938 valid translation pairs in expert dictionary.\n",
      "---- INFO: 332 other pairs contained at least one unknown word (0 in source language, 332 in target language).\n",
      "---- INFO: Resulting subspace dimension: (7938, 300)\n",
      "---- INFO: Resulting subspace dimension: (7938, 300)\n",
      "---- DONE: Projection matrix learned from fr to en\n",
      "---- DONE: All chunks loaded\n",
      "---- DONE: Chunks loaded for en-fr\n",
      "\n",
      "---- INFO: Start computing the MAP\n",
      "---- INFO: Probabilities predicted\n",
      "---- INFO: Dataframe with evaluation ranking created\n",
      "---- INFO: Probabilities sorted for each query\n",
      "---- INFO: Index of ranking of true translation retrieved\n",
      "---- MAP: 0.6228918616956218\n",
      "---- TIME 2020-05-25 01:33:45.593813: Computation time: 0:08:17.504650\n"
     ]
    }
   ],
   "source": [
    "print('Unsupervised evaluation on English/French')\n",
    "print('-' * 60)\n",
    "rank_unsupervised('en', 'fr')"
   ]
  },
  {
   "cell_type": "code",
   "execution_count": 7,
   "metadata": {},
   "outputs": [
    {
     "name": "stdout",
     "output_type": "stream",
     "text": [
      "Unsupervised evaluation on French/English\n",
      "------------------------------------------------------------\n",
      "---- INFO: Learn projection matrix for fr-en\n",
      "---- INFO: Found 7938 valid translation pairs in expert dictionary.\n",
      "---- INFO: 332 other pairs contained at least one unknown word (0 in source language, 332 in target language).\n",
      "---- INFO: Resulting subspace dimension: (7938, 300)\n",
      "---- INFO: Resulting subspace dimension: (7938, 300)\n",
      "---- DONE: Projection matrix learned from fr to en\n",
      "---- INFO: Learn projection matrix for en-fr\n",
      "---- INFO: Found 10369 valid translation pairs in expert dictionary.\n",
      "---- INFO: 503 other pairs contained at least one unknown word (0 in source language, 503 in target language).\n",
      "---- INFO: Resulting subspace dimension: (10369, 300)\n",
      "---- INFO: Resulting subspace dimension: (10369, 300)\n",
      "---- DONE: Projection matrix learned from en to fr\n",
      "---- DONE: All chunks loaded\n",
      "---- DONE: Chunks loaded for fr-en\n",
      "\n",
      "---- INFO: Start computing the MAP\n",
      "---- INFO: Probabilities predicted\n",
      "---- INFO: Dataframe with evaluation ranking created\n",
      "---- INFO: Probabilities sorted for each query\n",
      "---- INFO: Index of ranking of true translation retrieved\n",
      "---- MAP: 0.48156012491226335\n",
      "---- TIME 2020-05-25 01:44:08.886928: Computation time: 0:08:06.834541\n"
     ]
    }
   ],
   "source": [
    "print('Unsupervised evaluation on French/English')\n",
    "print('-' * 60)\n",
    "rank_unsupervised('fr', 'en')"
   ]
  },
  {
   "cell_type": "markdown",
   "metadata": {},
   "source": [
    "### Finnish"
   ]
  },
  {
   "cell_type": "code",
   "execution_count": 8,
   "metadata": {},
   "outputs": [
    {
     "name": "stdout",
     "output_type": "stream",
     "text": [
      "Unsupervised evaluation on English/Finnish\n",
      "------------------------------------------------------------\n",
      "---- INFO: Learn projection matrix for en-fi\n",
      "---- INFO: Found 10141 valid translation pairs in expert dictionary.\n",
      "---- INFO: 1355 other pairs contained at least one unknown word (0 in source language, 1355 in target language).\n",
      "---- INFO: Resulting subspace dimension: (10141, 300)\n",
      "---- INFO: Resulting subspace dimension: (10141, 300)\n",
      "---- DONE: Projection matrix learned from en to fi\n",
      "---- INFO: Learn projection matrix for fi-en\n",
      "---- INFO: Found 6946 valid translation pairs in expert dictionary.\n",
      "---- INFO: 185 other pairs contained at least one unknown word (0 in source language, 185 in target language).\n",
      "---- INFO: Resulting subspace dimension: (6946, 300)\n",
      "---- INFO: Resulting subspace dimension: (6946, 300)\n",
      "---- DONE: Projection matrix learned from fi to en\n",
      "---- DONE: All chunks loaded\n",
      "---- DONE: Chunks loaded for en-fi\n",
      "\n",
      "---- INFO: Start computing the MAP\n",
      "---- INFO: Probabilities predicted\n",
      "---- INFO: Dataframe with evaluation ranking created\n",
      "---- INFO: Probabilities sorted for each query\n",
      "---- INFO: Index of ranking of true translation retrieved\n",
      "---- MAP: 0.19929018454074243\n",
      "---- TIME 2020-05-25 01:54:10.703622: Computation time: 0:07:57.046171\n"
     ]
    }
   ],
   "source": [
    "print('Unsupervised evaluation on English/Finnish')\n",
    "print('-' * 60)\n",
    "rank_unsupervised('en', 'fi')"
   ]
  },
  {
   "cell_type": "code",
   "execution_count": 9,
   "metadata": {},
   "outputs": [
    {
     "name": "stdout",
     "output_type": "stream",
     "text": [
      "Unsupervised evaluation on Finnish/English\n",
      "------------------------------------------------------------\n",
      "---- INFO: Learn projection matrix for fi-en\n",
      "---- INFO: Found 6946 valid translation pairs in expert dictionary.\n",
      "---- INFO: 185 other pairs contained at least one unknown word (0 in source language, 185 in target language).\n",
      "---- INFO: Resulting subspace dimension: (6946, 300)\n",
      "---- INFO: Resulting subspace dimension: (6946, 300)\n",
      "---- DONE: Projection matrix learned from fi to en\n",
      "---- INFO: Learn projection matrix for en-fi\n",
      "---- INFO: Found 10141 valid translation pairs in expert dictionary.\n",
      "---- INFO: 1355 other pairs contained at least one unknown word (0 in source language, 1355 in target language).\n",
      "---- INFO: Resulting subspace dimension: (10141, 300)\n",
      "---- INFO: Resulting subspace dimension: (10141, 300)\n",
      "---- DONE: Projection matrix learned from en to fi\n",
      "---- DONE: All chunks loaded\n",
      "---- DONE: Chunks loaded for fi-en\n",
      "\n",
      "---- INFO: Start computing the MAP\n",
      "---- INFO: Probabilities predicted\n",
      "---- INFO: Dataframe with evaluation ranking created\n",
      "---- INFO: Probabilities sorted for each query\n",
      "---- INFO: Index of ranking of true translation retrieved\n",
      "---- MAP: 0.21605082587443594\n",
      "---- TIME 2020-05-25 02:03:38.568127: Computation time: 0:07:44.637590\n"
     ]
    }
   ],
   "source": [
    "print('Unsupervised evaluation on Finnish/English')\n",
    "print('-' * 60)\n",
    "rank_unsupervised('fi', 'en')"
   ]
  }
 ],
 "metadata": {
  "kernelspec": {
   "display_name": "Python 3",
   "language": "python",
   "name": "python3"
  },
  "language_info": {
   "codemirror_mode": {
    "name": "ipython",
    "version": 3
   },
   "file_extension": ".py",
   "mimetype": "text/x-python",
   "name": "python",
   "nbconvert_exporter": "python",
   "pygments_lexer": "ipython3",
   "version": "3.7.2"
  }
 },
 "nbformat": 4,
 "nbformat_minor": 4
}
